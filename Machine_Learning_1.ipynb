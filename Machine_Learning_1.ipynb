{
 "cells": [
  {
   "cell_type": "markdown",
   "id": "trained-camel",
   "metadata": {},
   "source": [
    "# Linear Regression Single Variable"
   ]
  },
  {
   "cell_type": "code",
   "execution_count": 2,
   "id": "herbal-thirty",
   "metadata": {
    "ExecuteTime": {
     "end_time": "2021-04-05T19:11:00.657754Z",
     "start_time": "2021-04-05T19:11:00.331036Z"
    }
   },
   "outputs": [],
   "source": [
    "import pandas as pd "
   ]
  },
  {
   "cell_type": "code",
   "execution_count": 3,
   "id": "athletic-class",
   "metadata": {
    "ExecuteTime": {
     "end_time": "2021-04-05T19:11:00.846528Z",
     "start_time": "2021-04-05T19:11:00.834544Z"
    }
   },
   "outputs": [],
   "source": [
    "import numpy as np"
   ]
  },
  {
   "cell_type": "code",
   "execution_count": 5,
   "id": "neural-input",
   "metadata": {
    "ExecuteTime": {
     "end_time": "2021-04-05T19:11:05.344892Z",
     "start_time": "2021-04-05T19:11:05.327738Z"
    }
   },
   "outputs": [],
   "source": [
    "import matplotlib.pyplot as plt"
   ]
  },
  {
   "cell_type": "code",
   "execution_count": 6,
   "id": "appreciated-fancy",
   "metadata": {
    "ExecuteTime": {
     "end_time": "2021-04-05T19:11:07.197512Z",
     "start_time": "2021-04-05T19:11:06.098986Z"
    }
   },
   "outputs": [],
   "source": [
    "from sklearn import linear_model"
   ]
  },
  {
   "cell_type": "code",
   "execution_count": 7,
   "id": "regulated-beijing",
   "metadata": {
    "ExecuteTime": {
     "end_time": "2021-04-05T19:11:07.228067Z",
     "start_time": "2021-04-05T19:11:07.216313Z"
    }
   },
   "outputs": [],
   "source": [
    "home_price = {\n",
    "    'area': [2600, 3000, 3200, 3600, 4000],\n",
    "    'price': [550000, 565000, 610000, 680000, 725000]\n",
    "}"
   ]
  },
  {
   "cell_type": "code",
   "execution_count": 8,
   "id": "tired-shadow",
   "metadata": {
    "ExecuteTime": {
     "end_time": "2021-04-05T19:11:07.259996Z",
     "start_time": "2021-04-05T19:11:07.245003Z"
    }
   },
   "outputs": [
    {
     "data": {
      "text/plain": [
       "dict"
      ]
     },
     "execution_count": 8,
     "metadata": {},
     "output_type": "execute_result"
    }
   ],
   "source": [
    "type(home_price)"
   ]
  },
  {
   "cell_type": "code",
   "execution_count": 9,
   "id": "first-houston",
   "metadata": {
    "ExecuteTime": {
     "end_time": "2021-04-05T19:11:08.338941Z",
     "start_time": "2021-04-05T19:11:08.331956Z"
    }
   },
   "outputs": [],
   "source": [
    "df = pd.DataFrame.from_dict(home_price)"
   ]
  },
  {
   "cell_type": "code",
   "execution_count": 10,
   "id": "afraid-letters",
   "metadata": {
    "ExecuteTime": {
     "end_time": "2021-04-05T19:11:09.399360Z",
     "start_time": "2021-04-05T19:11:09.386745Z"
    }
   },
   "outputs": [
    {
     "data": {
      "text/html": [
       "<div>\n",
       "<style scoped>\n",
       "    .dataframe tbody tr th:only-of-type {\n",
       "        vertical-align: middle;\n",
       "    }\n",
       "\n",
       "    .dataframe tbody tr th {\n",
       "        vertical-align: top;\n",
       "    }\n",
       "\n",
       "    .dataframe thead th {\n",
       "        text-align: right;\n",
       "    }\n",
       "</style>\n",
       "<table border=\"1\" class=\"dataframe\">\n",
       "  <thead>\n",
       "    <tr style=\"text-align: right;\">\n",
       "      <th></th>\n",
       "      <th>area</th>\n",
       "      <th>price</th>\n",
       "    </tr>\n",
       "  </thead>\n",
       "  <tbody>\n",
       "    <tr>\n",
       "      <th>0</th>\n",
       "      <td>2600</td>\n",
       "      <td>550000</td>\n",
       "    </tr>\n",
       "    <tr>\n",
       "      <th>1</th>\n",
       "      <td>3000</td>\n",
       "      <td>565000</td>\n",
       "    </tr>\n",
       "    <tr>\n",
       "      <th>2</th>\n",
       "      <td>3200</td>\n",
       "      <td>610000</td>\n",
       "    </tr>\n",
       "    <tr>\n",
       "      <th>3</th>\n",
       "      <td>3600</td>\n",
       "      <td>680000</td>\n",
       "    </tr>\n",
       "    <tr>\n",
       "      <th>4</th>\n",
       "      <td>4000</td>\n",
       "      <td>725000</td>\n",
       "    </tr>\n",
       "  </tbody>\n",
       "</table>\n",
       "</div>"
      ],
      "text/plain": [
       "   area   price\n",
       "0  2600  550000\n",
       "1  3000  565000\n",
       "2  3200  610000\n",
       "3  3600  680000\n",
       "4  4000  725000"
      ]
     },
     "execution_count": 10,
     "metadata": {},
     "output_type": "execute_result"
    }
   ],
   "source": [
    "df"
   ]
  },
  {
   "cell_type": "code",
   "execution_count": 81,
   "id": "aerial-finnish",
   "metadata": {
    "ExecuteTime": {
     "end_time": "2021-04-05T19:47:06.318210Z",
     "start_time": "2021-04-05T19:47:06.188517Z"
    }
   },
   "outputs": [
    {
     "data": {
      "image/png": "[encoded data removed]",
      "text/plain": [
       "<Figure size 360x360 with 1 Axes>"
      ]
     },
     "metadata": {
      "needs_background": "light"
     },
     "output_type": "display_data"
    }
   ],
   "source": [
    "%matplotlib inline\n",
    "\n",
    "plt.figure(figsize=(5, 5))\n",
    "plt.scatter(df['area'],\n",
    "            df['price'],\n",
    "            label='home_price',\n",
    "            color='red',\n",
    "            marker='+')\n",
    "plt.xlabel('area')\n",
    "plt.ylabel('price')\n",
    "\n",
    "plt.title('Housing Price vs. Area')\n",
    "plt.legend(loc=4)\n",
    "plt.show()"
   ]
  },
  {
   "cell_type": "code",
   "execution_count": 13,
   "id": "handy-keyboard",
   "metadata": {
    "ExecuteTime": {
     "end_time": "2021-04-05T19:11:13.263813Z",
     "start_time": "2021-04-05T19:11:13.251107Z"
    }
   },
   "outputs": [
    {
     "data": {
      "text/plain": [
       "LinearRegression()"
      ]
     },
     "execution_count": 13,
     "metadata": {},
     "output_type": "execute_result"
    }
   ],
   "source": [
    "reg = linear_model.LinearRegression()\n",
    "reg.fit(df[['area']],df['price'] )"
   ]
  },
  {
   "cell_type": "code",
   "execution_count": 67,
   "id": "historic-dealer",
   "metadata": {
    "ExecuteTime": {
     "end_time": "2021-04-05T19:42:30.557501Z",
     "start_time": "2021-04-05T19:42:30.538555Z"
    }
   },
   "outputs": [
    {
     "data": {
      "text/plain": [
       "array([628715.75342466])"
      ]
     },
     "execution_count": 67,
     "metadata": {},
     "output_type": "execute_result"
    }
   ],
   "source": [
    "reg.predict([[3300]])"
   ]
  },
  {
   "cell_type": "code",
   "execution_count": 68,
   "id": "increasing-adrian",
   "metadata": {
    "ExecuteTime": {
     "end_time": "2021-04-05T19:42:31.340131Z",
     "start_time": "2021-04-05T19:42:31.323146Z"
    }
   },
   "outputs": [],
   "source": [
    "m = reg.coef_"
   ]
  },
  {
   "cell_type": "code",
   "execution_count": 69,
   "id": "ordered-specification",
   "metadata": {
    "ExecuteTime": {
     "end_time": "2021-04-05T19:42:32.135033Z",
     "start_time": "2021-04-05T19:42:32.125477Z"
    }
   },
   "outputs": [],
   "source": [
    "b = reg.intercept_"
   ]
  },
  {
   "cell_type": "code",
   "execution_count": 70,
   "id": "major-korea",
   "metadata": {
    "ExecuteTime": {
     "end_time": "2021-04-05T19:42:32.867140Z",
     "start_time": "2021-04-05T19:42:32.858084Z"
    }
   },
   "outputs": [
    {
     "name": "stdout",
     "output_type": "stream",
     "text": [
      "[628715.75342466]\n"
     ]
    }
   ],
   "source": [
    "y = m * 3300 + b\n",
    "\n",
    "print (y)"
   ]
  },
  {
   "cell_type": "code",
   "execution_count": 71,
   "id": "limiting-maine",
   "metadata": {
    "ExecuteTime": {
     "end_time": "2021-04-05T19:42:33.742214Z",
     "start_time": "2021-04-05T19:42:33.729888Z"
    }
   },
   "outputs": [],
   "source": [
    "area = np.array([\n",
    "    1000, 1500, 2300, 3540, 4120, 4560, 5490, 3460, 4750, 2300, 9000, 8600,\n",
    "    7100\n",
    "]).reshape(-1, 1)"
   ]
  },
  {
   "cell_type": "code",
   "execution_count": 72,
   "id": "chief-accordance",
   "metadata": {
    "ExecuteTime": {
     "end_time": "2021-04-05T19:42:36.291293Z",
     "start_time": "2021-04-05T19:42:36.277659Z"
    }
   },
   "outputs": [
    {
     "data": {
      "text/plain": [
       "(13, 1)"
      ]
     },
     "execution_count": 72,
     "metadata": {},
     "output_type": "execute_result"
    }
   ],
   "source": [
    "area.shape"
   ]
  },
  {
   "cell_type": "code",
   "execution_count": 73,
   "id": "infinite-proposition",
   "metadata": {
    "ExecuteTime": {
     "end_time": "2021-04-05T19:42:37.713337Z",
     "start_time": "2021-04-05T19:42:37.706355Z"
    }
   },
   "outputs": [],
   "source": [
    "p = reg.predict(area)"
   ]
  },
  {
   "cell_type": "code",
   "execution_count": 74,
   "id": "conceptual-layout",
   "metadata": {
    "ExecuteTime": {
     "end_time": "2021-04-05T19:42:47.243411Z",
     "start_time": "2021-04-05T19:42:47.235787Z"
    }
   },
   "outputs": [
    {
     "name": "stdout",
     "output_type": "stream",
     "text": [
      "[0, 1, 2, 3, 4, 5, 6, 7, 8, 9, 10, 11, 12]\n"
     ]
    }
   ],
   "source": [
    "df_predict_index = np.arange(0,13).tolist()\n",
    "print(df_predict_index)"
   ]
  },
  {
   "cell_type": "code",
   "execution_count": 75,
   "id": "structural-round",
   "metadata": {
    "ExecuteTime": {
     "end_time": "2021-04-05T19:42:54.249467Z",
     "start_time": "2021-04-05T19:42:54.231698Z"
    }
   },
   "outputs": [],
   "source": [
    "df_predict = pd.DataFrame(data=area, index= df_predict_index, columns=['area'] )"
   ]
  },
  {
   "cell_type": "code",
   "execution_count": 76,
   "id": "graphic-substance",
   "metadata": {
    "ExecuteTime": {
     "end_time": "2021-04-05T19:42:56.089122Z",
     "start_time": "2021-04-05T19:42:56.078642Z"
    }
   },
   "outputs": [
    {
     "data": {
      "text/html": [
       "<div>\n",
       "<style scoped>\n",
       "    .dataframe tbody tr th:only-of-type {\n",
       "        vertical-align: middle;\n",
       "    }\n",
       "\n",
       "    .dataframe tbody tr th {\n",
       "        vertical-align: top;\n",
       "    }\n",
       "\n",
       "    .dataframe thead th {\n",
       "        text-align: right;\n",
       "    }\n",
       "</style>\n",
       "<table border=\"1\" class=\"dataframe\">\n",
       "  <thead>\n",
       "    <tr style=\"text-align: right;\">\n",
       "      <th></th>\n",
       "      <th>area</th>\n",
       "    </tr>\n",
       "  </thead>\n",
       "  <tbody>\n",
       "    <tr>\n",
       "      <th>0</th>\n",
       "      <td>1000</td>\n",
       "    </tr>\n",
       "    <tr>\n",
       "      <th>1</th>\n",
       "      <td>1500</td>\n",
       "    </tr>\n",
       "    <tr>\n",
       "      <th>2</th>\n",
       "      <td>2300</td>\n",
       "    </tr>\n",
       "  </tbody>\n",
       "</table>\n",
       "</div>"
      ],
      "text/plain": [
       "   area\n",
       "0  1000\n",
       "1  1500\n",
       "2  2300"
      ]
     },
     "execution_count": 76,
     "metadata": {},
     "output_type": "execute_result"
    }
   ],
   "source": [
    "df_predict.head(3)"
   ]
  },
  {
   "cell_type": "code",
   "execution_count": 79,
   "id": "confused-removal",
   "metadata": {
    "ExecuteTime": {
     "end_time": "2021-04-05T19:44:31.696809Z",
     "start_time": "2021-04-05T19:44:31.677321Z"
    }
   },
   "outputs": [
    {
     "data": {
      "text/html": [
       "<div>\n",
       "<style scoped>\n",
       "    .dataframe tbody tr th:only-of-type {\n",
       "        vertical-align: middle;\n",
       "    }\n",
       "\n",
       "    .dataframe tbody tr th {\n",
       "        vertical-align: top;\n",
       "    }\n",
       "\n",
       "    .dataframe thead th {\n",
       "        text-align: right;\n",
       "    }\n",
       "</style>\n",
       "<table border=\"1\" class=\"dataframe\">\n",
       "  <thead>\n",
       "    <tr style=\"text-align: right;\">\n",
       "      <th></th>\n",
       "      <th>area</th>\n",
       "      <th>predicted_price</th>\n",
       "    </tr>\n",
       "  </thead>\n",
       "  <tbody>\n",
       "    <tr>\n",
       "      <th>0</th>\n",
       "      <td>1000</td>\n",
       "      <td>3.164041e+05</td>\n",
       "    </tr>\n",
       "    <tr>\n",
       "      <th>1</th>\n",
       "      <td>1500</td>\n",
       "      <td>3.842979e+05</td>\n",
       "    </tr>\n",
       "    <tr>\n",
       "      <th>2</th>\n",
       "      <td>2300</td>\n",
       "      <td>4.929281e+05</td>\n",
       "    </tr>\n",
       "    <tr>\n",
       "      <th>3</th>\n",
       "      <td>3540</td>\n",
       "      <td>6.613048e+05</td>\n",
       "    </tr>\n",
       "    <tr>\n",
       "      <th>4</th>\n",
       "      <td>4120</td>\n",
       "      <td>7.400616e+05</td>\n",
       "    </tr>\n",
       "    <tr>\n",
       "      <th>5</th>\n",
       "      <td>4560</td>\n",
       "      <td>7.998082e+05</td>\n",
       "    </tr>\n",
       "    <tr>\n",
       "      <th>6</th>\n",
       "      <td>5490</td>\n",
       "      <td>9.260908e+05</td>\n",
       "    </tr>\n",
       "    <tr>\n",
       "      <th>7</th>\n",
       "      <td>3460</td>\n",
       "      <td>6.504418e+05</td>\n",
       "    </tr>\n",
       "    <tr>\n",
       "      <th>8</th>\n",
       "      <td>4750</td>\n",
       "      <td>8.256079e+05</td>\n",
       "    </tr>\n",
       "    <tr>\n",
       "      <th>9</th>\n",
       "      <td>2300</td>\n",
       "      <td>4.929281e+05</td>\n",
       "    </tr>\n",
       "    <tr>\n",
       "      <th>10</th>\n",
       "      <td>9000</td>\n",
       "      <td>1.402705e+06</td>\n",
       "    </tr>\n",
       "    <tr>\n",
       "      <th>11</th>\n",
       "      <td>8600</td>\n",
       "      <td>1.348390e+06</td>\n",
       "    </tr>\n",
       "    <tr>\n",
       "      <th>12</th>\n",
       "      <td>7100</td>\n",
       "      <td>1.144709e+06</td>\n",
       "    </tr>\n",
       "  </tbody>\n",
       "</table>\n",
       "</div>"
      ],
      "text/plain": [
       "    area  predicted_price\n",
       "0   1000     3.164041e+05\n",
       "1   1500     3.842979e+05\n",
       "2   2300     4.929281e+05\n",
       "3   3540     6.613048e+05\n",
       "4   4120     7.400616e+05\n",
       "5   4560     7.998082e+05\n",
       "6   5490     9.260908e+05\n",
       "7   3460     6.504418e+05\n",
       "8   4750     8.256079e+05\n",
       "9   2300     4.929281e+05\n",
       "10  9000     1.402705e+06\n",
       "11  8600     1.348390e+06\n",
       "12  7100     1.144709e+06"
      ]
     },
     "execution_count": 79,
     "metadata": {},
     "output_type": "execute_result"
    }
   ],
   "source": [
    "df_predict['predicted_price'] = p\n",
    "df_predict"
   ]
  },
  {
   "cell_type": "code",
   "execution_count": 80,
   "id": "violent-narrative",
   "metadata": {
    "ExecuteTime": {
     "end_time": "2021-04-05T19:45:16.356709Z",
     "start_time": "2021-04-05T19:45:16.339785Z"
    }
   },
   "outputs": [],
   "source": [
    "df_predict.to_csv('prediction.csv', index = False)"
   ]
  },
  {
   "cell_type": "code",
   "execution_count": 82,
   "id": "trying-catch",
   "metadata": {
    "ExecuteTime": {
     "end_time": "2021-04-05T19:49:38.949130Z",
     "start_time": "2021-04-05T19:49:38.816460Z"
    }
   },
   "outputs": [
    {
     "data": {
      "image/png": "[encoded data removed]",
      "text/plain": [
       "<Figure size 360x360 with 1 Axes>"
      ]
     },
     "metadata": {
      "needs_background": "light"
     },
     "output_type": "display_data"
    }
   ],
   "source": [
    "%matplotlib inline\n",
    "\n",
    "plt.figure(figsize=(5,5))\n",
    "plt.scatter(df['area'], df['price'], label='home_price', color='red',marker='+')\n",
    "plt.plot (df_predict['area'], df_predict['predicted_price'])\n",
    "plt.xlabel('area')\n",
    "plt.ylabel('price')\n",
    "\n",
    "plt.title('Housing Price vs. Area')\n",
    "plt.legend(loc=4)\n",
    "plt.show()"
   ]
  },
  {
   "cell_type": "markdown",
   "id": "empirical-somalia",
   "metadata": {},
   "source": [
    "## Exercise "
   ]
  },
  {
   "cell_type": "markdown",
   "id": "exempt-edwards",
   "metadata": {},
   "source": [
    "Predict canada's per capita income in year 2020. There is an exercise folder here on github at same level as this notebook, download that and you will find canada_per_capita_income.csv file. Using this build a regression model and predict the per capita income fo canadian citizens in year 2020"
   ]
  },
  {
   "cell_type": "code",
   "execution_count": 83,
   "id": "uniform-deviation",
   "metadata": {
    "ExecuteTime": {
     "end_time": "2021-04-05T19:58:33.060535Z",
     "start_time": "2021-04-05T19:58:33.030898Z"
    }
   },
   "outputs": [],
   "source": [
    "income_df = pd.read_csv('D:/GitHub/py/ML/1_linear_reg/Exercise/canada_per_capita_income.csv')"
   ]
  },
  {
   "cell_type": "code",
   "execution_count": 84,
   "id": "purple-variable",
   "metadata": {
    "ExecuteTime": {
     "end_time": "2021-04-05T19:58:43.041756Z",
     "start_time": "2021-04-05T19:58:43.024802Z"
    }
   },
   "outputs": [
    {
     "data": {
      "text/html": [
       "<div>\n",
       "<style scoped>\n",
       "    .dataframe tbody tr th:only-of-type {\n",
       "        vertical-align: middle;\n",
       "    }\n",
       "\n",
       "    .dataframe tbody tr th {\n",
       "        vertical-align: top;\n",
       "    }\n",
       "\n",
       "    .dataframe thead th {\n",
       "        text-align: right;\n",
       "    }\n",
       "</style>\n",
       "<table border=\"1\" class=\"dataframe\">\n",
       "  <thead>\n",
       "    <tr style=\"text-align: right;\">\n",
       "      <th></th>\n",
       "      <th>year</th>\n",
       "      <th>per capita income (US$)</th>\n",
       "    </tr>\n",
       "  </thead>\n",
       "  <tbody>\n",
       "    <tr>\n",
       "      <th>0</th>\n",
       "      <td>1970</td>\n",
       "      <td>3399.299037</td>\n",
       "    </tr>\n",
       "    <tr>\n",
       "      <th>1</th>\n",
       "      <td>1971</td>\n",
       "      <td>3768.297935</td>\n",
       "    </tr>\n",
       "    <tr>\n",
       "      <th>2</th>\n",
       "      <td>1972</td>\n",
       "      <td>4251.175484</td>\n",
       "    </tr>\n",
       "    <tr>\n",
       "      <th>3</th>\n",
       "      <td>1973</td>\n",
       "      <td>4804.463248</td>\n",
       "    </tr>\n",
       "    <tr>\n",
       "      <th>4</th>\n",
       "      <td>1974</td>\n",
       "      <td>5576.514583</td>\n",
       "    </tr>\n",
       "  </tbody>\n",
       "</table>\n",
       "</div>"
      ],
      "text/plain": [
       "   year  per capita income (US$)\n",
       "0  1970              3399.299037\n",
       "1  1971              3768.297935\n",
       "2  1972              4251.175484\n",
       "3  1973              4804.463248\n",
       "4  1974              5576.514583"
      ]
     },
     "execution_count": 84,
     "metadata": {},
     "output_type": "execute_result"
    }
   ],
   "source": [
    "income_df.head()"
   ]
  },
  {
   "cell_type": "code",
   "execution_count": 85,
   "id": "brown-printing",
   "metadata": {
    "ExecuteTime": {
     "end_time": "2021-04-05T20:00:49.292580Z",
     "start_time": "2021-04-05T20:00:49.280439Z"
    }
   },
   "outputs": [
    {
     "data": {
      "text/plain": [
       "Index(['year', 'per capita income (US$)'], dtype='object')"
      ]
     },
     "execution_count": 85,
     "metadata": {},
     "output_type": "execute_result"
    }
   ],
   "source": [
    "income_df.columns"
   ]
  },
  {
   "cell_type": "code",
   "execution_count": 96,
   "id": "associate-recipient",
   "metadata": {
    "ExecuteTime": {
     "end_time": "2021-04-05T20:06:01.089472Z",
     "start_time": "2021-04-05T20:06:01.071313Z"
    }
   },
   "outputs": [],
   "source": [
    "income_df=income_df.rename(columns={'per capita income (US$)': 'income'})"
   ]
  },
  {
   "cell_type": "code",
   "execution_count": 97,
   "id": "thick-percentage",
   "metadata": {
    "ExecuteTime": {
     "end_time": "2021-04-05T20:06:04.842293Z",
     "start_time": "2021-04-05T20:06:04.817326Z"
    }
   },
   "outputs": [
    {
     "data": {
      "text/html": [
       "<div>\n",
       "<style scoped>\n",
       "    .dataframe tbody tr th:only-of-type {\n",
       "        vertical-align: middle;\n",
       "    }\n",
       "\n",
       "    .dataframe tbody tr th {\n",
       "        vertical-align: top;\n",
       "    }\n",
       "\n",
       "    .dataframe thead th {\n",
       "        text-align: right;\n",
       "    }\n",
       "</style>\n",
       "<table border=\"1\" class=\"dataframe\">\n",
       "  <thead>\n",
       "    <tr style=\"text-align: right;\">\n",
       "      <th></th>\n",
       "      <th>year</th>\n",
       "      <th>income</th>\n",
       "    </tr>\n",
       "  </thead>\n",
       "  <tbody>\n",
       "    <tr>\n",
       "      <th>count</th>\n",
       "      <td>47.000000</td>\n",
       "      <td>47.000000</td>\n",
       "    </tr>\n",
       "    <tr>\n",
       "      <th>mean</th>\n",
       "      <td>1993.000000</td>\n",
       "      <td>18920.137063</td>\n",
       "    </tr>\n",
       "    <tr>\n",
       "      <th>std</th>\n",
       "      <td>13.711309</td>\n",
       "      <td>12034.679438</td>\n",
       "    </tr>\n",
       "    <tr>\n",
       "      <th>min</th>\n",
       "      <td>1970.000000</td>\n",
       "      <td>3399.299037</td>\n",
       "    </tr>\n",
       "    <tr>\n",
       "      <th>25%</th>\n",
       "      <td>1981.500000</td>\n",
       "      <td>9526.914515</td>\n",
       "    </tr>\n",
       "    <tr>\n",
       "      <th>50%</th>\n",
       "      <td>1993.000000</td>\n",
       "      <td>16426.725480</td>\n",
       "    </tr>\n",
       "    <tr>\n",
       "      <th>75%</th>\n",
       "      <td>2004.500000</td>\n",
       "      <td>27458.601420</td>\n",
       "    </tr>\n",
       "    <tr>\n",
       "      <th>max</th>\n",
       "      <td>2016.000000</td>\n",
       "      <td>42676.468370</td>\n",
       "    </tr>\n",
       "  </tbody>\n",
       "</table>\n",
       "</div>"
      ],
      "text/plain": [
       "              year        income\n",
       "count    47.000000     47.000000\n",
       "mean   1993.000000  18920.137063\n",
       "std      13.711309  12034.679438\n",
       "min    1970.000000   3399.299037\n",
       "25%    1981.500000   9526.914515\n",
       "50%    1993.000000  16426.725480\n",
       "75%    2004.500000  27458.601420\n",
       "max    2016.000000  42676.468370"
      ]
     },
     "execution_count": 97,
     "metadata": {},
     "output_type": "execute_result"
    }
   ],
   "source": [
    "income_df.describe()"
   ]
  },
  {
   "cell_type": "code",
   "execution_count": 98,
   "id": "congressional-sigma",
   "metadata": {
    "ExecuteTime": {
     "end_time": "2021-04-05T20:06:08.844840Z",
     "start_time": "2021-04-05T20:06:08.831252Z"
    }
   },
   "outputs": [
    {
     "name": "stdout",
     "output_type": "stream",
     "text": [
      "<class 'pandas.core.frame.DataFrame'>\n",
      "RangeIndex: 47 entries, 0 to 46\n",
      "Data columns (total 2 columns):\n",
      " #   Column  Non-Null Count  Dtype  \n",
      "---  ------  --------------  -----  \n",
      " 0   year    47 non-null     int64  \n",
      " 1   income  47 non-null     float64\n",
      "dtypes: float64(1), int64(1)\n",
      "memory usage: 880.0 bytes\n"
     ]
    }
   ],
   "source": [
    "income_df.info()"
   ]
  },
  {
   "cell_type": "code",
   "execution_count": 99,
   "id": "herbal-right",
   "metadata": {
    "ExecuteTime": {
     "end_time": "2021-04-05T20:06:14.280792Z",
     "start_time": "2021-04-05T20:06:14.266276Z"
    }
   },
   "outputs": [
    {
     "data": {
      "text/plain": [
       "(47, 2)"
      ]
     },
     "execution_count": 99,
     "metadata": {},
     "output_type": "execute_result"
    }
   ],
   "source": [
    "income_df.shape"
   ]
  },
  {
   "cell_type": "code",
   "execution_count": 100,
   "id": "figured-marks",
   "metadata": {
    "ExecuteTime": {
     "end_time": "2021-04-05T20:06:21.506201Z",
     "start_time": "2021-04-05T20:06:21.474121Z"
    }
   },
   "outputs": [
    {
     "data": {
      "text/plain": [
       "LinearRegression()"
      ]
     },
     "execution_count": 100,
     "metadata": {},
     "output_type": "execute_result"
    }
   ],
   "source": [
    "reg = linear_model.LinearRegression()\n",
    "reg.fit(income_df[['year']], income_df[['income']])"
   ]
  },
  {
   "cell_type": "code",
   "execution_count": 101,
   "id": "collectible-brown",
   "metadata": {
    "ExecuteTime": {
     "end_time": "2021-04-05T20:08:42.423966Z",
     "start_time": "2021-04-05T20:08:42.406310Z"
    }
   },
   "outputs": [
    {
     "data": {
      "text/plain": [
       "array([[828.46507522]])"
      ]
     },
     "execution_count": 101,
     "metadata": {},
     "output_type": "execute_result"
    }
   ],
   "source": [
    "reg.coef_"
   ]
  },
  {
   "cell_type": "code",
   "execution_count": 102,
   "id": "instrumental-receptor",
   "metadata": {
    "ExecuteTime": {
     "end_time": "2021-04-05T20:09:03.948274Z",
     "start_time": "2021-04-05T20:09:03.932854Z"
    }
   },
   "outputs": [
    {
     "data": {
      "text/plain": [
       "array([-1632210.75785546])"
      ]
     },
     "execution_count": 102,
     "metadata": {},
     "output_type": "execute_result"
    }
   ],
   "source": [
    "reg.intercept_"
   ]
  },
  {
   "cell_type": "code",
   "execution_count": 108,
   "id": "loose-foundation",
   "metadata": {
    "ExecuteTime": {
     "end_time": "2021-04-05T20:13:59.766372Z",
     "start_time": "2021-04-05T20:13:59.747990Z"
    }
   },
   "outputs": [
    {
     "name": "stdout",
     "output_type": "stream",
     "text": [
      "Canada's per capita income in year 2020: [[41288.69409442]]\n"
     ]
    }
   ],
   "source": [
    "print('Canada\\'s per capita income in year 2020: {}'.format(reg.predict([[2020]])))"
   ]
  },
  {
   "cell_type": "code",
   "execution_count": null,
   "id": "accepted-darkness",
   "metadata": {},
   "outputs": [],
   "source": []
  },
  {
   "cell_type": "code",
   "execution_count": null,
   "id": "afraid-pickup",
   "metadata": {},
   "outputs": [],
   "source": []
  },
  {
   "cell_type": "code",
   "execution_count": null,
   "id": "welcome-colorado",
   "metadata": {},
   "outputs": [],
   "source": []
  },
  {
   "cell_type": "code",
   "execution_count": null,
   "id": "collect-letters",
   "metadata": {},
   "outputs": [],
   "source": []
  },
  {
   "cell_type": "code",
   "execution_count": null,
   "id": "improving-variety",
   "metadata": {},
   "outputs": [],
   "source": []
  },
  {
   "cell_type": "code",
   "execution_count": null,
   "id": "extreme-grove",
   "metadata": {},
   "outputs": [],
   "source": []
  },
  {
   "cell_type": "code",
   "execution_count": null,
   "id": "binary-participant",
   "metadata": {},
   "outputs": [],
   "source": []
  },
  {
   "cell_type": "code",
   "execution_count": null,
   "id": "contained-revelation",
   "metadata": {},
   "outputs": [],
   "source": []
  },
  {
   "cell_type": "code",
   "execution_count": null,
   "id": "blank-rates",
   "metadata": {},
   "outputs": [],
   "source": []
  },
  {
   "cell_type": "code",
   "execution_count": null,
   "id": "superior-vegetarian",
   "metadata": {},
   "outputs": [],
   "source": []
  },
  {
   "cell_type": "code",
   "execution_count": null,
   "id": "underlying-beach",
   "metadata": {},
   "outputs": [],
   "source": []
  }
 ],
 "metadata": {
  "kernelspec": {
   "display_name": "Python 3",
   "language": "python",
   "name": "python3"
  },
  "language_info": {
   "codemirror_mode": {
    "name": "ipython",
    "version": 3
   },
   "file_extension": ".py",
   "mimetype": "text/x-python",
   "name": "python",
   "nbconvert_exporter": "python",
   "pygments_lexer": "ipython3",
   "version": "3.7.7"
  },
  "toc": {
   "base_numbering": 1,
   "nav_menu": {},
   "number_sections": true,
   "sideBar": true,
   "skip_h1_title": false,
   "title_cell": "Table of Contents",
   "title_sidebar": "Contents",
   "toc_cell": false,
   "toc_position": {
    "height": "calc(100% - 180px)",
    "left": "10px",
    "top": "150px",
    "width": "252.2px"
   },
   "toc_section_display": true,
   "toc_window_display": false
  },
  "varInspector": {
   "cols": {
    "lenName": 16,
    "lenType": 16,
    "lenVar": 40
   },
   "kernels_config": {
    "python": {
     "delete_cmd_postfix": "",
     "delete_cmd_prefix": "del ",
     "library": "var_list.py",
     "varRefreshCmd": "print(var_dic_list())"
    },
    "r": {
     "delete_cmd_postfix": ") ",
     "delete_cmd_prefix": "rm(",
     "library": "var_list.r",
     "varRefreshCmd": "cat(var_dic_list()) "
    }
   },
   "types_to_exclude": [
    "module",
    "function",
    "builtin_function_or_method",
    "instance",
    "_Feature"
   ],
   "window_display": false
  }
 },
 "nbformat": 4,
 "nbformat_minor": 5
}
