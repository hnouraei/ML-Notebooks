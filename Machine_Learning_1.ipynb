{
 "cells": [
  {
   "cell_type": "markdown",
   "id": "trained-camel",
   "metadata": {},
   "source": [
    "# Linear Regression Single Variable"
   ]
  },
  {
   "cell_type": "code",
   "execution_count": 4,
   "id": "herbal-thirty",
   "metadata": {
    "ExecuteTime": {
     "end_time": "2021-04-06T18:00:52.197499Z",
     "start_time": "2021-04-06T18:00:51.870673Z"
    }
   },
   "outputs": [],
   "source": [
    "import pandas as pd "
   ]
  },
  {
   "cell_type": "code",
   "execution_count": 5,
   "id": "athletic-class",
   "metadata": {
    "ExecuteTime": {
     "end_time": "2021-04-06T18:00:52.384144Z",
     "start_time": "2021-04-06T18:00:52.369953Z"
    }
   },
   "outputs": [],
   "source": [
    "import numpy as np"
   ]
  },
  {
   "cell_type": "code",
   "execution_count": 7,
   "id": "neural-input",
   "metadata": {
    "ExecuteTime": {
     "end_time": "2021-04-06T18:00:57.191037Z",
     "start_time": "2021-04-06T18:00:57.173352Z"
    }
   },
   "outputs": [],
   "source": [
    "import matplotlib.pyplot as plt"
   ]
  },
  {
   "cell_type": "code",
   "execution_count": 8,
   "id": "appreciated-fancy",
   "metadata": {
    "ExecuteTime": {
     "end_time": "2021-04-06T18:00:59.189260Z",
     "start_time": "2021-04-06T18:00:58.159651Z"
    }
   },
   "outputs": [],
   "source": [
    "from sklearn import linear_model"
   ]
  },
  {
   "cell_type": "code",
   "execution_count": 9,
   "id": "regulated-beijing",
   "metadata": {
    "ExecuteTime": {
     "end_time": "2021-04-06T18:00:59.251631Z",
     "start_time": "2021-04-06T18:00:59.236702Z"
    }
   },
   "outputs": [],
   "source": [
    "home_price = {\n",
    "    'area': [2600, 3000, 3200, 3600, 4000],\n",
    "    'price': [550000, 565000, 610000, 680000, 725000]\n",
    "}"
   ]
  },
  {
   "cell_type": "code",
   "execution_count": 10,
   "id": "tired-shadow",
   "metadata": {
    "ExecuteTime": {
     "end_time": "2021-04-06T18:00:59.345453Z",
     "start_time": "2021-04-06T18:00:59.331513Z"
    }
   },
   "outputs": [
    {
     "data": {
      "text/plain": [
       "dict"
      ]
     },
     "execution_count": 10,
     "metadata": {},
     "output_type": "execute_result"
    }
   ],
   "source": [
    "type(home_price)"
   ]
  },
  {
   "cell_type": "code",
   "execution_count": 11,
   "id": "first-houston",
   "metadata": {
    "ExecuteTime": {
     "end_time": "2021-04-06T18:01:00.162923Z",
     "start_time": "2021-04-06T18:01:00.141451Z"
    }
   },
   "outputs": [],
   "source": [
    "df = pd.DataFrame.from_dict(home_price)"
   ]
  },
  {
   "cell_type": "code",
   "execution_count": 12,
   "id": "afraid-letters",
   "metadata": {
    "ExecuteTime": {
     "end_time": "2021-04-06T18:01:01.752100Z",
     "start_time": "2021-04-06T18:01:01.742617Z"
    }
   },
   "outputs": [
    {
     "data": {
      "text/html": [
       "<div>\n",
       "<style scoped>\n",
       "    .dataframe tbody tr th:only-of-type {\n",
       "        vertical-align: middle;\n",
       "    }\n",
       "\n",
       "    .dataframe tbody tr th {\n",
       "        vertical-align: top;\n",
       "    }\n",
       "\n",
       "    .dataframe thead th {\n",
       "        text-align: right;\n",
       "    }\n",
       "</style>\n",
       "<table border=\"1\" class=\"dataframe\">\n",
       "  <thead>\n",
       "    <tr style=\"text-align: right;\">\n",
       "      <th></th>\n",
       "      <th>area</th>\n",
       "      <th>price</th>\n",
       "    </tr>\n",
       "  </thead>\n",
       "  <tbody>\n",
       "    <tr>\n",
       "      <th>0</th>\n",
       "      <td>2600</td>\n",
       "      <td>550000</td>\n",
       "    </tr>\n",
       "    <tr>\n",
       "      <th>1</th>\n",
       "      <td>3000</td>\n",
       "      <td>565000</td>\n",
       "    </tr>\n",
       "    <tr>\n",
       "      <th>2</th>\n",
       "      <td>3200</td>\n",
       "      <td>610000</td>\n",
       "    </tr>\n",
       "    <tr>\n",
       "      <th>3</th>\n",
       "      <td>3600</td>\n",
       "      <td>680000</td>\n",
       "    </tr>\n",
       "    <tr>\n",
       "      <th>4</th>\n",
       "      <td>4000</td>\n",
       "      <td>725000</td>\n",
       "    </tr>\n",
       "  </tbody>\n",
       "</table>\n",
       "</div>"
      ],
      "text/plain": [
       "   area   price\n",
       "0  2600  550000\n",
       "1  3000  565000\n",
       "2  3200  610000\n",
       "3  3600  680000\n",
       "4  4000  725000"
      ]
     },
     "execution_count": 12,
     "metadata": {},
     "output_type": "execute_result"
    }
   ],
   "source": [
    "df"
   ]
  },
  {
   "cell_type": "code",
   "execution_count": 13,
   "id": "aerial-finnish",
   "metadata": {
    "ExecuteTime": {
     "end_time": "2021-04-06T18:01:03.192798Z",
     "start_time": "2021-04-06T18:01:03.030386Z"
    }
   },
   "outputs": [
    {
     "data": {
      "image/png": "[encoded data removed]",
      "text/plain": [
       "<Figure size 360x360 with 1 Axes>"
      ]
     },
     "metadata": {
      "needs_background": "light"
     },
     "output_type": "display_data"
    }
   ],
   "source": [
    "%matplotlib inline\n",
    "\n",
    "plt.figure(figsize=(5, 5))\n",
    "plt.scatter(df['area'],\n",
    "            df['price'],\n",
    "            label='home_price',\n",
    "            color='red',\n",
    "            marker='+')\n",
    "plt.xlabel('area')\n",
    "plt.ylabel('price')\n",
    "\n",
    "plt.title('Housing Price vs. Area')\n",
    "plt.legend(loc=4)\n",
    "plt.show()"
   ]
  },
  {
   "cell_type": "code",
   "execution_count": 15,
   "id": "handy-keyboard",
   "metadata": {
    "ExecuteTime": {
     "end_time": "2021-04-06T18:01:18.555490Z",
     "start_time": "2021-04-06T18:01:18.537570Z"
    }
   },
   "outputs": [
    {
     "data": {
      "text/plain": [
       "LinearRegression()"
      ]
     },
     "execution_count": 15,
     "metadata": {},
     "output_type": "execute_result"
    }
   ],
   "source": [
    "model = linear_model.LinearRegression()\n",
    "model.fit(df[['area']],df['price'] )"
   ]
  },
  {
   "cell_type": "code",
   "execution_count": 16,
   "id": "historic-dealer",
   "metadata": {
    "ExecuteTime": {
     "end_time": "2021-04-06T18:01:23.752534Z",
     "start_time": "2021-04-06T18:01:23.738571Z"
    }
   },
   "outputs": [
    {
     "data": {
      "text/plain": [
       "array([628715.75342466])"
      ]
     },
     "execution_count": 16,
     "metadata": {},
     "output_type": "execute_result"
    }
   ],
   "source": [
    "model.predict([[3300]])"
   ]
  },
  {
   "cell_type": "code",
   "execution_count": 17,
   "id": "increasing-adrian",
   "metadata": {
    "ExecuteTime": {
     "end_time": "2021-04-06T18:01:30.586222Z",
     "start_time": "2021-04-06T18:01:30.575669Z"
    }
   },
   "outputs": [],
   "source": [
    "m = model.coef_"
   ]
  },
  {
   "cell_type": "code",
   "execution_count": 18,
   "id": "ordered-specification",
   "metadata": {
    "ExecuteTime": {
     "end_time": "2021-04-06T18:01:36.370579Z",
     "start_time": "2021-04-06T18:01:36.361091Z"
    }
   },
   "outputs": [],
   "source": [
    "b = model.intercept_"
   ]
  },
  {
   "cell_type": "code",
   "execution_count": 70,
   "id": "major-korea",
   "metadata": {
    "ExecuteTime": {
     "end_time": "2021-04-05T19:42:32.867140Z",
     "start_time": "2021-04-05T19:42:32.858084Z"
    }
   },
   "outputs": [
    {
     "name": "stdout",
     "output_type": "stream",
     "text": [
      "[628715.75342466]\n"
     ]
    }
   ],
   "source": [
    "y = m * 3300 + b\n",
    "\n",
    "print (y)"
   ]
  },
  {
   "cell_type": "code",
   "execution_count": 19,
   "id": "brutal-component",
   "metadata": {
    "ExecuteTime": {
     "end_time": "2021-04-06T18:01:49.397400Z",
     "start_time": "2021-04-06T18:01:49.379738Z"
    }
   },
   "outputs": [],
   "source": [
    "area = np.array([\n",
    "    1000, 1500, 2300, 3540, 4120, 4560, 5490, 3460, 4750, 2300, 9000, 8600,\n",
    "    7100\n",
    "]).reshape(-1, 1)"
   ]
  },
  {
   "cell_type": "code",
   "execution_count": 20,
   "id": "lasting-living",
   "metadata": {
    "ExecuteTime": {
     "end_time": "2021-04-06T18:01:50.116682Z",
     "start_time": "2021-04-06T18:01:50.095657Z"
    }
   },
   "outputs": [
    {
     "data": {
      "text/plain": [
       "(13, 1)"
      ]
     },
     "execution_count": 20,
     "metadata": {},
     "output_type": "execute_result"
    }
   ],
   "source": [
    "area.shape"
   ]
  },
  {
   "cell_type": "code",
   "execution_count": 21,
   "id": "infinite-proposition",
   "metadata": {
    "ExecuteTime": {
     "end_time": "2021-04-06T18:01:50.964234Z",
     "start_time": "2021-04-06T18:01:50.954682Z"
    }
   },
   "outputs": [],
   "source": [
    "p = model.predict(area)"
   ]
  },
  {
   "cell_type": "code",
   "execution_count": 74,
   "id": "overhead-mandate",
   "metadata": {
    "ExecuteTime": {
     "end_time": "2021-04-05T19:42:47.243411Z",
     "start_time": "2021-04-05T19:42:47.235787Z"
    }
   },
   "outputs": [
    {
     "name": "stdout",
     "output_type": "stream",
     "text": [
      "[0, 1, 2, 3, 4, 5, 6, 7, 8, 9, 10, 11, 12]\n"
     ]
    }
   ],
   "source": [
    "df_predict_index = np.arange(0,13).tolist()\n",
    "print(df_predict_index)"
   ]
  },
  {
   "cell_type": "code",
   "execution_count": 75,
   "id": "structural-round",
   "metadata": {
    "ExecuteTime": {
     "end_time": "2021-04-05T19:42:54.249467Z",
     "start_time": "2021-04-05T19:42:54.231698Z"
    }
   },
   "outputs": [],
   "source": [
    "df_predict = pd.DataFrame(data=area, index= df_predict_index, columns=['area'] )"
   ]
  },
  {
   "cell_type": "code",
   "execution_count": 76,
   "id": "graphic-substance",
   "metadata": {
    "ExecuteTime": {
     "end_time": "2021-04-05T19:42:56.089122Z",
     "start_time": "2021-04-05T19:42:56.078642Z"
    }
   },
   "outputs": [
    {
     "data": {
      "text/html": [
       "<div>\n",
       "<style scoped>\n",
       "    .dataframe tbody tr th:only-of-type {\n",
       "        vertical-align: middle;\n",
       "    }\n",
       "\n",
       "    .dataframe tbody tr th {\n",
       "        vertical-align: top;\n",
       "    }\n",
       "\n",
       "    .dataframe thead th {\n",
       "        text-align: right;\n",
       "    }\n",
       "</style>\n",
       "<table border=\"1\" class=\"dataframe\">\n",
       "  <thead>\n",
       "    <tr style=\"text-align: right;\">\n",
       "      <th></th>\n",
       "      <th>area</th>\n",
       "    </tr>\n",
       "  </thead>\n",
       "  <tbody>\n",
       "    <tr>\n",
       "      <th>0</th>\n",
       "      <td>1000</td>\n",
       "    </tr>\n",
       "    <tr>\n",
       "      <th>1</th>\n",
       "      <td>1500</td>\n",
       "    </tr>\n",
       "    <tr>\n",
       "      <th>2</th>\n",
       "      <td>2300</td>\n",
       "    </tr>\n",
       "  </tbody>\n",
       "</table>\n",
       "</div>"
      ],
      "text/plain": [
       "   area\n",
       "0  1000\n",
       "1  1500\n",
       "2  2300"
      ]
     },
     "execution_count": 76,
     "metadata": {},
     "output_type": "execute_result"
    }
   ],
   "source": [
    "df_predict.head(3)"
   ]
  },
  {
   "cell_type": "code",
   "execution_count": 79,
   "id": "confused-removal",
   "metadata": {
    "ExecuteTime": {
     "end_time": "2021-04-05T19:44:31.696809Z",
     "start_time": "2021-04-05T19:44:31.677321Z"
    }
   },
   "outputs": [
    {
     "data": {
      "text/html": [
       "<div>\n",
       "<style scoped>\n",
       "    .dataframe tbody tr th:only-of-type {\n",
       "        vertical-align: middle;\n",
       "    }\n",
       "\n",
       "    .dataframe tbody tr th {\n",
       "        vertical-align: top;\n",
       "    }\n",
       "\n",
       "    .dataframe thead th {\n",
       "        text-align: right;\n",
       "    }\n",
       "</style>\n",
       "<table border=\"1\" class=\"dataframe\">\n",
       "  <thead>\n",
       "    <tr style=\"text-align: right;\">\n",
       "      <th></th>\n",
       "      <th>area</th>\n",
       "      <th>predicted_price</th>\n",
       "    </tr>\n",
       "  </thead>\n",
       "  <tbody>\n",
       "    <tr>\n",
       "      <th>0</th>\n",
       "      <td>1000</td>\n",
       "      <td>3.164041e+05</td>\n",
       "    </tr>\n",
       "    <tr>\n",
       "      <th>1</th>\n",
       "      <td>1500</td>\n",
       "      <td>3.842979e+05</td>\n",
       "    </tr>\n",
       "    <tr>\n",
       "      <th>2</th>\n",
       "      <td>2300</td>\n",
       "      <td>4.929281e+05</td>\n",
       "    </tr>\n",
       "    <tr>\n",
       "      <th>3</th>\n",
       "      <td>3540</td>\n",
       "      <td>6.613048e+05</td>\n",
       "    </tr>\n",
       "    <tr>\n",
       "      <th>4</th>\n",
       "      <td>4120</td>\n",
       "      <td>7.400616e+05</td>\n",
       "    </tr>\n",
       "    <tr>\n",
       "      <th>5</th>\n",
       "      <td>4560</td>\n",
       "      <td>7.998082e+05</td>\n",
       "    </tr>\n",
       "    <tr>\n",
       "      <th>6</th>\n",
       "      <td>5490</td>\n",
       "      <td>9.260908e+05</td>\n",
       "    </tr>\n",
       "    <tr>\n",
       "      <th>7</th>\n",
       "      <td>3460</td>\n",
       "      <td>6.504418e+05</td>\n",
       "    </tr>\n",
       "    <tr>\n",
       "      <th>8</th>\n",
       "      <td>4750</td>\n",
       "      <td>8.256079e+05</td>\n",
       "    </tr>\n",
       "    <tr>\n",
       "      <th>9</th>\n",
       "      <td>2300</td>\n",
       "      <td>4.929281e+05</td>\n",
       "    </tr>\n",
       "    <tr>\n",
       "      <th>10</th>\n",
       "      <td>9000</td>\n",
       "      <td>1.402705e+06</td>\n",
       "    </tr>\n",
       "    <tr>\n",
       "      <th>11</th>\n",
       "      <td>8600</td>\n",
       "      <td>1.348390e+06</td>\n",
       "    </tr>\n",
       "    <tr>\n",
       "      <th>12</th>\n",
       "      <td>7100</td>\n",
       "      <td>1.144709e+06</td>\n",
       "    </tr>\n",
       "  </tbody>\n",
       "</table>\n",
       "</div>"
      ],
      "text/plain": [
       "    area  predicted_price\n",
       "0   1000     3.164041e+05\n",
       "1   1500     3.842979e+05\n",
       "2   2300     4.929281e+05\n",
       "3   3540     6.613048e+05\n",
       "4   4120     7.400616e+05\n",
       "5   4560     7.998082e+05\n",
       "6   5490     9.260908e+05\n",
       "7   3460     6.504418e+05\n",
       "8   4750     8.256079e+05\n",
       "9   2300     4.929281e+05\n",
       "10  9000     1.402705e+06\n",
       "11  8600     1.348390e+06\n",
       "12  7100     1.144709e+06"
      ]
     },
     "execution_count": 79,
     "metadata": {},
     "output_type": "execute_result"
    }
   ],
   "source": [
    "df_predict['predicted_price'] = p\n",
    "df_predict"
   ]
  },
  {
   "cell_type": "code",
   "execution_count": 80,
   "id": "violent-narrative",
   "metadata": {
    "ExecuteTime": {
     "end_time": "2021-04-05T19:45:16.356709Z",
     "start_time": "2021-04-05T19:45:16.339785Z"
    }
   },
   "outputs": [],
   "source": [
    "# Savig prediction results to csv \n",
    "df_predict.to_csv('prediction.csv', index = False)"
   ]
  },
  {
   "cell_type": "code",
   "execution_count": 82,
   "id": "eleven-observation",
   "metadata": {
    "ExecuteTime": {
     "end_time": "2021-04-05T19:49:38.949130Z",
     "start_time": "2021-04-05T19:49:38.816460Z"
    }
   },
   "outputs": [
    {
     "data": {
      "image/png": "[encoded data removed]",
      "text/plain": [
       "<Figure size 360x360 with 1 Axes>"
      ]
     },
     "metadata": {
      "needs_background": "light"
     },
     "output_type": "display_data"
    }
   ],
   "source": [
    "%matplotlib inline\n",
    "\n",
    "plt.figure(figsize=(5,5))\n",
    "plt.scatter(df['area'], df['price'], label='home_price', color='red',marker='+')\n",
    "plt.plot (df_predict['area'], df_predict['predicted_price'])\n",
    "plt.xlabel('area')\n",
    "plt.ylabel('price')\n",
    "\n",
    "plt.title('Housing Price vs. Area')\n",
    "plt.legend(loc=4)\n",
    "plt.show()"
   ]
  },
  {
   "cell_type": "markdown",
   "id": "failing-mouth",
   "metadata": {},
   "source": [
    "## Exercise "
   ]
  },
  {
   "cell_type": "markdown",
   "id": "biological-transparency",
   "metadata": {},
   "source": [
    "Predict canada's per capita income in year 2020. There is an exercise folder here on github at same level as this notebook, download that and you will find canada_per_capita_income.csv file. Using this build a regression model and predict the per capita income fo canadian citizens in year 2020"
   ]
  },
  {
   "cell_type": "code",
   "execution_count": 83,
   "id": "lesser-fashion",
   "metadata": {
    "ExecuteTime": {
     "end_time": "2021-04-05T19:58:33.060535Z",
     "start_time": "2021-04-05T19:58:33.030898Z"
    }
   },
   "outputs": [],
   "source": [
    "income_df = pd.read_csv('D:/GitHub/py/ML/1_linear_reg/Exercise/canada_per_capita_income.csv')"
   ]
  },
  {
   "cell_type": "code",
   "execution_count": 84,
   "id": "armed-ecuador",
   "metadata": {
    "ExecuteTime": {
     "end_time": "2021-04-05T19:58:43.041756Z",
     "start_time": "2021-04-05T19:58:43.024802Z"
    }
   },
   "outputs": [
    {
     "data": {
      "text/html": [
       "<div>\n",
       "<style scoped>\n",
       "    .dataframe tbody tr th:only-of-type {\n",
       "        vertical-align: middle;\n",
       "    }\n",
       "\n",
       "    .dataframe tbody tr th {\n",
       "        vertical-align: top;\n",
       "    }\n",
       "\n",
       "    .dataframe thead th {\n",
       "        text-align: right;\n",
       "    }\n",
       "</style>\n",
       "<table border=\"1\" class=\"dataframe\">\n",
       "  <thead>\n",
       "    <tr style=\"text-align: right;\">\n",
       "      <th></th>\n",
       "      <th>year</th>\n",
       "      <th>per capita income (US$)</th>\n",
       "    </tr>\n",
       "  </thead>\n",
       "  <tbody>\n",
       "    <tr>\n",
       "      <th>0</th>\n",
       "      <td>1970</td>\n",
       "      <td>3399.299037</td>\n",
       "    </tr>\n",
       "    <tr>\n",
       "      <th>1</th>\n",
       "      <td>1971</td>\n",
       "      <td>3768.297935</td>\n",
       "    </tr>\n",
       "    <tr>\n",
       "      <th>2</th>\n",
       "      <td>1972</td>\n",
       "      <td>4251.175484</td>\n",
       "    </tr>\n",
       "    <tr>\n",
       "      <th>3</th>\n",
       "      <td>1973</td>\n",
       "      <td>4804.463248</td>\n",
       "    </tr>\n",
       "    <tr>\n",
       "      <th>4</th>\n",
       "      <td>1974</td>\n",
       "      <td>5576.514583</td>\n",
       "    </tr>\n",
       "  </tbody>\n",
       "</table>\n",
       "</div>"
      ],
      "text/plain": [
       "   year  per capita income (US$)\n",
       "0  1970              3399.299037\n",
       "1  1971              3768.297935\n",
       "2  1972              4251.175484\n",
       "3  1973              4804.463248\n",
       "4  1974              5576.514583"
      ]
     },
     "execution_count": 84,
     "metadata": {},
     "output_type": "execute_result"
    }
   ],
   "source": [
    "income_df.head()"
   ]
  },
  {
   "cell_type": "code",
   "execution_count": 85,
   "id": "frozen-projector",
   "metadata": {
    "ExecuteTime": {
     "end_time": "2021-04-05T20:00:49.292580Z",
     "start_time": "2021-04-05T20:00:49.280439Z"
    }
   },
   "outputs": [
    {
     "data": {
      "text/plain": [
       "Index(['year', 'per capita income (US$)'], dtype='object')"
      ]
     },
     "execution_count": 85,
     "metadata": {},
     "output_type": "execute_result"
    }
   ],
   "source": [
    "income_df.columns"
   ]
  },
  {
   "cell_type": "code",
   "execution_count": 96,
   "id": "special-thong",
   "metadata": {
    "ExecuteTime": {
     "end_time": "2021-04-05T20:06:01.089472Z",
     "start_time": "2021-04-05T20:06:01.071313Z"
    }
   },
   "outputs": [],
   "source": [
    "income_df=income_df.rename(columns={'per capita income (US$)': 'income'})"
   ]
  },
  {
   "cell_type": "code",
   "execution_count": 97,
   "id": "accepted-denmark",
   "metadata": {
    "ExecuteTime": {
     "end_time": "2021-04-05T20:06:04.842293Z",
     "start_time": "2021-04-05T20:06:04.817326Z"
    }
   },
   "outputs": [
    {
     "data": {
      "text/html": [
       "<div>\n",
       "<style scoped>\n",
       "    .dataframe tbody tr th:only-of-type {\n",
       "        vertical-align: middle;\n",
       "    }\n",
       "\n",
       "    .dataframe tbody tr th {\n",
       "        vertical-align: top;\n",
       "    }\n",
       "\n",
       "    .dataframe thead th {\n",
       "        text-align: right;\n",
       "    }\n",
       "</style>\n",
       "<table border=\"1\" class=\"dataframe\">\n",
       "  <thead>\n",
       "    <tr style=\"text-align: right;\">\n",
       "      <th></th>\n",
       "      <th>year</th>\n",
       "      <th>income</th>\n",
       "    </tr>\n",
       "  </thead>\n",
       "  <tbody>\n",
       "    <tr>\n",
       "      <th>count</th>\n",
       "      <td>47.000000</td>\n",
       "      <td>47.000000</td>\n",
       "    </tr>\n",
       "    <tr>\n",
       "      <th>mean</th>\n",
       "      <td>1993.000000</td>\n",
       "      <td>18920.137063</td>\n",
       "    </tr>\n",
       "    <tr>\n",
       "      <th>std</th>\n",
       "      <td>13.711309</td>\n",
       "      <td>12034.679438</td>\n",
       "    </tr>\n",
       "    <tr>\n",
       "      <th>min</th>\n",
       "      <td>1970.000000</td>\n",
       "      <td>3399.299037</td>\n",
       "    </tr>\n",
       "    <tr>\n",
       "      <th>25%</th>\n",
       "      <td>1981.500000</td>\n",
       "      <td>9526.914515</td>\n",
       "    </tr>\n",
       "    <tr>\n",
       "      <th>50%</th>\n",
       "      <td>1993.000000</td>\n",
       "      <td>16426.725480</td>\n",
       "    </tr>\n",
       "    <tr>\n",
       "      <th>75%</th>\n",
       "      <td>2004.500000</td>\n",
       "      <td>27458.601420</td>\n",
       "    </tr>\n",
       "    <tr>\n",
       "      <th>max</th>\n",
       "      <td>2016.000000</td>\n",
       "      <td>42676.468370</td>\n",
       "    </tr>\n",
       "  </tbody>\n",
       "</table>\n",
       "</div>"
      ],
      "text/plain": [
       "              year        income\n",
       "count    47.000000     47.000000\n",
       "mean   1993.000000  18920.137063\n",
       "std      13.711309  12034.679438\n",
       "min    1970.000000   3399.299037\n",
       "25%    1981.500000   9526.914515\n",
       "50%    1993.000000  16426.725480\n",
       "75%    2004.500000  27458.601420\n",
       "max    2016.000000  42676.468370"
      ]
     },
     "execution_count": 97,
     "metadata": {},
     "output_type": "execute_result"
    }
   ],
   "source": [
    "income_df.describe()"
   ]
  },
  {
   "cell_type": "code",
   "execution_count": 98,
   "id": "accessory-marketplace",
   "metadata": {
    "ExecuteTime": {
     "end_time": "2021-04-05T20:06:08.844840Z",
     "start_time": "2021-04-05T20:06:08.831252Z"
    }
   },
   "outputs": [
    {
     "name": "stdout",
     "output_type": "stream",
     "text": [
      "<class 'pandas.core.frame.DataFrame'>\n",
      "RangeIndex: 47 entries, 0 to 46\n",
      "Data columns (total 2 columns):\n",
      " #   Column  Non-Null Count  Dtype  \n",
      "---  ------  --------------  -----  \n",
      " 0   year    47 non-null     int64  \n",
      " 1   income  47 non-null     float64\n",
      "dtypes: float64(1), int64(1)\n",
      "memory usage: 880.0 bytes\n"
     ]
    }
   ],
   "source": [
    "income_df.info()"
   ]
  },
  {
   "cell_type": "code",
   "execution_count": 99,
   "id": "nutritional-spelling",
   "metadata": {
    "ExecuteTime": {
     "end_time": "2021-04-05T20:06:14.280792Z",
     "start_time": "2021-04-05T20:06:14.266276Z"
    }
   },
   "outputs": [
    {
     "data": {
      "text/plain": [
       "(47, 2)"
      ]
     },
     "execution_count": 99,
     "metadata": {},
     "output_type": "execute_result"
    }
   ],
   "source": [
    "income_df.shape"
   ]
  },
  {
   "cell_type": "code",
   "execution_count": 100,
   "id": "insured-bolivia",
   "metadata": {
    "ExecuteTime": {
     "end_time": "2021-04-05T20:06:21.506201Z",
     "start_time": "2021-04-05T20:06:21.474121Z"
    }
   },
   "outputs": [
    {
     "data": {
      "text/plain": [
       "LinearRegression()"
      ]
     },
     "execution_count": 100,
     "metadata": {},
     "output_type": "execute_result"
    }
   ],
   "source": [
    "reg = linear_model.LinearRegression()\n",
    "reg.fit(income_df[['year']], income_df[['income']])"
   ]
  },
  {
   "cell_type": "code",
   "execution_count": 101,
   "id": "entertaining-texture",
   "metadata": {
    "ExecuteTime": {
     "end_time": "2021-04-05T20:08:42.423966Z",
     "start_time": "2021-04-05T20:08:42.406310Z"
    }
   },
   "outputs": [
    {
     "data": {
      "text/plain": [
       "array([[828.46507522]])"
      ]
     },
     "execution_count": 101,
     "metadata": {},
     "output_type": "execute_result"
    }
   ],
   "source": [
    "reg.coef_"
   ]
  },
  {
   "cell_type": "code",
   "execution_count": 102,
   "id": "minus-watershed",
   "metadata": {
    "ExecuteTime": {
     "end_time": "2021-04-05T20:09:03.948274Z",
     "start_time": "2021-04-05T20:09:03.932854Z"
    }
   },
   "outputs": [
    {
     "data": {
      "text/plain": [
       "array([-1632210.75785546])"
      ]
     },
     "execution_count": 102,
     "metadata": {},
     "output_type": "execute_result"
    }
   ],
   "source": [
    "reg.intercept_"
   ]
  },
  {
   "cell_type": "code",
   "execution_count": 108,
   "id": "international-accreditation",
   "metadata": {
    "ExecuteTime": {
     "end_time": "2021-04-05T20:13:59.766372Z",
     "start_time": "2021-04-05T20:13:59.747990Z"
    }
   },
   "outputs": [
    {
     "name": "stdout",
     "output_type": "stream",
     "text": [
      "Canada's per capita income in year 2020: [[41288.69409442]]\n"
     ]
    }
   ],
   "source": [
    "print('Canada\\'s per capita income in year 2020: {}'.format(reg.predict([[2020]])))"
   ]
  },
  {
   "cell_type": "markdown",
   "id": "tender-company",
   "metadata": {},
   "source": [
    "# Linear Regression with Multiple Variables"
   ]
  },
  {
   "cell_type": "code",
   "execution_count": 8,
   "id": "heated-newark",
   "metadata": {
    "ExecuteTime": {
     "end_time": "2021-04-06T12:42:21.917732Z",
     "start_time": "2021-04-06T12:42:21.894796Z"
    }
   },
   "outputs": [
    {
     "data": {
      "text/html": [
       "<div>\n",
       "<style scoped>\n",
       "    .dataframe tbody tr th:only-of-type {\n",
       "        vertical-align: middle;\n",
       "    }\n",
       "\n",
       "    .dataframe tbody tr th {\n",
       "        vertical-align: top;\n",
       "    }\n",
       "\n",
       "    .dataframe thead th {\n",
       "        text-align: right;\n",
       "    }\n",
       "</style>\n",
       "<table border=\"1\" class=\"dataframe\">\n",
       "  <thead>\n",
       "    <tr style=\"text-align: right;\">\n",
       "      <th></th>\n",
       "      <th>area</th>\n",
       "      <th>bedrooms</th>\n",
       "      <th>age</th>\n",
       "      <th>price</th>\n",
       "    </tr>\n",
       "  </thead>\n",
       "  <tbody>\n",
       "    <tr>\n",
       "      <th>0</th>\n",
       "      <td>2600</td>\n",
       "      <td>3.0</td>\n",
       "      <td>20</td>\n",
       "      <td>550000</td>\n",
       "    </tr>\n",
       "    <tr>\n",
       "      <th>1</th>\n",
       "      <td>3000</td>\n",
       "      <td>4.0</td>\n",
       "      <td>15</td>\n",
       "      <td>565000</td>\n",
       "    </tr>\n",
       "    <tr>\n",
       "      <th>2</th>\n",
       "      <td>3200</td>\n",
       "      <td>NaN</td>\n",
       "      <td>18</td>\n",
       "      <td>610000</td>\n",
       "    </tr>\n",
       "    <tr>\n",
       "      <th>3</th>\n",
       "      <td>3600</td>\n",
       "      <td>3.0</td>\n",
       "      <td>30</td>\n",
       "      <td>595000</td>\n",
       "    </tr>\n",
       "    <tr>\n",
       "      <th>4</th>\n",
       "      <td>4000</td>\n",
       "      <td>5.0</td>\n",
       "      <td>8</td>\n",
       "      <td>760000</td>\n",
       "    </tr>\n",
       "  </tbody>\n",
       "</table>\n",
       "</div>"
      ],
      "text/plain": [
       "   area  bedrooms  age   price\n",
       "0  2600       3.0   20  550000\n",
       "1  3000       4.0   15  565000\n",
       "2  3200       NaN   18  610000\n",
       "3  3600       3.0   30  595000\n",
       "4  4000       5.0    8  760000"
      ]
     },
     "execution_count": 8,
     "metadata": {},
     "output_type": "execute_result"
    }
   ],
   "source": [
    "df = pd.read_csv('D:/GitHub/py/ML/2_linear_reg_multivariate/homeprices.csv')\n",
    "df.head()"
   ]
  },
  {
   "cell_type": "code",
   "execution_count": 11,
   "id": "social-peace",
   "metadata": {
    "ExecuteTime": {
     "end_time": "2021-04-06T12:43:56.049804Z",
     "start_time": "2021-04-06T12:43:56.028713Z"
    }
   },
   "outputs": [
    {
     "data": {
      "text/plain": [
       "4"
      ]
     },
     "execution_count": 11,
     "metadata": {},
     "output_type": "execute_result"
    }
   ],
   "source": [
    "import math \n",
    "median_bedrooms = math.floor(df.bedrooms.median())\n",
    "median_bedrooms"
   ]
  },
  {
   "cell_type": "code",
   "execution_count": 17,
   "id": "fourth-orleans",
   "metadata": {
    "ExecuteTime": {
     "end_time": "2021-04-06T12:48:59.976376Z",
     "start_time": "2021-04-06T12:48:59.951912Z"
    }
   },
   "outputs": [
    {
     "data": {
      "text/html": [
       "<div>\n",
       "<style scoped>\n",
       "    .dataframe tbody tr th:only-of-type {\n",
       "        vertical-align: middle;\n",
       "    }\n",
       "\n",
       "    .dataframe tbody tr th {\n",
       "        vertical-align: top;\n",
       "    }\n",
       "\n",
       "    .dataframe thead th {\n",
       "        text-align: right;\n",
       "    }\n",
       "</style>\n",
       "<table border=\"1\" class=\"dataframe\">\n",
       "  <thead>\n",
       "    <tr style=\"text-align: right;\">\n",
       "      <th></th>\n",
       "      <th>area</th>\n",
       "      <th>bedrooms</th>\n",
       "      <th>age</th>\n",
       "      <th>price</th>\n",
       "    </tr>\n",
       "  </thead>\n",
       "  <tbody>\n",
       "    <tr>\n",
       "      <th>0</th>\n",
       "      <td>2600</td>\n",
       "      <td>3.0</td>\n",
       "      <td>20</td>\n",
       "      <td>550000</td>\n",
       "    </tr>\n",
       "    <tr>\n",
       "      <th>1</th>\n",
       "      <td>3000</td>\n",
       "      <td>4.0</td>\n",
       "      <td>15</td>\n",
       "      <td>565000</td>\n",
       "    </tr>\n",
       "    <tr>\n",
       "      <th>2</th>\n",
       "      <td>3200</td>\n",
       "      <td>4.0</td>\n",
       "      <td>18</td>\n",
       "      <td>610000</td>\n",
       "    </tr>\n",
       "    <tr>\n",
       "      <th>3</th>\n",
       "      <td>3600</td>\n",
       "      <td>3.0</td>\n",
       "      <td>30</td>\n",
       "      <td>595000</td>\n",
       "    </tr>\n",
       "    <tr>\n",
       "      <th>4</th>\n",
       "      <td>4000</td>\n",
       "      <td>5.0</td>\n",
       "      <td>8</td>\n",
       "      <td>760000</td>\n",
       "    </tr>\n",
       "    <tr>\n",
       "      <th>5</th>\n",
       "      <td>4100</td>\n",
       "      <td>6.0</td>\n",
       "      <td>8</td>\n",
       "      <td>810000</td>\n",
       "    </tr>\n",
       "  </tbody>\n",
       "</table>\n",
       "</div>"
      ],
      "text/plain": [
       "   area  bedrooms  age   price\n",
       "0  2600       3.0   20  550000\n",
       "1  3000       4.0   15  565000\n",
       "2  3200       4.0   18  610000\n",
       "3  3600       3.0   30  595000\n",
       "4  4000       5.0    8  760000\n",
       "5  4100       6.0    8  810000"
      ]
     },
     "execution_count": 17,
     "metadata": {},
     "output_type": "execute_result"
    }
   ],
   "source": [
    "df.bedrooms = df.bedrooms.fillna(median_bedrooms)\n",
    "df"
   ]
  },
  {
   "cell_type": "code",
   "execution_count": 19,
   "id": "filled-daughter",
   "metadata": {
    "ExecuteTime": {
     "end_time": "2021-04-06T12:51:08.720195Z",
     "start_time": "2021-04-06T12:51:08.642882Z"
    }
   },
   "outputs": [
    {
     "data": {
      "text/plain": [
       "LinearRegression()"
      ]
     },
     "execution_count": 19,
     "metadata": {},
     "output_type": "execute_result"
    }
   ],
   "source": [
    "reg = linear_model.LinearRegression()\n",
    "reg.fit(df[['area', 'bedrooms', 'age']], df.price)"
   ]
  },
  {
   "cell_type": "code",
   "execution_count": 20,
   "id": "pacific-element",
   "metadata": {
    "ExecuteTime": {
     "end_time": "2021-04-06T12:51:20.418952Z",
     "start_time": "2021-04-06T12:51:20.395848Z"
    }
   },
   "outputs": [
    {
     "data": {
      "text/plain": [
       "array([  112.06244194, 23388.88007794, -3231.71790863])"
      ]
     },
     "execution_count": 20,
     "metadata": {},
     "output_type": "execute_result"
    }
   ],
   "source": [
    "reg.coef_"
   ]
  },
  {
   "cell_type": "code",
   "execution_count": 21,
   "id": "brutal-republic",
   "metadata": {
    "ExecuteTime": {
     "end_time": "2021-04-06T12:51:39.062789Z",
     "start_time": "2021-04-06T12:51:39.050762Z"
    }
   },
   "outputs": [
    {
     "data": {
      "text/plain": [
       "221323.00186540408"
      ]
     },
     "execution_count": 21,
     "metadata": {},
     "output_type": "execute_result"
    }
   ],
   "source": [
    "reg.intercept_"
   ]
  },
  {
   "cell_type": "code",
   "execution_count": 22,
   "id": "sufficient-asbestos",
   "metadata": {
    "ExecuteTime": {
     "end_time": "2021-04-06T12:52:28.117746Z",
     "start_time": "2021-04-06T12:52:28.103766Z"
    }
   },
   "outputs": [
    {
     "data": {
      "text/plain": [
       "array([498408.25158031])"
      ]
     },
     "execution_count": 22,
     "metadata": {},
     "output_type": "execute_result"
    }
   ],
   "source": [
    "reg.predict([[3000, 3, 40]])"
   ]
  },
  {
   "cell_type": "markdown",
   "id": "alive-causing",
   "metadata": {},
   "source": [
    "## Exercise"
   ]
  },
  {
   "cell_type": "markdown",
   "id": "nuclear-blast",
   "metadata": {},
   "source": [
    "In exercise folder (same level as this notebook on github) there is hiring.csv. This file contains hiring statics for a firm such as experience of candidate, his written test score and personal interview score. Based on these 3 factors, HR will decide the salary. Given this data, you need to build a machine learning model for HR department that can help them decide salaries for future candidates. Using this predict salaries for following candidates:\n",
    "\n",
    "2 yr experience, 9 test score, 6 interview score\n",
    "\n",
    "12 yr experience, 10 test score, 10 interview score"
   ]
  },
  {
   "cell_type": "code",
   "execution_count": 63,
   "id": "ultimate-playback",
   "metadata": {
    "ExecuteTime": {
     "end_time": "2021-04-06T13:31:39.827465Z",
     "start_time": "2021-04-06T13:31:39.817354Z"
    }
   },
   "outputs": [],
   "source": [
    "df = pd.read_csv('D:/GitHub/py/ML/2_linear_reg_multivariate/Exercise/hiring.csv')"
   ]
  },
  {
   "cell_type": "code",
   "execution_count": 64,
   "id": "incomplete-martin",
   "metadata": {
    "ExecuteTime": {
     "end_time": "2021-04-06T13:31:41.456704Z",
     "start_time": "2021-04-06T13:31:41.434802Z"
    },
    "collapsed": true
   },
   "outputs": [
    {
     "name": "stdout",
     "output_type": "stream",
     "text": [
      "<class 'pandas.core.frame.DataFrame'>\n",
      "RangeIndex: 8 entries, 0 to 7\n",
      "Data columns (total 4 columns):\n",
      " #   Column                      Non-Null Count  Dtype  \n",
      "---  ------                      --------------  -----  \n",
      " 0   experience                  6 non-null      object \n",
      " 1   test_score(out of 10)       7 non-null      float64\n",
      " 2   interview_score(out of 10)  8 non-null      int64  \n",
      " 3   salary($)                   8 non-null      int64  \n",
      "dtypes: float64(1), int64(2), object(1)\n",
      "memory usage: 384.0+ bytes\n"
     ]
    }
   ],
   "source": [
    "df.info()"
   ]
  },
  {
   "cell_type": "code",
   "execution_count": 65,
   "id": "thousand-witness",
   "metadata": {
    "ExecuteTime": {
     "end_time": "2021-04-06T13:31:43.145164Z",
     "start_time": "2021-04-06T13:31:43.115271Z"
    },
    "collapsed": true
   },
   "outputs": [
    {
     "data": {
      "text/html": [
       "<div>\n",
       "<style scoped>\n",
       "    .dataframe tbody tr th:only-of-type {\n",
       "        vertical-align: middle;\n",
       "    }\n",
       "\n",
       "    .dataframe tbody tr th {\n",
       "        vertical-align: top;\n",
       "    }\n",
       "\n",
       "    .dataframe thead th {\n",
       "        text-align: right;\n",
       "    }\n",
       "</style>\n",
       "<table border=\"1\" class=\"dataframe\">\n",
       "  <thead>\n",
       "    <tr style=\"text-align: right;\">\n",
       "      <th></th>\n",
       "      <th>test_score(out of 10)</th>\n",
       "      <th>interview_score(out of 10)</th>\n",
       "      <th>salary($)</th>\n",
       "    </tr>\n",
       "  </thead>\n",
       "  <tbody>\n",
       "    <tr>\n",
       "      <th>count</th>\n",
       "      <td>7.000000</td>\n",
       "      <td>8.000000</td>\n",
       "      <td>8.00000</td>\n",
       "    </tr>\n",
       "    <tr>\n",
       "      <th>mean</th>\n",
       "      <td>7.857143</td>\n",
       "      <td>7.875000</td>\n",
       "      <td>63000.00000</td>\n",
       "    </tr>\n",
       "    <tr>\n",
       "      <th>std</th>\n",
       "      <td>1.345185</td>\n",
       "      <td>1.642081</td>\n",
       "      <td>11501.55269</td>\n",
       "    </tr>\n",
       "    <tr>\n",
       "      <th>min</th>\n",
       "      <td>6.000000</td>\n",
       "      <td>6.000000</td>\n",
       "      <td>45000.00000</td>\n",
       "    </tr>\n",
       "    <tr>\n",
       "      <th>25%</th>\n",
       "      <td>7.000000</td>\n",
       "      <td>6.750000</td>\n",
       "      <td>57500.00000</td>\n",
       "    </tr>\n",
       "    <tr>\n",
       "      <th>50%</th>\n",
       "      <td>8.000000</td>\n",
       "      <td>7.500000</td>\n",
       "      <td>63500.00000</td>\n",
       "    </tr>\n",
       "    <tr>\n",
       "      <th>75%</th>\n",
       "      <td>8.500000</td>\n",
       "      <td>9.250000</td>\n",
       "      <td>70500.00000</td>\n",
       "    </tr>\n",
       "    <tr>\n",
       "      <th>max</th>\n",
       "      <td>10.000000</td>\n",
       "      <td>10.000000</td>\n",
       "      <td>80000.00000</td>\n",
       "    </tr>\n",
       "  </tbody>\n",
       "</table>\n",
       "</div>"
      ],
      "text/plain": [
       "       test_score(out of 10)  interview_score(out of 10)    salary($)\n",
       "count               7.000000                    8.000000      8.00000\n",
       "mean                7.857143                    7.875000  63000.00000\n",
       "std                 1.345185                    1.642081  11501.55269\n",
       "min                 6.000000                    6.000000  45000.00000\n",
       "25%                 7.000000                    6.750000  57500.00000\n",
       "50%                 8.000000                    7.500000  63500.00000\n",
       "75%                 8.500000                    9.250000  70500.00000\n",
       "max                10.000000                   10.000000  80000.00000"
      ]
     },
     "execution_count": 65,
     "metadata": {},
     "output_type": "execute_result"
    }
   ],
   "source": [
    "df.describe()"
   ]
  },
  {
   "cell_type": "code",
   "execution_count": 66,
   "id": "optional-active",
   "metadata": {
    "ExecuteTime": {
     "end_time": "2021-04-06T13:31:44.200076Z",
     "start_time": "2021-04-06T13:31:44.194579Z"
    }
   },
   "outputs": [
    {
     "data": {
      "text/plain": [
       "(8, 4)"
      ]
     },
     "execution_count": 66,
     "metadata": {},
     "output_type": "execute_result"
    }
   ],
   "source": [
    "df.shape"
   ]
  },
  {
   "cell_type": "code",
   "execution_count": 67,
   "id": "democratic-coach",
   "metadata": {
    "ExecuteTime": {
     "end_time": "2021-04-06T13:31:45.276565Z",
     "start_time": "2021-04-06T13:31:45.266845Z"
    }
   },
   "outputs": [
    {
     "data": {
      "text/plain": [
       "Index(['experience', 'test_score(out of 10)', 'interview_score(out of 10)',\n",
       "       'salary($)'],\n",
       "      dtype='object')"
      ]
     },
     "execution_count": 67,
     "metadata": {},
     "output_type": "execute_result"
    }
   ],
   "source": [
    "df.columns"
   ]
  },
  {
   "cell_type": "code",
   "execution_count": 68,
   "id": "level-notion",
   "metadata": {
    "ExecuteTime": {
     "end_time": "2021-04-06T13:31:46.911482Z",
     "start_time": "2021-04-06T13:31:46.902993Z"
    }
   },
   "outputs": [
    {
     "data": {
      "text/plain": [
       "RangeIndex(start=0, stop=8, step=1)"
      ]
     },
     "execution_count": 68,
     "metadata": {},
     "output_type": "execute_result"
    }
   ],
   "source": [
    "df.index"
   ]
  },
  {
   "cell_type": "code",
   "execution_count": 69,
   "id": "portable-elimination",
   "metadata": {
    "ExecuteTime": {
     "end_time": "2021-04-06T13:31:48.236224Z",
     "start_time": "2021-04-06T13:31:48.218746Z"
    }
   },
   "outputs": [
    {
     "data": {
      "text/plain": [
       "experience                    2\n",
       "test_score(out of 10)         1\n",
       "interview_score(out of 10)    0\n",
       "salary($)                     0\n",
       "dtype: int64"
      ]
     },
     "execution_count": 69,
     "metadata": {},
     "output_type": "execute_result"
    }
   ],
   "source": [
    "df.isna().sum()"
   ]
  },
  {
   "cell_type": "code",
   "execution_count": 70,
   "id": "smaller-pakistan",
   "metadata": {
    "ExecuteTime": {
     "end_time": "2021-04-06T13:31:54.270300Z",
     "start_time": "2021-04-06T13:31:54.256267Z"
    }
   },
   "outputs": [
    {
     "data": {
      "text/plain": [
       "experience                    2\n",
       "test_score(out of 10)         1\n",
       "interview_score(out of 10)    0\n",
       "salary($)                     0\n",
       "dtype: int64"
      ]
     },
     "execution_count": 70,
     "metadata": {},
     "output_type": "execute_result"
    }
   ],
   "source": [
    "df.isnull().sum()"
   ]
  },
  {
   "cell_type": "code",
   "execution_count": 72,
   "id": "reduced-mexico",
   "metadata": {
    "ExecuteTime": {
     "end_time": "2021-04-06T13:32:14.074177Z",
     "start_time": "2021-04-06T13:32:14.056955Z"
    }
   },
   "outputs": [
    {
     "data": {
      "text/html": [
       "<div>\n",
       "<style scoped>\n",
       "    .dataframe tbody tr th:only-of-type {\n",
       "        vertical-align: middle;\n",
       "    }\n",
       "\n",
       "    .dataframe tbody tr th {\n",
       "        vertical-align: top;\n",
       "    }\n",
       "\n",
       "    .dataframe thead th {\n",
       "        text-align: right;\n",
       "    }\n",
       "</style>\n",
       "<table border=\"1\" class=\"dataframe\">\n",
       "  <thead>\n",
       "    <tr style=\"text-align: right;\">\n",
       "      <th></th>\n",
       "      <th>experience</th>\n",
       "      <th>test_score(out of 10)</th>\n",
       "      <th>interview_score(out of 10)</th>\n",
       "      <th>salary($)</th>\n",
       "    </tr>\n",
       "  </thead>\n",
       "  <tbody>\n",
       "    <tr>\n",
       "      <th>0</th>\n",
       "      <td>zero</td>\n",
       "      <td>8.0</td>\n",
       "      <td>9</td>\n",
       "      <td>50000</td>\n",
       "    </tr>\n",
       "    <tr>\n",
       "      <th>1</th>\n",
       "      <td>zero</td>\n",
       "      <td>8.0</td>\n",
       "      <td>6</td>\n",
       "      <td>45000</td>\n",
       "    </tr>\n",
       "    <tr>\n",
       "      <th>2</th>\n",
       "      <td>five</td>\n",
       "      <td>6.0</td>\n",
       "      <td>7</td>\n",
       "      <td>60000</td>\n",
       "    </tr>\n",
       "    <tr>\n",
       "      <th>3</th>\n",
       "      <td>two</td>\n",
       "      <td>10.0</td>\n",
       "      <td>10</td>\n",
       "      <td>65000</td>\n",
       "    </tr>\n",
       "    <tr>\n",
       "      <th>4</th>\n",
       "      <td>seven</td>\n",
       "      <td>9.0</td>\n",
       "      <td>6</td>\n",
       "      <td>70000</td>\n",
       "    </tr>\n",
       "    <tr>\n",
       "      <th>5</th>\n",
       "      <td>three</td>\n",
       "      <td>7.0</td>\n",
       "      <td>10</td>\n",
       "      <td>62000</td>\n",
       "    </tr>\n",
       "    <tr>\n",
       "      <th>6</th>\n",
       "      <td>ten</td>\n",
       "      <td>8.0</td>\n",
       "      <td>7</td>\n",
       "      <td>72000</td>\n",
       "    </tr>\n",
       "    <tr>\n",
       "      <th>7</th>\n",
       "      <td>eleven</td>\n",
       "      <td>7.0</td>\n",
       "      <td>8</td>\n",
       "      <td>80000</td>\n",
       "    </tr>\n",
       "  </tbody>\n",
       "</table>\n",
       "</div>"
      ],
      "text/plain": [
       "  experience  test_score(out of 10)  interview_score(out of 10)  salary($)\n",
       "0       zero                    8.0                           9      50000\n",
       "1       zero                    8.0                           6      45000\n",
       "2       five                    6.0                           7      60000\n",
       "3        two                   10.0                          10      65000\n",
       "4      seven                    9.0                           6      70000\n",
       "5      three                    7.0                          10      62000\n",
       "6        ten                    8.0                           7      72000\n",
       "7     eleven                    7.0                           8      80000"
      ]
     },
     "execution_count": 72,
     "metadata": {},
     "output_type": "execute_result"
    }
   ],
   "source": [
    "df.experience = df.experience.fillna('zero')\n",
    "df['test_score(out of 10)'] = df['test_score(out of 10)'].fillna(df['test_score(out of 10)'].median())\n",
    "df"
   ]
  },
  {
   "cell_type": "markdown",
   "id": "spanish-slovak",
   "metadata": {},
   "source": [
    "### Note: how to convert number-words to numbers "
   ]
  },
  {
   "cell_type": "code",
   "execution_count": 43,
   "id": "industrial-spiritual",
   "metadata": {
    "ExecuteTime": {
     "end_time": "2021-04-06T13:20:33.080410Z",
     "start_time": "2021-04-06T13:20:26.913222Z"
    },
    "collapsed": true
   },
   "outputs": [
    {
     "name": "stdout",
     "output_type": "stream",
     "text": [
      "Collecting word2number\n",
      "  Downloading word2number-1.1.zip (9.7 kB)\n",
      "Building wheels for collected packages: word2number\n",
      "  Building wheel for word2number (setup.py): started\n",
      "  Building wheel for word2number (setup.py): finished with status 'done'\n",
      "  Created wheel for word2number: filename=word2number-1.1-py3-none-any.whl size=5586 sha256=93965089130fcd2b473ac323a217f5587e248309f9cf956caafb7db8387d5113\n",
      "  Stored in directory: c:\\users\\hnour\\appdata\\local\\pip\\cache\\wheels\\4b\\c3\\77\\a5f48aeb0d3efb7cd5ad61cbd3da30bbf9ffc9662b07c9f879\n",
      "Successfully built word2number\n",
      "Installing collected packages: word2number\n",
      "Successfully installed word2number-1.1\n"
     ]
    }
   ],
   "source": [
    "! pip install word2number"
   ]
  },
  {
   "cell_type": "code",
   "execution_count": 53,
   "id": "pleasant-richards",
   "metadata": {
    "ExecuteTime": {
     "end_time": "2021-04-06T13:24:57.613173Z",
     "start_time": "2021-04-06T13:24:57.600709Z"
    }
   },
   "outputs": [],
   "source": [
    "# Example\n",
    "from word2number import w2n "
   ]
  },
  {
   "cell_type": "code",
   "execution_count": 47,
   "id": "studied-intention",
   "metadata": {
    "ExecuteTime": {
     "end_time": "2021-04-06T13:22:55.051576Z",
     "start_time": "2021-04-06T13:22:55.034952Z"
    }
   },
   "outputs": [],
   "source": [
    "# initializing string\n",
    "test_str = \"zero four zero one\""
   ]
  },
  {
   "cell_type": "code",
   "execution_count": 48,
   "id": "hourly-humanity",
   "metadata": {
    "ExecuteTime": {
     "end_time": "2021-04-06T13:22:55.826690Z",
     "start_time": "2021-04-06T13:22:55.816845Z"
    }
   },
   "outputs": [
    {
     "name": "stdout",
     "output_type": "stream",
     "text": [
      "The original string is : zero four zero one\n"
     ]
    }
   ],
   "source": [
    "# printing original string\n",
    "print(\"The original string is : \" + test_str)"
   ]
  },
  {
   "cell_type": "code",
   "execution_count": 52,
   "id": "functional-novel",
   "metadata": {
    "ExecuteTime": {
     "end_time": "2021-04-06T13:23:47.059433Z",
     "start_time": "2021-04-06T13:23:47.054415Z"
    }
   },
   "outputs": [
    {
     "data": {
      "text/plain": [
       "int"
      ]
     },
     "execution_count": 52,
     "metadata": {},
     "output_type": "execute_result"
    }
   ],
   "source": [
    "# Convert numeric words to numbers\n",
    "# Using word2number\n",
    "res = w2n.word_to_num(test_str)\n",
    "\n",
    "type(res)"
   ]
  },
  {
   "cell_type": "code",
   "execution_count": 50,
   "id": "african-manitoba",
   "metadata": {
    "ExecuteTime": {
     "end_time": "2021-04-06T13:22:59.027366Z",
     "start_time": "2021-04-06T13:22:59.009394Z"
    }
   },
   "outputs": [
    {
     "name": "stdout",
     "output_type": "stream",
     "text": [
      "The string after performing replace : 1\n"
     ]
    }
   ],
   "source": [
    "# printing result \n",
    "print(\"The string after performing replace : \" + str(res))"
   ]
  },
  {
   "cell_type": "code",
   "execution_count": 55,
   "id": "foster-patrol",
   "metadata": {
    "ExecuteTime": {
     "end_time": "2021-04-06T13:25:57.481774Z",
     "start_time": "2021-04-06T13:25:57.473800Z"
    }
   },
   "outputs": [
    {
     "data": {
      "text/plain": [
       "str"
      ]
     },
     "execution_count": 55,
     "metadata": {},
     "output_type": "execute_result"
    }
   ],
   "source": [
    "type(df.experience[2])"
   ]
  },
  {
   "cell_type": "code",
   "execution_count": 73,
   "id": "attended-distinction",
   "metadata": {
    "ExecuteTime": {
     "end_time": "2021-04-06T13:32:32.712254Z",
     "start_time": "2021-04-06T13:32:32.705273Z"
    }
   },
   "outputs": [
    {
     "data": {
      "text/plain": [
       "experience                     object\n",
       "test_score(out of 10)         float64\n",
       "interview_score(out of 10)      int64\n",
       "salary($)                       int64\n",
       "dtype: object"
      ]
     },
     "execution_count": 73,
     "metadata": {},
     "output_type": "execute_result"
    }
   ],
   "source": [
    "df.dtypes"
   ]
  },
  {
   "cell_type": "code",
   "execution_count": 77,
   "id": "sized-eagle",
   "metadata": {
    "ExecuteTime": {
     "end_time": "2021-04-06T13:38:21.733276Z",
     "start_time": "2021-04-06T13:38:21.723778Z"
    }
   },
   "outputs": [],
   "source": [
    "df.experience = df.experience.apply(w2n.word_to_num)"
   ]
  },
  {
   "cell_type": "code",
   "execution_count": 78,
   "id": "obvious-image",
   "metadata": {
    "ExecuteTime": {
     "end_time": "2021-04-06T13:38:26.372915Z",
     "start_time": "2021-04-06T13:38:26.354815Z"
    }
   },
   "outputs": [
    {
     "data": {
      "text/html": [
       "<div>\n",
       "<style scoped>\n",
       "    .dataframe tbody tr th:only-of-type {\n",
       "        vertical-align: middle;\n",
       "    }\n",
       "\n",
       "    .dataframe tbody tr th {\n",
       "        vertical-align: top;\n",
       "    }\n",
       "\n",
       "    .dataframe thead th {\n",
       "        text-align: right;\n",
       "    }\n",
       "</style>\n",
       "<table border=\"1\" class=\"dataframe\">\n",
       "  <thead>\n",
       "    <tr style=\"text-align: right;\">\n",
       "      <th></th>\n",
       "      <th>experience</th>\n",
       "      <th>test_score(out of 10)</th>\n",
       "      <th>interview_score(out of 10)</th>\n",
       "      <th>salary($)</th>\n",
       "    </tr>\n",
       "  </thead>\n",
       "  <tbody>\n",
       "    <tr>\n",
       "      <th>0</th>\n",
       "      <td>0</td>\n",
       "      <td>8.0</td>\n",
       "      <td>9</td>\n",
       "      <td>50000</td>\n",
       "    </tr>\n",
       "    <tr>\n",
       "      <th>1</th>\n",
       "      <td>0</td>\n",
       "      <td>8.0</td>\n",
       "      <td>6</td>\n",
       "      <td>45000</td>\n",
       "    </tr>\n",
       "    <tr>\n",
       "      <th>2</th>\n",
       "      <td>5</td>\n",
       "      <td>6.0</td>\n",
       "      <td>7</td>\n",
       "      <td>60000</td>\n",
       "    </tr>\n",
       "    <tr>\n",
       "      <th>3</th>\n",
       "      <td>2</td>\n",
       "      <td>10.0</td>\n",
       "      <td>10</td>\n",
       "      <td>65000</td>\n",
       "    </tr>\n",
       "    <tr>\n",
       "      <th>4</th>\n",
       "      <td>7</td>\n",
       "      <td>9.0</td>\n",
       "      <td>6</td>\n",
       "      <td>70000</td>\n",
       "    </tr>\n",
       "    <tr>\n",
       "      <th>5</th>\n",
       "      <td>3</td>\n",
       "      <td>7.0</td>\n",
       "      <td>10</td>\n",
       "      <td>62000</td>\n",
       "    </tr>\n",
       "    <tr>\n",
       "      <th>6</th>\n",
       "      <td>10</td>\n",
       "      <td>8.0</td>\n",
       "      <td>7</td>\n",
       "      <td>72000</td>\n",
       "    </tr>\n",
       "    <tr>\n",
       "      <th>7</th>\n",
       "      <td>11</td>\n",
       "      <td>7.0</td>\n",
       "      <td>8</td>\n",
       "      <td>80000</td>\n",
       "    </tr>\n",
       "  </tbody>\n",
       "</table>\n",
       "</div>"
      ],
      "text/plain": [
       "   experience  test_score(out of 10)  interview_score(out of 10)  salary($)\n",
       "0           0                    8.0                           9      50000\n",
       "1           0                    8.0                           6      45000\n",
       "2           5                    6.0                           7      60000\n",
       "3           2                   10.0                          10      65000\n",
       "4           7                    9.0                           6      70000\n",
       "5           3                    7.0                          10      62000\n",
       "6          10                    8.0                           7      72000\n",
       "7          11                    7.0                           8      80000"
      ]
     },
     "execution_count": 78,
     "metadata": {},
     "output_type": "execute_result"
    }
   ],
   "source": [
    "df"
   ]
  },
  {
   "cell_type": "code",
   "execution_count": 79,
   "id": "strong-horizontal",
   "metadata": {
    "ExecuteTime": {
     "end_time": "2021-04-06T13:38:34.970280Z",
     "start_time": "2021-04-06T13:38:34.947431Z"
    }
   },
   "outputs": [
    {
     "data": {
      "text/plain": [
       "LinearRegression()"
      ]
     },
     "execution_count": 79,
     "metadata": {},
     "output_type": "execute_result"
    }
   ],
   "source": [
    "reg = linear_model.LinearRegression()\n",
    "reg.fit(df[['experience', 'test_score(out of 10)', 'interview_score(out of 10)']], df['salary($)'])"
   ]
  },
  {
   "cell_type": "code",
   "execution_count": 80,
   "id": "superior-vegetarian",
   "metadata": {
    "ExecuteTime": {
     "end_time": "2021-04-06T13:38:47.341624Z",
     "start_time": "2021-04-06T13:38:47.332118Z"
    }
   },
   "outputs": [
    {
     "data": {
      "text/plain": [
       "array([2812.95487627, 1845.70596798, 2205.24017467])"
      ]
     },
     "execution_count": 80,
     "metadata": {},
     "output_type": "execute_result"
    }
   ],
   "source": [
    "reg.coef_"
   ]
  },
  {
   "cell_type": "code",
   "execution_count": 81,
   "id": "underlying-beach",
   "metadata": {
    "ExecuteTime": {
     "end_time": "2021-04-06T13:38:56.633441Z",
     "start_time": "2021-04-06T13:38:56.626459Z"
    }
   },
   "outputs": [
    {
     "data": {
      "text/plain": [
       "17737.26346433771"
      ]
     },
     "execution_count": 81,
     "metadata": {},
     "output_type": "execute_result"
    }
   ],
   "source": [
    "reg.intercept_"
   ]
  },
  {
   "cell_type": "code",
   "execution_count": 82,
   "id": "czech-telling",
   "metadata": {
    "ExecuteTime": {
     "end_time": "2021-04-06T13:47:46.909529Z",
     "start_time": "2021-04-06T13:47:46.893573Z"
    }
   },
   "outputs": [
    {
     "data": {
      "text/plain": [
       "array([53205.96797671])"
      ]
     },
     "execution_count": 82,
     "metadata": {},
     "output_type": "execute_result"
    }
   ],
   "source": [
    "reg.predict ([[2,9,6]])"
   ]
  },
  {
   "cell_type": "code",
   "execution_count": 83,
   "id": "absolute-equipment",
   "metadata": {
    "ExecuteTime": {
     "end_time": "2021-04-06T13:48:07.757519Z",
     "start_time": "2021-04-06T13:48:07.747513Z"
    }
   },
   "outputs": [
    {
     "data": {
      "text/plain": [
       "array([92002.18340611])"
      ]
     },
     "execution_count": 83,
     "metadata": {},
     "output_type": "execute_result"
    }
   ],
   "source": [
    "reg.predict([[12,10,10]])"
   ]
  },
  {
   "cell_type": "markdown",
   "id": "certain-arthur",
   "metadata": {},
   "source": [
    "### Save Model To a File Using Python Pickle"
   ]
  },
  {
   "cell_type": "code",
   "execution_count": 1,
   "id": "european-federal",
   "metadata": {
    "ExecuteTime": {
     "end_time": "2021-04-06T17:56:12.758950Z",
     "start_time": "2021-04-06T17:56:12.745953Z"
    }
   },
   "outputs": [],
   "source": [
    "import pickle"
   ]
  },
  {
   "cell_type": "code",
   "execution_count": 22,
   "id": "attended-contract",
   "metadata": {
    "ExecuteTime": {
     "end_time": "2021-04-06T18:02:22.383084Z",
     "start_time": "2021-04-06T18:02:22.375499Z"
    }
   },
   "outputs": [],
   "source": [
    "with open('model_pickle','wb') as file:\n",
    "    pickle.dump(model,file)"
   ]
  },
  {
   "cell_type": "markdown",
   "id": "documented-worker",
   "metadata": {},
   "source": [
    "### Load Saved Model"
   ]
  },
  {
   "cell_type": "code",
   "execution_count": 23,
   "id": "monetary-sleeping",
   "metadata": {
    "ExecuteTime": {
     "end_time": "2021-04-06T18:03:15.502982Z",
     "start_time": "2021-04-06T18:03:15.490474Z"
    }
   },
   "outputs": [],
   "source": [
    "with open('model_pickle','rb') as file:\n",
    "    mp = pickle.load(file)"
   ]
  },
  {
   "cell_type": "code",
   "execution_count": 24,
   "id": "chief-embassy",
   "metadata": {
    "ExecuteTime": {
     "end_time": "2021-04-06T18:03:16.388784Z",
     "start_time": "2021-04-06T18:03:16.378643Z"
    }
   },
   "outputs": [
    {
     "data": {
      "text/plain": [
       "array([135.78767123])"
      ]
     },
     "execution_count": 24,
     "metadata": {},
     "output_type": "execute_result"
    }
   ],
   "source": [
    "mp.coef_"
   ]
  },
  {
   "cell_type": "code",
   "execution_count": 25,
   "id": "standing-damages",
   "metadata": {
    "ExecuteTime": {
     "end_time": "2021-04-06T18:03:25.403032Z",
     "start_time": "2021-04-06T18:03:25.391619Z"
    }
   },
   "outputs": [
    {
     "data": {
      "text/plain": [
       "180616.43835616432"
      ]
     },
     "execution_count": 25,
     "metadata": {},
     "output_type": "execute_result"
    }
   ],
   "source": [
    "mp.intercept_"
   ]
  },
  {
   "cell_type": "code",
   "execution_count": 28,
   "id": "developing-organization",
   "metadata": {
    "ExecuteTime": {
     "end_time": "2021-04-06T18:04:05.879598Z",
     "start_time": "2021-04-06T18:04:05.864608Z"
    }
   },
   "outputs": [
    {
     "data": {
      "text/plain": [
       "array([859554.79452055])"
      ]
     },
     "execution_count": 28,
     "metadata": {},
     "output_type": "execute_result"
    }
   ],
   "source": [
    "mp.predict([[5000]])"
   ]
  },
  {
   "cell_type": "markdown",
   "id": "functional-treat",
   "metadata": {},
   "source": [
    "#### Save Trained Model Using joblib"
   ]
  },
  {
   "cell_type": "markdown",
   "id": "afraid-veteran",
   "metadata": {},
   "source": [
    "We can save the model using sklearn model persistence. If the model has large numpy arrays the joblib is more efficient. "
   ]
  },
  {
   "cell_type": "code",
   "execution_count": 30,
   "id": "whole-database",
   "metadata": {
    "ExecuteTime": {
     "end_time": "2021-04-06T18:08:14.841803Z",
     "start_time": "2021-04-06T18:08:14.835393Z"
    }
   },
   "outputs": [
    {
     "data": {
      "text/plain": [
       "['model_joblib']"
      ]
     },
     "execution_count": 30,
     "metadata": {},
     "output_type": "execute_result"
    }
   ],
   "source": [
    "from sklearn.externals import joblib\n",
    "\n",
    "joblib.dump(model, 'model_joblib')"
   ]
  },
  {
   "cell_type": "markdown",
   "id": "numeric-bracelet",
   "metadata": {},
   "source": [
    "#### Load Saved Model"
   ]
  },
  {
   "cell_type": "code",
   "execution_count": 31,
   "id": "overall-isolation",
   "metadata": {
    "ExecuteTime": {
     "end_time": "2021-04-06T18:08:16.273552Z",
     "start_time": "2021-04-06T18:08:16.255601Z"
    }
   },
   "outputs": [],
   "source": [
    "mj = joblib.load('model_joblib')"
   ]
  },
  {
   "cell_type": "code",
   "execution_count": 32,
   "id": "similar-registration",
   "metadata": {
    "ExecuteTime": {
     "end_time": "2021-04-06T18:08:17.096537Z",
     "start_time": "2021-04-06T18:08:17.085206Z"
    }
   },
   "outputs": [
    {
     "data": {
      "text/plain": [
       "array([135.78767123])"
      ]
     },
     "execution_count": 32,
     "metadata": {},
     "output_type": "execute_result"
    }
   ],
   "source": [
    "mj.coef_"
   ]
  },
  {
   "cell_type": "code",
   "execution_count": 33,
   "id": "objective-baghdad",
   "metadata": {
    "ExecuteTime": {
     "end_time": "2021-04-06T18:08:25.226346Z",
     "start_time": "2021-04-06T18:08:25.210492Z"
    }
   },
   "outputs": [
    {
     "data": {
      "text/plain": [
       "180616.43835616432"
      ]
     },
     "execution_count": 33,
     "metadata": {},
     "output_type": "execute_result"
    }
   ],
   "source": [
    "mj.intercept_"
   ]
  },
  {
   "cell_type": "code",
   "execution_count": 34,
   "id": "peaceful-tournament",
   "metadata": {
    "ExecuteTime": {
     "end_time": "2021-04-06T18:08:29.496808Z",
     "start_time": "2021-04-06T18:08:29.485271Z"
    }
   },
   "outputs": [
    {
     "data": {
      "text/plain": [
       "array([859554.79452055])"
      ]
     },
     "execution_count": 34,
     "metadata": {},
     "output_type": "execute_result"
    }
   ],
   "source": [
    "mj.predict([[5000]])"
   ]
  },
  {
   "cell_type": "markdown",
   "id": "unusual-flexibility",
   "metadata": {},
   "source": [
    "# Categorical Variables and One Hot Encoding"
   ]
  },
  {
   "cell_type": "code",
   "execution_count": 82,
   "id": "higher-commission",
   "metadata": {
    "ExecuteTime": {
     "end_time": "2021-04-06T18:56:49.317014Z",
     "start_time": "2021-04-06T18:56:49.307527Z"
    }
   },
   "outputs": [],
   "source": [
    "import pandas as pd"
   ]
  },
  {
   "cell_type": "code",
   "execution_count": 83,
   "id": "opened-springfield",
   "metadata": {
    "ExecuteTime": {
     "end_time": "2021-04-06T18:56:51.239199Z",
     "start_time": "2021-04-06T18:56:51.216642Z"
    }
   },
   "outputs": [
    {
     "data": {
      "text/html": [
       "<div>\n",
       "<style scoped>\n",
       "    .dataframe tbody tr th:only-of-type {\n",
       "        vertical-align: middle;\n",
       "    }\n",
       "\n",
       "    .dataframe tbody tr th {\n",
       "        vertical-align: top;\n",
       "    }\n",
       "\n",
       "    .dataframe thead th {\n",
       "        text-align: right;\n",
       "    }\n",
       "</style>\n",
       "<table border=\"1\" class=\"dataframe\">\n",
       "  <thead>\n",
       "    <tr style=\"text-align: right;\">\n",
       "      <th></th>\n",
       "      <th>town</th>\n",
       "      <th>area</th>\n",
       "      <th>price</th>\n",
       "    </tr>\n",
       "  </thead>\n",
       "  <tbody>\n",
       "    <tr>\n",
       "      <th>0</th>\n",
       "      <td>monroe township</td>\n",
       "      <td>2600</td>\n",
       "      <td>550000</td>\n",
       "    </tr>\n",
       "    <tr>\n",
       "      <th>1</th>\n",
       "      <td>monroe township</td>\n",
       "      <td>3000</td>\n",
       "      <td>565000</td>\n",
       "    </tr>\n",
       "    <tr>\n",
       "      <th>2</th>\n",
       "      <td>monroe township</td>\n",
       "      <td>3200</td>\n",
       "      <td>610000</td>\n",
       "    </tr>\n",
       "    <tr>\n",
       "      <th>3</th>\n",
       "      <td>monroe township</td>\n",
       "      <td>3600</td>\n",
       "      <td>680000</td>\n",
       "    </tr>\n",
       "    <tr>\n",
       "      <th>4</th>\n",
       "      <td>monroe township</td>\n",
       "      <td>4000</td>\n",
       "      <td>725000</td>\n",
       "    </tr>\n",
       "    <tr>\n",
       "      <th>5</th>\n",
       "      <td>west windsor</td>\n",
       "      <td>2600</td>\n",
       "      <td>585000</td>\n",
       "    </tr>\n",
       "    <tr>\n",
       "      <th>6</th>\n",
       "      <td>west windsor</td>\n",
       "      <td>2800</td>\n",
       "      <td>615000</td>\n",
       "    </tr>\n",
       "    <tr>\n",
       "      <th>7</th>\n",
       "      <td>west windsor</td>\n",
       "      <td>3300</td>\n",
       "      <td>650000</td>\n",
       "    </tr>\n",
       "    <tr>\n",
       "      <th>8</th>\n",
       "      <td>west windsor</td>\n",
       "      <td>3600</td>\n",
       "      <td>710000</td>\n",
       "    </tr>\n",
       "    <tr>\n",
       "      <th>9</th>\n",
       "      <td>robinsville</td>\n",
       "      <td>2600</td>\n",
       "      <td>575000</td>\n",
       "    </tr>\n",
       "    <tr>\n",
       "      <th>10</th>\n",
       "      <td>robinsville</td>\n",
       "      <td>2900</td>\n",
       "      <td>600000</td>\n",
       "    </tr>\n",
       "    <tr>\n",
       "      <th>11</th>\n",
       "      <td>robinsville</td>\n",
       "      <td>3100</td>\n",
       "      <td>620000</td>\n",
       "    </tr>\n",
       "    <tr>\n",
       "      <th>12</th>\n",
       "      <td>robinsville</td>\n",
       "      <td>3600</td>\n",
       "      <td>695000</td>\n",
       "    </tr>\n",
       "  </tbody>\n",
       "</table>\n",
       "</div>"
      ],
      "text/plain": [
       "               town  area   price\n",
       "0   monroe township  2600  550000\n",
       "1   monroe township  3000  565000\n",
       "2   monroe township  3200  610000\n",
       "3   monroe township  3600  680000\n",
       "4   monroe township  4000  725000\n",
       "5      west windsor  2600  585000\n",
       "6      west windsor  2800  615000\n",
       "7      west windsor  3300  650000\n",
       "8      west windsor  3600  710000\n",
       "9       robinsville  2600  575000\n",
       "10      robinsville  2900  600000\n",
       "11      robinsville  3100  620000\n",
       "12      robinsville  3600  695000"
      ]
     },
     "execution_count": 83,
     "metadata": {},
     "output_type": "execute_result"
    }
   ],
   "source": [
    "df = pd.read_csv(\"D:/GitHub/py/ML/5_one_hot_encoding/homeprices.csv\")\n",
    "df"
   ]
  },
  {
   "cell_type": "markdown",
   "id": "posted-archives",
   "metadata": {},
   "source": [
    "<h2 style='color:purple'>Using pandas to create dummy variables</h2>"
   ]
  },
  {
   "cell_type": "code",
   "execution_count": 38,
   "id": "involved-employer",
   "metadata": {
    "ExecuteTime": {
     "end_time": "2021-04-06T18:23:27.571586Z",
     "start_time": "2021-04-06T18:23:27.558373Z"
    },
    "collapsed": true
   },
   "outputs": [
    {
     "data": {
      "text/html": [
       "<div>\n",
       "<style scoped>\n",
       "    .dataframe tbody tr th:only-of-type {\n",
       "        vertical-align: middle;\n",
       "    }\n",
       "\n",
       "    .dataframe tbody tr th {\n",
       "        vertical-align: top;\n",
       "    }\n",
       "\n",
       "    .dataframe thead th {\n",
       "        text-align: right;\n",
       "    }\n",
       "</style>\n",
       "<table border=\"1\" class=\"dataframe\">\n",
       "  <thead>\n",
       "    <tr style=\"text-align: right;\">\n",
       "      <th></th>\n",
       "      <th>monroe township</th>\n",
       "      <th>robinsville</th>\n",
       "      <th>west windsor</th>\n",
       "    </tr>\n",
       "  </thead>\n",
       "  <tbody>\n",
       "    <tr>\n",
       "      <th>0</th>\n",
       "      <td>1</td>\n",
       "      <td>0</td>\n",
       "      <td>0</td>\n",
       "    </tr>\n",
       "    <tr>\n",
       "      <th>1</th>\n",
       "      <td>1</td>\n",
       "      <td>0</td>\n",
       "      <td>0</td>\n",
       "    </tr>\n",
       "    <tr>\n",
       "      <th>2</th>\n",
       "      <td>1</td>\n",
       "      <td>0</td>\n",
       "      <td>0</td>\n",
       "    </tr>\n",
       "    <tr>\n",
       "      <th>3</th>\n",
       "      <td>1</td>\n",
       "      <td>0</td>\n",
       "      <td>0</td>\n",
       "    </tr>\n",
       "    <tr>\n",
       "      <th>4</th>\n",
       "      <td>1</td>\n",
       "      <td>0</td>\n",
       "      <td>0</td>\n",
       "    </tr>\n",
       "    <tr>\n",
       "      <th>5</th>\n",
       "      <td>0</td>\n",
       "      <td>0</td>\n",
       "      <td>1</td>\n",
       "    </tr>\n",
       "    <tr>\n",
       "      <th>6</th>\n",
       "      <td>0</td>\n",
       "      <td>0</td>\n",
       "      <td>1</td>\n",
       "    </tr>\n",
       "    <tr>\n",
       "      <th>7</th>\n",
       "      <td>0</td>\n",
       "      <td>0</td>\n",
       "      <td>1</td>\n",
       "    </tr>\n",
       "    <tr>\n",
       "      <th>8</th>\n",
       "      <td>0</td>\n",
       "      <td>0</td>\n",
       "      <td>1</td>\n",
       "    </tr>\n",
       "    <tr>\n",
       "      <th>9</th>\n",
       "      <td>0</td>\n",
       "      <td>1</td>\n",
       "      <td>0</td>\n",
       "    </tr>\n",
       "    <tr>\n",
       "      <th>10</th>\n",
       "      <td>0</td>\n",
       "      <td>1</td>\n",
       "      <td>0</td>\n",
       "    </tr>\n",
       "    <tr>\n",
       "      <th>11</th>\n",
       "      <td>0</td>\n",
       "      <td>1</td>\n",
       "      <td>0</td>\n",
       "    </tr>\n",
       "    <tr>\n",
       "      <th>12</th>\n",
       "      <td>0</td>\n",
       "      <td>1</td>\n",
       "      <td>0</td>\n",
       "    </tr>\n",
       "  </tbody>\n",
       "</table>\n",
       "</div>"
      ],
      "text/plain": [
       "    monroe township  robinsville  west windsor\n",
       "0                 1            0             0\n",
       "1                 1            0             0\n",
       "2                 1            0             0\n",
       "3                 1            0             0\n",
       "4                 1            0             0\n",
       "5                 0            0             1\n",
       "6                 0            0             1\n",
       "7                 0            0             1\n",
       "8                 0            0             1\n",
       "9                 0            1             0\n",
       "10                0            1             0\n",
       "11                0            1             0\n",
       "12                0            1             0"
      ]
     },
     "execution_count": 38,
     "metadata": {},
     "output_type": "execute_result"
    }
   ],
   "source": [
    "dummies = pd.get_dummies(df.town)\n",
    "dummies"
   ]
  },
  {
   "cell_type": "markdown",
   "id": "active-ultimate",
   "metadata": {},
   "source": [
    "As a alternative we can use the following code:\n",
    "\n",
    "''' df = pd.concat([df, pd.get_dummies(df['town'])], axis=1) '''"
   ]
  },
  {
   "cell_type": "code",
   "execution_count": 39,
   "id": "worse-theology",
   "metadata": {
    "ExecuteTime": {
     "end_time": "2021-04-06T18:23:31.007080Z",
     "start_time": "2021-04-06T18:23:30.981627Z"
    },
    "collapsed": true
   },
   "outputs": [
    {
     "data": {
      "text/html": [
       "<div>\n",
       "<style scoped>\n",
       "    .dataframe tbody tr th:only-of-type {\n",
       "        vertical-align: middle;\n",
       "    }\n",
       "\n",
       "    .dataframe tbody tr th {\n",
       "        vertical-align: top;\n",
       "    }\n",
       "\n",
       "    .dataframe thead th {\n",
       "        text-align: right;\n",
       "    }\n",
       "</style>\n",
       "<table border=\"1\" class=\"dataframe\">\n",
       "  <thead>\n",
       "    <tr style=\"text-align: right;\">\n",
       "      <th></th>\n",
       "      <th>town</th>\n",
       "      <th>area</th>\n",
       "      <th>price</th>\n",
       "      <th>monroe township</th>\n",
       "      <th>robinsville</th>\n",
       "      <th>west windsor</th>\n",
       "    </tr>\n",
       "  </thead>\n",
       "  <tbody>\n",
       "    <tr>\n",
       "      <th>0</th>\n",
       "      <td>monroe township</td>\n",
       "      <td>2600</td>\n",
       "      <td>550000</td>\n",
       "      <td>1</td>\n",
       "      <td>0</td>\n",
       "      <td>0</td>\n",
       "    </tr>\n",
       "    <tr>\n",
       "      <th>1</th>\n",
       "      <td>monroe township</td>\n",
       "      <td>3000</td>\n",
       "      <td>565000</td>\n",
       "      <td>1</td>\n",
       "      <td>0</td>\n",
       "      <td>0</td>\n",
       "    </tr>\n",
       "    <tr>\n",
       "      <th>2</th>\n",
       "      <td>monroe township</td>\n",
       "      <td>3200</td>\n",
       "      <td>610000</td>\n",
       "      <td>1</td>\n",
       "      <td>0</td>\n",
       "      <td>0</td>\n",
       "    </tr>\n",
       "    <tr>\n",
       "      <th>3</th>\n",
       "      <td>monroe township</td>\n",
       "      <td>3600</td>\n",
       "      <td>680000</td>\n",
       "      <td>1</td>\n",
       "      <td>0</td>\n",
       "      <td>0</td>\n",
       "    </tr>\n",
       "    <tr>\n",
       "      <th>4</th>\n",
       "      <td>monroe township</td>\n",
       "      <td>4000</td>\n",
       "      <td>725000</td>\n",
       "      <td>1</td>\n",
       "      <td>0</td>\n",
       "      <td>0</td>\n",
       "    </tr>\n",
       "    <tr>\n",
       "      <th>5</th>\n",
       "      <td>west windsor</td>\n",
       "      <td>2600</td>\n",
       "      <td>585000</td>\n",
       "      <td>0</td>\n",
       "      <td>0</td>\n",
       "      <td>1</td>\n",
       "    </tr>\n",
       "    <tr>\n",
       "      <th>6</th>\n",
       "      <td>west windsor</td>\n",
       "      <td>2800</td>\n",
       "      <td>615000</td>\n",
       "      <td>0</td>\n",
       "      <td>0</td>\n",
       "      <td>1</td>\n",
       "    </tr>\n",
       "    <tr>\n",
       "      <th>7</th>\n",
       "      <td>west windsor</td>\n",
       "      <td>3300</td>\n",
       "      <td>650000</td>\n",
       "      <td>0</td>\n",
       "      <td>0</td>\n",
       "      <td>1</td>\n",
       "    </tr>\n",
       "    <tr>\n",
       "      <th>8</th>\n",
       "      <td>west windsor</td>\n",
       "      <td>3600</td>\n",
       "      <td>710000</td>\n",
       "      <td>0</td>\n",
       "      <td>0</td>\n",
       "      <td>1</td>\n",
       "    </tr>\n",
       "    <tr>\n",
       "      <th>9</th>\n",
       "      <td>robinsville</td>\n",
       "      <td>2600</td>\n",
       "      <td>575000</td>\n",
       "      <td>0</td>\n",
       "      <td>1</td>\n",
       "      <td>0</td>\n",
       "    </tr>\n",
       "    <tr>\n",
       "      <th>10</th>\n",
       "      <td>robinsville</td>\n",
       "      <td>2900</td>\n",
       "      <td>600000</td>\n",
       "      <td>0</td>\n",
       "      <td>1</td>\n",
       "      <td>0</td>\n",
       "    </tr>\n",
       "    <tr>\n",
       "      <th>11</th>\n",
       "      <td>robinsville</td>\n",
       "      <td>3100</td>\n",
       "      <td>620000</td>\n",
       "      <td>0</td>\n",
       "      <td>1</td>\n",
       "      <td>0</td>\n",
       "    </tr>\n",
       "    <tr>\n",
       "      <th>12</th>\n",
       "      <td>robinsville</td>\n",
       "      <td>3600</td>\n",
       "      <td>695000</td>\n",
       "      <td>0</td>\n",
       "      <td>1</td>\n",
       "      <td>0</td>\n",
       "    </tr>\n",
       "  </tbody>\n",
       "</table>\n",
       "</div>"
      ],
      "text/plain": [
       "               town  area   price  monroe township  robinsville  west windsor\n",
       "0   monroe township  2600  550000                1            0             0\n",
       "1   monroe township  3000  565000                1            0             0\n",
       "2   monroe township  3200  610000                1            0             0\n",
       "3   monroe township  3600  680000                1            0             0\n",
       "4   monroe township  4000  725000                1            0             0\n",
       "5      west windsor  2600  585000                0            0             1\n",
       "6      west windsor  2800  615000                0            0             1\n",
       "7      west windsor  3300  650000                0            0             1\n",
       "8      west windsor  3600  710000                0            0             1\n",
       "9       robinsville  2600  575000                0            1             0\n",
       "10      robinsville  2900  600000                0            1             0\n",
       "11      robinsville  3100  620000                0            1             0\n",
       "12      robinsville  3600  695000                0            1             0"
      ]
     },
     "execution_count": 39,
     "metadata": {},
     "output_type": "execute_result"
    }
   ],
   "source": [
    "merged = pd.concat([df,dummies],axis='columns')\n",
    "merged"
   ]
  },
  {
   "cell_type": "code",
   "execution_count": 40,
   "id": "portuguese-steam",
   "metadata": {
    "ExecuteTime": {
     "end_time": "2021-04-06T18:23:43.040888Z",
     "start_time": "2021-04-06T18:23:43.025388Z"
    },
    "collapsed": true
   },
   "outputs": [
    {
     "data": {
      "text/html": [
       "<div>\n",
       "<style scoped>\n",
       "    .dataframe tbody tr th:only-of-type {\n",
       "        vertical-align: middle;\n",
       "    }\n",
       "\n",
       "    .dataframe tbody tr th {\n",
       "        vertical-align: top;\n",
       "    }\n",
       "\n",
       "    .dataframe thead th {\n",
       "        text-align: right;\n",
       "    }\n",
       "</style>\n",
       "<table border=\"1\" class=\"dataframe\">\n",
       "  <thead>\n",
       "    <tr style=\"text-align: right;\">\n",
       "      <th></th>\n",
       "      <th>area</th>\n",
       "      <th>price</th>\n",
       "      <th>monroe township</th>\n",
       "      <th>robinsville</th>\n",
       "      <th>west windsor</th>\n",
       "    </tr>\n",
       "  </thead>\n",
       "  <tbody>\n",
       "    <tr>\n",
       "      <th>0</th>\n",
       "      <td>2600</td>\n",
       "      <td>550000</td>\n",
       "      <td>1</td>\n",
       "      <td>0</td>\n",
       "      <td>0</td>\n",
       "    </tr>\n",
       "    <tr>\n",
       "      <th>1</th>\n",
       "      <td>3000</td>\n",
       "      <td>565000</td>\n",
       "      <td>1</td>\n",
       "      <td>0</td>\n",
       "      <td>0</td>\n",
       "    </tr>\n",
       "    <tr>\n",
       "      <th>2</th>\n",
       "      <td>3200</td>\n",
       "      <td>610000</td>\n",
       "      <td>1</td>\n",
       "      <td>0</td>\n",
       "      <td>0</td>\n",
       "    </tr>\n",
       "    <tr>\n",
       "      <th>3</th>\n",
       "      <td>3600</td>\n",
       "      <td>680000</td>\n",
       "      <td>1</td>\n",
       "      <td>0</td>\n",
       "      <td>0</td>\n",
       "    </tr>\n",
       "    <tr>\n",
       "      <th>4</th>\n",
       "      <td>4000</td>\n",
       "      <td>725000</td>\n",
       "      <td>1</td>\n",
       "      <td>0</td>\n",
       "      <td>0</td>\n",
       "    </tr>\n",
       "    <tr>\n",
       "      <th>5</th>\n",
       "      <td>2600</td>\n",
       "      <td>585000</td>\n",
       "      <td>0</td>\n",
       "      <td>0</td>\n",
       "      <td>1</td>\n",
       "    </tr>\n",
       "    <tr>\n",
       "      <th>6</th>\n",
       "      <td>2800</td>\n",
       "      <td>615000</td>\n",
       "      <td>0</td>\n",
       "      <td>0</td>\n",
       "      <td>1</td>\n",
       "    </tr>\n",
       "    <tr>\n",
       "      <th>7</th>\n",
       "      <td>3300</td>\n",
       "      <td>650000</td>\n",
       "      <td>0</td>\n",
       "      <td>0</td>\n",
       "      <td>1</td>\n",
       "    </tr>\n",
       "    <tr>\n",
       "      <th>8</th>\n",
       "      <td>3600</td>\n",
       "      <td>710000</td>\n",
       "      <td>0</td>\n",
       "      <td>0</td>\n",
       "      <td>1</td>\n",
       "    </tr>\n",
       "    <tr>\n",
       "      <th>9</th>\n",
       "      <td>2600</td>\n",
       "      <td>575000</td>\n",
       "      <td>0</td>\n",
       "      <td>1</td>\n",
       "      <td>0</td>\n",
       "    </tr>\n",
       "    <tr>\n",
       "      <th>10</th>\n",
       "      <td>2900</td>\n",
       "      <td>600000</td>\n",
       "      <td>0</td>\n",
       "      <td>1</td>\n",
       "      <td>0</td>\n",
       "    </tr>\n",
       "    <tr>\n",
       "      <th>11</th>\n",
       "      <td>3100</td>\n",
       "      <td>620000</td>\n",
       "      <td>0</td>\n",
       "      <td>1</td>\n",
       "      <td>0</td>\n",
       "    </tr>\n",
       "    <tr>\n",
       "      <th>12</th>\n",
       "      <td>3600</td>\n",
       "      <td>695000</td>\n",
       "      <td>0</td>\n",
       "      <td>1</td>\n",
       "      <td>0</td>\n",
       "    </tr>\n",
       "  </tbody>\n",
       "</table>\n",
       "</div>"
      ],
      "text/plain": [
       "    area   price  monroe township  robinsville  west windsor\n",
       "0   2600  550000                1            0             0\n",
       "1   3000  565000                1            0             0\n",
       "2   3200  610000                1            0             0\n",
       "3   3600  680000                1            0             0\n",
       "4   4000  725000                1            0             0\n",
       "5   2600  585000                0            0             1\n",
       "6   2800  615000                0            0             1\n",
       "7   3300  650000                0            0             1\n",
       "8   3600  710000                0            0             1\n",
       "9   2600  575000                0            1             0\n",
       "10  2900  600000                0            1             0\n",
       "11  3100  620000                0            1             0\n",
       "12  3600  695000                0            1             0"
      ]
     },
     "execution_count": 40,
     "metadata": {},
     "output_type": "execute_result"
    }
   ],
   "source": [
    "final = merged.drop(['town'], axis='columns')\n",
    "final"
   ]
  },
  {
   "cell_type": "markdown",
   "id": "personalized-spine",
   "metadata": {},
   "source": [
    "<h3 style='color:purple'>Dummy Variable Trap</h3>"
   ]
  },
  {
   "cell_type": "markdown",
   "id": "verbal-collection",
   "metadata": {},
   "source": [
    "When you can derive one variable from other variables, they are known to be multi-colinear. Here\n",
    "if you know values of california and georgia then you can easily infer value of new jersey state, i.e. \n",
    "california=0 and georgia=0. There for these state variables are called to be multi-colinear. In this\n",
    "situation linear regression won't work as expected. Hence you need to drop one column. "
   ]
  },
  {
   "cell_type": "markdown",
   "id": "honest-headline",
   "metadata": {},
   "source": [
    "**NOTE: sklearn library takes care of dummy variable trap hence even if you don't drop one of the \n",
    "    state columns it is going to work, however we should make a habit of taking care of dummy variable\n",
    "    trap ourselves just in case library that you are using is not handling this for you**"
   ]
  },
  {
   "cell_type": "code",
   "execution_count": 41,
   "id": "virgin-latex",
   "metadata": {
    "ExecuteTime": {
     "end_time": "2021-04-06T18:28:28.545861Z",
     "start_time": "2021-04-06T18:28:28.532268Z"
    }
   },
   "outputs": [
    {
     "data": {
      "text/html": [
       "<div>\n",
       "<style scoped>\n",
       "    .dataframe tbody tr th:only-of-type {\n",
       "        vertical-align: middle;\n",
       "    }\n",
       "\n",
       "    .dataframe tbody tr th {\n",
       "        vertical-align: top;\n",
       "    }\n",
       "\n",
       "    .dataframe thead th {\n",
       "        text-align: right;\n",
       "    }\n",
       "</style>\n",
       "<table border=\"1\" class=\"dataframe\">\n",
       "  <thead>\n",
       "    <tr style=\"text-align: right;\">\n",
       "      <th></th>\n",
       "      <th>area</th>\n",
       "      <th>price</th>\n",
       "      <th>monroe township</th>\n",
       "      <th>robinsville</th>\n",
       "    </tr>\n",
       "  </thead>\n",
       "  <tbody>\n",
       "    <tr>\n",
       "      <th>0</th>\n",
       "      <td>2600</td>\n",
       "      <td>550000</td>\n",
       "      <td>1</td>\n",
       "      <td>0</td>\n",
       "    </tr>\n",
       "    <tr>\n",
       "      <th>1</th>\n",
       "      <td>3000</td>\n",
       "      <td>565000</td>\n",
       "      <td>1</td>\n",
       "      <td>0</td>\n",
       "    </tr>\n",
       "    <tr>\n",
       "      <th>2</th>\n",
       "      <td>3200</td>\n",
       "      <td>610000</td>\n",
       "      <td>1</td>\n",
       "      <td>0</td>\n",
       "    </tr>\n",
       "    <tr>\n",
       "      <th>3</th>\n",
       "      <td>3600</td>\n",
       "      <td>680000</td>\n",
       "      <td>1</td>\n",
       "      <td>0</td>\n",
       "    </tr>\n",
       "    <tr>\n",
       "      <th>4</th>\n",
       "      <td>4000</td>\n",
       "      <td>725000</td>\n",
       "      <td>1</td>\n",
       "      <td>0</td>\n",
       "    </tr>\n",
       "    <tr>\n",
       "      <th>5</th>\n",
       "      <td>2600</td>\n",
       "      <td>585000</td>\n",
       "      <td>0</td>\n",
       "      <td>0</td>\n",
       "    </tr>\n",
       "    <tr>\n",
       "      <th>6</th>\n",
       "      <td>2800</td>\n",
       "      <td>615000</td>\n",
       "      <td>0</td>\n",
       "      <td>0</td>\n",
       "    </tr>\n",
       "    <tr>\n",
       "      <th>7</th>\n",
       "      <td>3300</td>\n",
       "      <td>650000</td>\n",
       "      <td>0</td>\n",
       "      <td>0</td>\n",
       "    </tr>\n",
       "    <tr>\n",
       "      <th>8</th>\n",
       "      <td>3600</td>\n",
       "      <td>710000</td>\n",
       "      <td>0</td>\n",
       "      <td>0</td>\n",
       "    </tr>\n",
       "    <tr>\n",
       "      <th>9</th>\n",
       "      <td>2600</td>\n",
       "      <td>575000</td>\n",
       "      <td>0</td>\n",
       "      <td>1</td>\n",
       "    </tr>\n",
       "    <tr>\n",
       "      <th>10</th>\n",
       "      <td>2900</td>\n",
       "      <td>600000</td>\n",
       "      <td>0</td>\n",
       "      <td>1</td>\n",
       "    </tr>\n",
       "    <tr>\n",
       "      <th>11</th>\n",
       "      <td>3100</td>\n",
       "      <td>620000</td>\n",
       "      <td>0</td>\n",
       "      <td>1</td>\n",
       "    </tr>\n",
       "    <tr>\n",
       "      <th>12</th>\n",
       "      <td>3600</td>\n",
       "      <td>695000</td>\n",
       "      <td>0</td>\n",
       "      <td>1</td>\n",
       "    </tr>\n",
       "  </tbody>\n",
       "</table>\n",
       "</div>"
      ],
      "text/plain": [
       "    area   price  monroe township  robinsville\n",
       "0   2600  550000                1            0\n",
       "1   3000  565000                1            0\n",
       "2   3200  610000                1            0\n",
       "3   3600  680000                1            0\n",
       "4   4000  725000                1            0\n",
       "5   2600  585000                0            0\n",
       "6   2800  615000                0            0\n",
       "7   3300  650000                0            0\n",
       "8   3600  710000                0            0\n",
       "9   2600  575000                0            1\n",
       "10  2900  600000                0            1\n",
       "11  3100  620000                0            1\n",
       "12  3600  695000                0            1"
      ]
     },
     "execution_count": 41,
     "metadata": {},
     "output_type": "execute_result"
    }
   ],
   "source": [
    "final = final.drop(['west windsor'], axis='columns')\n",
    "final"
   ]
  },
  {
   "cell_type": "code",
   "execution_count": 84,
   "id": "incomplete-burden",
   "metadata": {
    "ExecuteTime": {
     "end_time": "2021-04-06T18:57:17.442381Z",
     "start_time": "2021-04-06T18:57:17.432891Z"
    }
   },
   "outputs": [
    {
     "data": {
      "text/html": [
       "<div>\n",
       "<style scoped>\n",
       "    .dataframe tbody tr th:only-of-type {\n",
       "        vertical-align: middle;\n",
       "    }\n",
       "\n",
       "    .dataframe tbody tr th {\n",
       "        vertical-align: top;\n",
       "    }\n",
       "\n",
       "    .dataframe thead th {\n",
       "        text-align: right;\n",
       "    }\n",
       "</style>\n",
       "<table border=\"1\" class=\"dataframe\">\n",
       "  <thead>\n",
       "    <tr style=\"text-align: right;\">\n",
       "      <th></th>\n",
       "      <th>area</th>\n",
       "      <th>monroe township</th>\n",
       "      <th>robinsville</th>\n",
       "    </tr>\n",
       "  </thead>\n",
       "  <tbody>\n",
       "    <tr>\n",
       "      <th>0</th>\n",
       "      <td>2600</td>\n",
       "      <td>1</td>\n",
       "      <td>0</td>\n",
       "    </tr>\n",
       "    <tr>\n",
       "      <th>1</th>\n",
       "      <td>3000</td>\n",
       "      <td>1</td>\n",
       "      <td>0</td>\n",
       "    </tr>\n",
       "    <tr>\n",
       "      <th>2</th>\n",
       "      <td>3200</td>\n",
       "      <td>1</td>\n",
       "      <td>0</td>\n",
       "    </tr>\n",
       "    <tr>\n",
       "      <th>3</th>\n",
       "      <td>3600</td>\n",
       "      <td>1</td>\n",
       "      <td>0</td>\n",
       "    </tr>\n",
       "    <tr>\n",
       "      <th>4</th>\n",
       "      <td>4000</td>\n",
       "      <td>1</td>\n",
       "      <td>0</td>\n",
       "    </tr>\n",
       "    <tr>\n",
       "      <th>5</th>\n",
       "      <td>2600</td>\n",
       "      <td>0</td>\n",
       "      <td>0</td>\n",
       "    </tr>\n",
       "    <tr>\n",
       "      <th>6</th>\n",
       "      <td>2800</td>\n",
       "      <td>0</td>\n",
       "      <td>0</td>\n",
       "    </tr>\n",
       "    <tr>\n",
       "      <th>7</th>\n",
       "      <td>3300</td>\n",
       "      <td>0</td>\n",
       "      <td>0</td>\n",
       "    </tr>\n",
       "    <tr>\n",
       "      <th>8</th>\n",
       "      <td>3600</td>\n",
       "      <td>0</td>\n",
       "      <td>0</td>\n",
       "    </tr>\n",
       "    <tr>\n",
       "      <th>9</th>\n",
       "      <td>2600</td>\n",
       "      <td>0</td>\n",
       "      <td>1</td>\n",
       "    </tr>\n",
       "    <tr>\n",
       "      <th>10</th>\n",
       "      <td>2900</td>\n",
       "      <td>0</td>\n",
       "      <td>1</td>\n",
       "    </tr>\n",
       "    <tr>\n",
       "      <th>11</th>\n",
       "      <td>3100</td>\n",
       "      <td>0</td>\n",
       "      <td>1</td>\n",
       "    </tr>\n",
       "    <tr>\n",
       "      <th>12</th>\n",
       "      <td>3600</td>\n",
       "      <td>0</td>\n",
       "      <td>1</td>\n",
       "    </tr>\n",
       "  </tbody>\n",
       "</table>\n",
       "</div>"
      ],
      "text/plain": [
       "    area  monroe township  robinsville\n",
       "0   2600                1            0\n",
       "1   3000                1            0\n",
       "2   3200                1            0\n",
       "3   3600                1            0\n",
       "4   4000                1            0\n",
       "5   2600                0            0\n",
       "6   2800                0            0\n",
       "7   3300                0            0\n",
       "8   3600                0            0\n",
       "9   2600                0            1\n",
       "10  2900                0            1\n",
       "11  3100                0            1\n",
       "12  3600                0            1"
      ]
     },
     "execution_count": 84,
     "metadata": {},
     "output_type": "execute_result"
    }
   ],
   "source": [
    "X = final.drop('price', axis='columns')\n",
    "X"
   ]
  },
  {
   "cell_type": "code",
   "execution_count": 43,
   "id": "cordless-courage",
   "metadata": {
    "ExecuteTime": {
     "end_time": "2021-04-06T18:29:15.593459Z",
     "start_time": "2021-04-06T18:29:15.579323Z"
    }
   },
   "outputs": [],
   "source": [
    "y = final.price"
   ]
  },
  {
   "cell_type": "code",
   "execution_count": 45,
   "id": "positive-consultancy",
   "metadata": {
    "ExecuteTime": {
     "end_time": "2021-04-06T18:31:01.814860Z",
     "start_time": "2021-04-06T18:31:01.802879Z"
    }
   },
   "outputs": [],
   "source": [
    "from sklearn.linear_model import LinearRegression\n",
    "# we are creating an object of this class\n",
    "model = LinearRegression()"
   ]
  },
  {
   "cell_type": "code",
   "execution_count": 46,
   "id": "looking-treaty",
   "metadata": {
    "ExecuteTime": {
     "end_time": "2021-04-06T18:31:22.046940Z",
     "start_time": "2021-04-06T18:31:22.031233Z"
    }
   },
   "outputs": [
    {
     "data": {
      "text/plain": [
       "LinearRegression()"
      ]
     },
     "execution_count": 46,
     "metadata": {},
     "output_type": "execute_result"
    }
   ],
   "source": [
    "model.fit(X,y)"
   ]
  },
  {
   "cell_type": "code",
   "execution_count": 47,
   "id": "bigger-spain",
   "metadata": {
    "ExecuteTime": {
     "end_time": "2021-04-06T18:32:05.061033Z",
     "start_time": "2021-04-06T18:32:05.046518Z"
    },
    "scrolled": true
   },
   "outputs": [
    {
     "data": {
      "text/plain": [
       "array([539709.7398409 , 590468.71640508, 615848.20468716, 666607.18125134,\n",
       "       717366.15781551, 579723.71533005, 605103.20361213, 668551.92431735,\n",
       "       706621.15674048, 565396.15136531, 603465.38378844, 628844.87207052,\n",
       "       692293.59277574])"
      ]
     },
     "execution_count": 47,
     "metadata": {},
     "output_type": "execute_result"
    }
   ],
   "source": [
    "model.predict(X) # 2600 sqr ft home in new jersey"
   ]
  },
  {
   "cell_type": "code",
   "execution_count": 48,
   "id": "convenient-visibility",
   "metadata": {
    "ExecuteTime": {
     "end_time": "2021-04-06T18:32:59.353885Z",
     "start_time": "2021-04-06T18:32:59.339922Z"
    }
   },
   "outputs": [
    {
     "data": {
      "text/plain": [
       "0.9573929037221873"
      ]
     },
     "execution_count": 48,
     "metadata": {},
     "output_type": "execute_result"
    }
   ],
   "source": [
    "model.score(X,y)"
   ]
  },
  {
   "cell_type": "code",
   "execution_count": 49,
   "id": "controlled-strain",
   "metadata": {
    "ExecuteTime": {
     "end_time": "2021-04-06T18:33:03.524757Z",
     "start_time": "2021-04-06T18:33:03.511587Z"
    }
   },
   "outputs": [
    {
     "data": {
      "text/plain": [
       "array([681241.66845839])"
      ]
     },
     "execution_count": 49,
     "metadata": {},
     "output_type": "execute_result"
    }
   ],
   "source": [
    "model.predict([[3400,0,0]]) # 3400 sqr ft home in west windsor"
   ]
  },
  {
   "cell_type": "code",
   "execution_count": 50,
   "id": "acoustic-liver",
   "metadata": {
    "ExecuteTime": {
     "end_time": "2021-04-06T18:33:06.169952Z",
     "start_time": "2021-04-06T18:33:06.158008Z"
    }
   },
   "outputs": [
    {
     "data": {
      "text/plain": [
       "array([590775.63964739])"
      ]
     },
     "execution_count": 50,
     "metadata": {},
     "output_type": "execute_result"
    }
   ],
   "source": [
    "model.predict([[2800,0,1]]) # 2800 sqr ft home in robbinsville"
   ]
  },
  {
   "cell_type": "markdown",
   "id": "fluid-johnson",
   "metadata": {},
   "source": [
    "### Note: Fill missing values using sklearn "
   ]
  },
  {
   "cell_type": "code",
   "execution_count": 51,
   "id": "virgin-merchandise",
   "metadata": {
    "ExecuteTime": {
     "end_time": "2021-04-06T18:36:33.842262Z",
     "start_time": "2021-04-06T18:36:33.751924Z"
    }
   },
   "outputs": [
    {
     "name": "stdout",
     "output_type": "stream",
     "text": [
      "[[4.         2.        ]\n",
      " [6.         3.66666667]\n",
      " [7.         6.        ]]\n"
     ]
    }
   ],
   "source": [
    "import numpy as np\n",
    "from sklearn.impute import SimpleImputer\n",
    "imp = SimpleImputer(missing_values=np.nan, strategy='mean')\n",
    "imp.fit([[1, 2], [np.nan, 3], [7, 6]])\n",
    "\n",
    "X = [[np.nan, 2], [6, np.nan], [7, 6]]\n",
    "print(imp.transform(X))"
   ]
  },
  {
   "cell_type": "markdown",
   "id": "toxic-andrew",
   "metadata": {},
   "source": [
    "<h2 style='color:purple'>Using sklearn OneHotEncoder</h2>"
   ]
  },
  {
   "cell_type": "markdown",
   "id": "arabic-detective",
   "metadata": {},
   "source": [
    "First step is to use label encoder to convert town names into numbers"
   ]
  },
  {
   "cell_type": "code",
   "execution_count": 85,
   "id": "clinical-turner",
   "metadata": {
    "ExecuteTime": {
     "end_time": "2021-04-06T18:57:55.911573Z",
     "start_time": "2021-04-06T18:57:55.899979Z"
    }
   },
   "outputs": [],
   "source": [
    "from sklearn.preprocessing import LabelEncoder\n",
    "le = LabelEncoder()"
   ]
  },
  {
   "cell_type": "code",
   "execution_count": 86,
   "id": "different-chicago",
   "metadata": {
    "ExecuteTime": {
     "end_time": "2021-04-06T18:57:58.648928Z",
     "start_time": "2021-04-06T18:57:58.636968Z"
    }
   },
   "outputs": [
    {
     "data": {
      "text/html": [
       "<div>\n",
       "<style scoped>\n",
       "    .dataframe tbody tr th:only-of-type {\n",
       "        vertical-align: middle;\n",
       "    }\n",
       "\n",
       "    .dataframe tbody tr th {\n",
       "        vertical-align: top;\n",
       "    }\n",
       "\n",
       "    .dataframe thead th {\n",
       "        text-align: right;\n",
       "    }\n",
       "</style>\n",
       "<table border=\"1\" class=\"dataframe\">\n",
       "  <thead>\n",
       "    <tr style=\"text-align: right;\">\n",
       "      <th></th>\n",
       "      <th>town</th>\n",
       "      <th>area</th>\n",
       "      <th>price</th>\n",
       "    </tr>\n",
       "  </thead>\n",
       "  <tbody>\n",
       "    <tr>\n",
       "      <th>0</th>\n",
       "      <td>0</td>\n",
       "      <td>2600</td>\n",
       "      <td>550000</td>\n",
       "    </tr>\n",
       "    <tr>\n",
       "      <th>1</th>\n",
       "      <td>0</td>\n",
       "      <td>3000</td>\n",
       "      <td>565000</td>\n",
       "    </tr>\n",
       "    <tr>\n",
       "      <th>2</th>\n",
       "      <td>0</td>\n",
       "      <td>3200</td>\n",
       "      <td>610000</td>\n",
       "    </tr>\n",
       "    <tr>\n",
       "      <th>3</th>\n",
       "      <td>0</td>\n",
       "      <td>3600</td>\n",
       "      <td>680000</td>\n",
       "    </tr>\n",
       "    <tr>\n",
       "      <th>4</th>\n",
       "      <td>0</td>\n",
       "      <td>4000</td>\n",
       "      <td>725000</td>\n",
       "    </tr>\n",
       "    <tr>\n",
       "      <th>5</th>\n",
       "      <td>2</td>\n",
       "      <td>2600</td>\n",
       "      <td>585000</td>\n",
       "    </tr>\n",
       "    <tr>\n",
       "      <th>6</th>\n",
       "      <td>2</td>\n",
       "      <td>2800</td>\n",
       "      <td>615000</td>\n",
       "    </tr>\n",
       "    <tr>\n",
       "      <th>7</th>\n",
       "      <td>2</td>\n",
       "      <td>3300</td>\n",
       "      <td>650000</td>\n",
       "    </tr>\n",
       "    <tr>\n",
       "      <th>8</th>\n",
       "      <td>2</td>\n",
       "      <td>3600</td>\n",
       "      <td>710000</td>\n",
       "    </tr>\n",
       "    <tr>\n",
       "      <th>9</th>\n",
       "      <td>1</td>\n",
       "      <td>2600</td>\n",
       "      <td>575000</td>\n",
       "    </tr>\n",
       "    <tr>\n",
       "      <th>10</th>\n",
       "      <td>1</td>\n",
       "      <td>2900</td>\n",
       "      <td>600000</td>\n",
       "    </tr>\n",
       "    <tr>\n",
       "      <th>11</th>\n",
       "      <td>1</td>\n",
       "      <td>3100</td>\n",
       "      <td>620000</td>\n",
       "    </tr>\n",
       "    <tr>\n",
       "      <th>12</th>\n",
       "      <td>1</td>\n",
       "      <td>3600</td>\n",
       "      <td>695000</td>\n",
       "    </tr>\n",
       "  </tbody>\n",
       "</table>\n",
       "</div>"
      ],
      "text/plain": [
       "    town  area   price\n",
       "0      0  2600  550000\n",
       "1      0  3000  565000\n",
       "2      0  3200  610000\n",
       "3      0  3600  680000\n",
       "4      0  4000  725000\n",
       "5      2  2600  585000\n",
       "6      2  2800  615000\n",
       "7      2  3300  650000\n",
       "8      2  3600  710000\n",
       "9      1  2600  575000\n",
       "10     1  2900  600000\n",
       "11     1  3100  620000\n",
       "12     1  3600  695000"
      ]
     },
     "execution_count": 86,
     "metadata": {},
     "output_type": "execute_result"
    }
   ],
   "source": [
    "dfle = df\n",
    "dfle.town = le.fit_transform(dfle.town)\n",
    "dfle"
   ]
  },
  {
   "cell_type": "code",
   "execution_count": 87,
   "id": "involved-completion",
   "metadata": {
    "ExecuteTime": {
     "end_time": "2021-04-06T18:58:06.789914Z",
     "start_time": "2021-04-06T18:58:06.783925Z"
    }
   },
   "outputs": [],
   "source": [
    "X = dfle[['town','area']].values"
   ]
  },
  {
   "cell_type": "code",
   "execution_count": 88,
   "id": "characteristic-scottish",
   "metadata": {
    "ExecuteTime": {
     "end_time": "2021-04-06T18:58:09.189801Z",
     "start_time": "2021-04-06T18:58:09.173067Z"
    }
   },
   "outputs": [
    {
     "data": {
      "text/plain": [
       "array([[   0, 2600],\n",
       "       [   0, 3000],\n",
       "       [   0, 3200],\n",
       "       [   0, 3600],\n",
       "       [   0, 4000],\n",
       "       [   2, 2600],\n",
       "       [   2, 2800],\n",
       "       [   2, 3300],\n",
       "       [   2, 3600],\n",
       "       [   1, 2600],\n",
       "       [   1, 2900],\n",
       "       [   1, 3100],\n",
       "       [   1, 3600]], dtype=int64)"
      ]
     },
     "execution_count": 88,
     "metadata": {},
     "output_type": "execute_result"
    }
   ],
   "source": [
    "X"
   ]
  },
  {
   "cell_type": "code",
   "execution_count": 89,
   "id": "underlying-commander",
   "metadata": {
    "ExecuteTime": {
     "end_time": "2021-04-06T18:58:16.290091Z",
     "start_time": "2021-04-06T18:58:16.275977Z"
    }
   },
   "outputs": [
    {
     "data": {
      "text/plain": [
       "array([550000, 565000, 610000, 680000, 725000, 585000, 615000, 650000,\n",
       "       710000, 575000, 600000, 620000, 695000], dtype=int64)"
      ]
     },
     "execution_count": 89,
     "metadata": {},
     "output_type": "execute_result"
    }
   ],
   "source": [
    "y = dfle.price.values\n",
    "y"
   ]
  },
  {
   "cell_type": "markdown",
   "id": "hungarian-envelope",
   "metadata": {},
   "source": [
    "Now use one hot encoder to create dummy variables for each of the town"
   ]
  },
  {
   "cell_type": "code",
   "execution_count": 90,
   "id": "elect-print",
   "metadata": {
    "ExecuteTime": {
     "end_time": "2021-04-06T18:58:31.767111Z",
     "start_time": "2021-04-06T18:58:31.754981Z"
    }
   },
   "outputs": [],
   "source": [
    "from sklearn.preprocessing import OneHotEncoder\n",
    "from sklearn.compose import ColumnTransformer"
   ]
  },
  {
   "cell_type": "code",
   "execution_count": 91,
   "id": "dated-mileage",
   "metadata": {
    "ExecuteTime": {
     "end_time": "2021-04-06T18:58:50.831039Z",
     "start_time": "2021-04-06T18:58:50.812922Z"
    }
   },
   "outputs": [],
   "source": [
    "ct = ColumnTransformer([('town', OneHotEncoder(), [0])], remainder = 'passthrough')"
   ]
  },
  {
   "cell_type": "code",
   "execution_count": 92,
   "id": "emotional-forge",
   "metadata": {
    "ExecuteTime": {
     "end_time": "2021-04-06T18:58:56.749155Z",
     "start_time": "2021-04-06T18:58:56.727185Z"
    }
   },
   "outputs": [
    {
     "data": {
      "text/plain": [
       "array([[1.0e+00, 0.0e+00, 0.0e+00, 2.6e+03],\n",
       "       [1.0e+00, 0.0e+00, 0.0e+00, 3.0e+03],\n",
       "       [1.0e+00, 0.0e+00, 0.0e+00, 3.2e+03],\n",
       "       [1.0e+00, 0.0e+00, 0.0e+00, 3.6e+03],\n",
       "       [1.0e+00, 0.0e+00, 0.0e+00, 4.0e+03],\n",
       "       [0.0e+00, 0.0e+00, 1.0e+00, 2.6e+03],\n",
       "       [0.0e+00, 0.0e+00, 1.0e+00, 2.8e+03],\n",
       "       [0.0e+00, 0.0e+00, 1.0e+00, 3.3e+03],\n",
       "       [0.0e+00, 0.0e+00, 1.0e+00, 3.6e+03],\n",
       "       [0.0e+00, 1.0e+00, 0.0e+00, 2.6e+03],\n",
       "       [0.0e+00, 1.0e+00, 0.0e+00, 2.9e+03],\n",
       "       [0.0e+00, 1.0e+00, 0.0e+00, 3.1e+03],\n",
       "       [0.0e+00, 1.0e+00, 0.0e+00, 3.6e+03]])"
      ]
     },
     "execution_count": 92,
     "metadata": {},
     "output_type": "execute_result"
    }
   ],
   "source": [
    "X = ct.fit_transform(X)\n",
    "X"
   ]
  },
  {
   "cell_type": "code",
   "execution_count": 93,
   "id": "powered-reference",
   "metadata": {
    "ExecuteTime": {
     "end_time": "2021-04-06T18:59:12.821098Z",
     "start_time": "2021-04-06T18:59:12.802998Z"
    }
   },
   "outputs": [],
   "source": [
    "X = X[:,1:]"
   ]
  },
  {
   "cell_type": "code",
   "execution_count": 94,
   "id": "rural-train",
   "metadata": {
    "ExecuteTime": {
     "end_time": "2021-04-06T18:59:16.209937Z",
     "start_time": "2021-04-06T18:59:16.199966Z"
    }
   },
   "outputs": [
    {
     "data": {
      "text/plain": [
       "array([[0.0e+00, 0.0e+00, 2.6e+03],\n",
       "       [0.0e+00, 0.0e+00, 3.0e+03],\n",
       "       [0.0e+00, 0.0e+00, 3.2e+03],\n",
       "       [0.0e+00, 0.0e+00, 3.6e+03],\n",
       "       [0.0e+00, 0.0e+00, 4.0e+03],\n",
       "       [0.0e+00, 1.0e+00, 2.6e+03],\n",
       "       [0.0e+00, 1.0e+00, 2.8e+03],\n",
       "       [0.0e+00, 1.0e+00, 3.3e+03],\n",
       "       [0.0e+00, 1.0e+00, 3.6e+03],\n",
       "       [1.0e+00, 0.0e+00, 2.6e+03],\n",
       "       [1.0e+00, 0.0e+00, 2.9e+03],\n",
       "       [1.0e+00, 0.0e+00, 3.1e+03],\n",
       "       [1.0e+00, 0.0e+00, 3.6e+03]])"
      ]
     },
     "execution_count": 94,
     "metadata": {},
     "output_type": "execute_result"
    }
   ],
   "source": [
    "X"
   ]
  },
  {
   "cell_type": "code",
   "execution_count": 95,
   "id": "bored-friendly",
   "metadata": {
    "ExecuteTime": {
     "end_time": "2021-04-06T18:59:20.683008Z",
     "start_time": "2021-04-06T18:59:20.663904Z"
    }
   },
   "outputs": [
    {
     "data": {
      "text/plain": [
       "LinearRegression()"
      ]
     },
     "execution_count": 95,
     "metadata": {},
     "output_type": "execute_result"
    }
   ],
   "source": [
    "model.fit(X,y)"
   ]
  },
  {
   "cell_type": "code",
   "execution_count": 96,
   "id": "complete-demand",
   "metadata": {
    "ExecuteTime": {
     "end_time": "2021-04-06T18:59:32.678705Z",
     "start_time": "2021-04-06T18:59:32.668653Z"
    }
   },
   "outputs": [
    {
     "data": {
      "text/plain": [
       "array([681241.6684584])"
      ]
     },
     "execution_count": 96,
     "metadata": {},
     "output_type": "execute_result"
    }
   ],
   "source": [
    "model.predict([[0,1,3400]]) # 3400 sqr ft home in west windsor"
   ]
  },
  {
   "cell_type": "code",
   "execution_count": 97,
   "id": "upset-removal",
   "metadata": {
    "ExecuteTime": {
     "end_time": "2021-04-06T18:59:42.716082Z",
     "start_time": "2021-04-06T18:59:42.699943Z"
    },
    "scrolled": true
   },
   "outputs": [
    {
     "data": {
      "text/plain": [
       "array([590775.63964739])"
      ]
     },
     "execution_count": 97,
     "metadata": {},
     "output_type": "execute_result"
    }
   ],
   "source": [
    "model.predict([[1,0,2800]]) # 2800 sqr ft home in robbinsville"
   ]
  },
  {
   "cell_type": "markdown",
   "id": "upper-queensland",
   "metadata": {},
   "source": [
    "<h2 style='color:green'>Exercise</h2>"
   ]
  },
  {
   "cell_type": "markdown",
   "id": "matched-phenomenon",
   "metadata": {},
   "source": [
    "At the same level as this notebook on github, there is an Exercise folder that contains carprices.csv.\n",
    "This file has car sell prices for 3 different models. First plot data points on a scatter plot chart\n",
    "to see if linear regression model can be applied. If yes, then build a model that can answer\n",
    "following questions,\n",
    "\n",
    "**1) Predict price of a mercedez benz that is 4 yr old with mileage 45000**\n",
    "\n",
    "**2) Predict price of a BMW X5 that is 7 yr old with mileage 86000**\n",
    "\n",
    "**3) Tell me the score (accuracy) of your model. (Hint: use LinearRegression().score())**"
   ]
  },
  {
   "cell_type": "code",
   "execution_count": 187,
   "id": "superior-massachusetts",
   "metadata": {
    "ExecuteTime": {
     "end_time": "2021-04-06T20:23:18.573068Z",
     "start_time": "2021-04-06T20:23:18.555987Z"
    }
   },
   "outputs": [],
   "source": [
    "import pandas as pd \n",
    "import numpy as np \n",
    "from sklearn.linear_model import LinearRegression\n",
    "import matplotlib.pyplot as plt "
   ]
  },
  {
   "cell_type": "code",
   "execution_count": 234,
   "id": "narrow-honor",
   "metadata": {
    "ExecuteTime": {
     "end_time": "2021-04-06T20:59:30.577659Z",
     "start_time": "2021-04-06T20:59:30.562533Z"
    }
   },
   "outputs": [],
   "source": [
    "from sklearn.preprocessing import OneHotEncoder\n",
    "from sklearn.compose import ColumnTransformer\n",
    "from sklearn.preprocessing import LabelEncoder"
   ]
  },
  {
   "cell_type": "code",
   "execution_count": 281,
   "id": "everyday-dressing",
   "metadata": {
    "ExecuteTime": {
     "end_time": "2021-04-06T21:41:28.825913Z",
     "start_time": "2021-04-06T21:41:28.811410Z"
    }
   },
   "outputs": [],
   "source": [
    "df = pd.read_csv ('D:/GitHub/py/ML/5_one_hot_encoding/Exercise/carprices.csv')"
   ]
  },
  {
   "cell_type": "code",
   "execution_count": 282,
   "id": "prime-geography",
   "metadata": {
    "ExecuteTime": {
     "end_time": "2021-04-06T21:41:47.361857Z",
     "start_time": "2021-04-06T21:41:47.346878Z"
    }
   },
   "outputs": [
    {
     "data": {
      "text/html": [
       "<div>\n",
       "<style scoped>\n",
       "    .dataframe tbody tr th:only-of-type {\n",
       "        vertical-align: middle;\n",
       "    }\n",
       "\n",
       "    .dataframe tbody tr th {\n",
       "        vertical-align: top;\n",
       "    }\n",
       "\n",
       "    .dataframe thead th {\n",
       "        text-align: right;\n",
       "    }\n",
       "</style>\n",
       "<table border=\"1\" class=\"dataframe\">\n",
       "  <thead>\n",
       "    <tr style=\"text-align: right;\">\n",
       "      <th></th>\n",
       "      <th>Car Model</th>\n",
       "      <th>Mileage</th>\n",
       "      <th>Sell Price($)</th>\n",
       "      <th>Age(yrs)</th>\n",
       "    </tr>\n",
       "  </thead>\n",
       "  <tbody>\n",
       "    <tr>\n",
       "      <th>0</th>\n",
       "      <td>BMW X5</td>\n",
       "      <td>69000</td>\n",
       "      <td>18000</td>\n",
       "      <td>6</td>\n",
       "    </tr>\n",
       "    <tr>\n",
       "      <th>1</th>\n",
       "      <td>BMW X5</td>\n",
       "      <td>35000</td>\n",
       "      <td>34000</td>\n",
       "      <td>3</td>\n",
       "    </tr>\n",
       "    <tr>\n",
       "      <th>2</th>\n",
       "      <td>BMW X5</td>\n",
       "      <td>57000</td>\n",
       "      <td>26100</td>\n",
       "      <td>5</td>\n",
       "    </tr>\n",
       "    <tr>\n",
       "      <th>3</th>\n",
       "      <td>BMW X5</td>\n",
       "      <td>22500</td>\n",
       "      <td>40000</td>\n",
       "      <td>2</td>\n",
       "    </tr>\n",
       "    <tr>\n",
       "      <th>4</th>\n",
       "      <td>BMW X5</td>\n",
       "      <td>46000</td>\n",
       "      <td>31500</td>\n",
       "      <td>4</td>\n",
       "    </tr>\n",
       "    <tr>\n",
       "      <th>5</th>\n",
       "      <td>Audi A5</td>\n",
       "      <td>59000</td>\n",
       "      <td>29400</td>\n",
       "      <td>5</td>\n",
       "    </tr>\n",
       "    <tr>\n",
       "      <th>6</th>\n",
       "      <td>Audi A5</td>\n",
       "      <td>52000</td>\n",
       "      <td>32000</td>\n",
       "      <td>5</td>\n",
       "    </tr>\n",
       "    <tr>\n",
       "      <th>7</th>\n",
       "      <td>Audi A5</td>\n",
       "      <td>72000</td>\n",
       "      <td>19300</td>\n",
       "      <td>6</td>\n",
       "    </tr>\n",
       "    <tr>\n",
       "      <th>8</th>\n",
       "      <td>Audi A5</td>\n",
       "      <td>91000</td>\n",
       "      <td>12000</td>\n",
       "      <td>8</td>\n",
       "    </tr>\n",
       "    <tr>\n",
       "      <th>9</th>\n",
       "      <td>Mercedez Benz C class</td>\n",
       "      <td>67000</td>\n",
       "      <td>22000</td>\n",
       "      <td>6</td>\n",
       "    </tr>\n",
       "    <tr>\n",
       "      <th>10</th>\n",
       "      <td>Mercedez Benz C class</td>\n",
       "      <td>83000</td>\n",
       "      <td>20000</td>\n",
       "      <td>7</td>\n",
       "    </tr>\n",
       "    <tr>\n",
       "      <th>11</th>\n",
       "      <td>Mercedez Benz C class</td>\n",
       "      <td>79000</td>\n",
       "      <td>21000</td>\n",
       "      <td>7</td>\n",
       "    </tr>\n",
       "    <tr>\n",
       "      <th>12</th>\n",
       "      <td>Mercedez Benz C class</td>\n",
       "      <td>59000</td>\n",
       "      <td>33000</td>\n",
       "      <td>5</td>\n",
       "    </tr>\n",
       "  </tbody>\n",
       "</table>\n",
       "</div>"
      ],
      "text/plain": [
       "                Car Model  Mileage  Sell Price($)  Age(yrs)\n",
       "0                  BMW X5    69000          18000         6\n",
       "1                  BMW X5    35000          34000         3\n",
       "2                  BMW X5    57000          26100         5\n",
       "3                  BMW X5    22500          40000         2\n",
       "4                  BMW X5    46000          31500         4\n",
       "5                 Audi A5    59000          29400         5\n",
       "6                 Audi A5    52000          32000         5\n",
       "7                 Audi A5    72000          19300         6\n",
       "8                 Audi A5    91000          12000         8\n",
       "9   Mercedez Benz C class    67000          22000         6\n",
       "10  Mercedez Benz C class    83000          20000         7\n",
       "11  Mercedez Benz C class    79000          21000         7\n",
       "12  Mercedez Benz C class    59000          33000         5"
      ]
     },
     "execution_count": 282,
     "metadata": {},
     "output_type": "execute_result"
    }
   ],
   "source": [
    "df"
   ]
  },
  {
   "cell_type": "code",
   "execution_count": 192,
   "id": "lesser-science",
   "metadata": {
    "ExecuteTime": {
     "end_time": "2021-04-06T20:23:23.490480Z",
     "start_time": "2021-04-06T20:23:23.476935Z"
    }
   },
   "outputs": [
    {
     "name": "stdout",
     "output_type": "stream",
     "text": [
      "<class 'pandas.core.frame.DataFrame'>\n",
      "RangeIndex: 13 entries, 0 to 12\n",
      "Data columns (total 4 columns):\n",
      " #   Column         Non-Null Count  Dtype \n",
      "---  ------         --------------  ----- \n",
      " 0   Car Model      13 non-null     object\n",
      " 1   Mileage        13 non-null     int64 \n",
      " 2   Sell Price($)  13 non-null     int64 \n",
      " 3   Age(yrs)       13 non-null     int64 \n",
      "dtypes: int64(3), object(1)\n",
      "memory usage: 544.0+ bytes\n"
     ]
    }
   ],
   "source": [
    "df.info()"
   ]
  },
  {
   "cell_type": "code",
   "execution_count": 193,
   "id": "steady-toddler",
   "metadata": {
    "ExecuteTime": {
     "end_time": "2021-04-06T20:23:24.376523Z",
     "start_time": "2021-04-06T20:23:24.361033Z"
    }
   },
   "outputs": [
    {
     "data": {
      "text/plain": [
       "Car Model        object\n",
       "Mileage           int64\n",
       "Sell Price($)     int64\n",
       "Age(yrs)          int64\n",
       "dtype: object"
      ]
     },
     "execution_count": 193,
     "metadata": {},
     "output_type": "execute_result"
    }
   ],
   "source": [
    "df.dtypes"
   ]
  },
  {
   "cell_type": "code",
   "execution_count": 194,
   "id": "introductory-offset",
   "metadata": {
    "ExecuteTime": {
     "end_time": "2021-04-06T20:23:25.256699Z",
     "start_time": "2021-04-06T20:23:25.238898Z"
    }
   },
   "outputs": [
    {
     "data": {
      "text/html": [
       "<div>\n",
       "<style scoped>\n",
       "    .dataframe tbody tr th:only-of-type {\n",
       "        vertical-align: middle;\n",
       "    }\n",
       "\n",
       "    .dataframe tbody tr th {\n",
       "        vertical-align: top;\n",
       "    }\n",
       "\n",
       "    .dataframe thead th {\n",
       "        text-align: right;\n",
       "    }\n",
       "</style>\n",
       "<table border=\"1\" class=\"dataframe\">\n",
       "  <thead>\n",
       "    <tr style=\"text-align: right;\">\n",
       "      <th></th>\n",
       "      <th>Mileage</th>\n",
       "      <th>Sell Price($)</th>\n",
       "      <th>Age(yrs)</th>\n",
       "    </tr>\n",
       "  </thead>\n",
       "  <tbody>\n",
       "    <tr>\n",
       "      <th>count</th>\n",
       "      <td>13.000000</td>\n",
       "      <td>13.000000</td>\n",
       "      <td>13.000000</td>\n",
       "    </tr>\n",
       "    <tr>\n",
       "      <th>mean</th>\n",
       "      <td>60884.615385</td>\n",
       "      <td>26023.076923</td>\n",
       "      <td>5.307692</td>\n",
       "    </tr>\n",
       "    <tr>\n",
       "      <th>std</th>\n",
       "      <td>19185.665055</td>\n",
       "      <td>8003.661021</td>\n",
       "      <td>1.652504</td>\n",
       "    </tr>\n",
       "    <tr>\n",
       "      <th>min</th>\n",
       "      <td>22500.000000</td>\n",
       "      <td>12000.000000</td>\n",
       "      <td>2.000000</td>\n",
       "    </tr>\n",
       "    <tr>\n",
       "      <th>25%</th>\n",
       "      <td>52000.000000</td>\n",
       "      <td>20000.000000</td>\n",
       "      <td>5.000000</td>\n",
       "    </tr>\n",
       "    <tr>\n",
       "      <th>50%</th>\n",
       "      <td>59000.000000</td>\n",
       "      <td>26100.000000</td>\n",
       "      <td>5.000000</td>\n",
       "    </tr>\n",
       "    <tr>\n",
       "      <th>75%</th>\n",
       "      <td>72000.000000</td>\n",
       "      <td>32000.000000</td>\n",
       "      <td>6.000000</td>\n",
       "    </tr>\n",
       "    <tr>\n",
       "      <th>max</th>\n",
       "      <td>91000.000000</td>\n",
       "      <td>40000.000000</td>\n",
       "      <td>8.000000</td>\n",
       "    </tr>\n",
       "  </tbody>\n",
       "</table>\n",
       "</div>"
      ],
      "text/plain": [
       "            Mileage  Sell Price($)   Age(yrs)\n",
       "count     13.000000      13.000000  13.000000\n",
       "mean   60884.615385   26023.076923   5.307692\n",
       "std    19185.665055    8003.661021   1.652504\n",
       "min    22500.000000   12000.000000   2.000000\n",
       "25%    52000.000000   20000.000000   5.000000\n",
       "50%    59000.000000   26100.000000   5.000000\n",
       "75%    72000.000000   32000.000000   6.000000\n",
       "max    91000.000000   40000.000000   8.000000"
      ]
     },
     "execution_count": 194,
     "metadata": {},
     "output_type": "execute_result"
    }
   ],
   "source": [
    "df.describe()"
   ]
  },
  {
   "cell_type": "code",
   "execution_count": 195,
   "id": "exceptional-amino",
   "metadata": {
    "ExecuteTime": {
     "end_time": "2021-04-06T20:23:26.069141Z",
     "start_time": "2021-04-06T20:23:26.060654Z"
    }
   },
   "outputs": [
    {
     "data": {
      "text/plain": [
       "(13, 4)"
      ]
     },
     "execution_count": 195,
     "metadata": {},
     "output_type": "execute_result"
    }
   ],
   "source": [
    "df.shape"
   ]
  },
  {
   "cell_type": "code",
   "execution_count": 196,
   "id": "rental-color",
   "metadata": {
    "ExecuteTime": {
     "end_time": "2021-04-06T20:23:27.084394Z",
     "start_time": "2021-04-06T20:23:27.076447Z"
    },
    "scrolled": true
   },
   "outputs": [
    {
     "data": {
      "text/plain": [
       "Car Model        0\n",
       "Mileage          0\n",
       "Sell Price($)    0\n",
       "Age(yrs)         0\n",
       "dtype: int64"
      ]
     },
     "execution_count": 196,
     "metadata": {},
     "output_type": "execute_result"
    }
   ],
   "source": [
    "df.isna().sum()"
   ]
  },
  {
   "cell_type": "code",
   "execution_count": 197,
   "id": "oriented-comfort",
   "metadata": {
    "ExecuteTime": {
     "end_time": "2021-04-06T20:23:28.290758Z",
     "start_time": "2021-04-06T20:23:28.269820Z"
    }
   },
   "outputs": [
    {
     "data": {
      "text/plain": [
       "RangeIndex(start=0, stop=13, step=1)"
      ]
     },
     "execution_count": 197,
     "metadata": {},
     "output_type": "execute_result"
    }
   ],
   "source": [
    "df.index"
   ]
  },
  {
   "cell_type": "code",
   "execution_count": 198,
   "id": "religious-footwear",
   "metadata": {
    "ExecuteTime": {
     "end_time": "2021-04-06T20:23:29.198496Z",
     "start_time": "2021-04-06T20:23:29.177491Z"
    }
   },
   "outputs": [
    {
     "data": {
      "text/plain": [
       "Index(['Car Model', 'Mileage', 'Sell Price($)', 'Age(yrs)'], dtype='object')"
      ]
     },
     "execution_count": 198,
     "metadata": {},
     "output_type": "execute_result"
    }
   ],
   "source": [
    "df.columns"
   ]
  },
  {
   "cell_type": "code",
   "execution_count": 199,
   "id": "reliable-cedar",
   "metadata": {
    "ExecuteTime": {
     "end_time": "2021-04-06T20:23:29.976927Z",
     "start_time": "2021-04-06T20:23:29.969946Z"
    }
   },
   "outputs": [],
   "source": [
    "%matplotlib inline"
   ]
  },
  {
   "cell_type": "code",
   "execution_count": 200,
   "id": "documented-strengthening",
   "metadata": {
    "ExecuteTime": {
     "end_time": "2021-04-06T20:23:31.280264Z",
     "start_time": "2021-04-06T20:23:31.082785Z"
    }
   },
   "outputs": [
    {
     "data": {
      "image/png": "[encoded data removed]",
      "text/plain": [
       "<Figure size 1080x360 with 2 Axes>"
      ]
     },
     "metadata": {
      "needs_background": "light"
     },
     "output_type": "display_data"
    }
   ],
   "source": [
    "plt.figure(figsize=(15, 5)) \n",
    "plt.subplot(1,3,1)\n",
    "plt.scatter(df['Mileage'], df['Sell Price($)'], label='Mileage', color='blue', marker='o')\n",
    "plt.title('carprice vs. mileage')\n",
    "plt.legend(loc=1)\n",
    "plt.subplot(1,3,2)\n",
    "plt.scatter(df['Age(yrs)'], df['Sell Price($)'], label='age', color='green', marker='+')\n",
    "plt.title('carprice vs. age')\n",
    "plt.legend(loc=1)\n",
    "plt.show()"
   ]
  },
  {
   "cell_type": "code",
   "execution_count": 201,
   "id": "broad-pasta",
   "metadata": {
    "ExecuteTime": {
     "end_time": "2021-04-06T20:23:33.314219Z",
     "start_time": "2021-04-06T20:23:32.724883Z"
    },
    "scrolled": true
   },
   "outputs": [
    {
     "data": {
      "text/plain": [
       "<matplotlib.collections.PathCollection at 0x24c15d96c08>"
      ]
     },
     "execution_count": 201,
     "metadata": {},
     "output_type": "execute_result"
    },
    {
     "data": {
      "image/png": "[encoded data removed]",
      "text/plain": [
       "<Figure size 1080x360 with 4 Axes>"
      ]
     },
     "metadata": {
      "needs_background": "light"
     },
     "output_type": "display_data"
    }
   ],
   "source": [
    "fig, axs =  plt.subplots(2,2, figsize = (15,5))\n",
    "axs[0,0].scatter(df['Mileage'], df['Sell Price($)'], label='Mileage', color='blue', marker='o')\n",
    "axs[0,1].scatter(df['Age(yrs)'], df['Sell Price($)'], label='age', color='green', marker='+')\n"
   ]
  },
  {
   "cell_type": "code",
   "execution_count": 229,
   "id": "included-tanzania",
   "metadata": {
    "ExecuteTime": {
     "end_time": "2021-04-06T20:52:42.154557Z",
     "start_time": "2021-04-06T20:52:42.140604Z"
    }
   },
   "outputs": [],
   "source": [
    "import pandas_profiling"
   ]
  },
  {
   "cell_type": "code",
   "execution_count": 174,
   "id": "obvious-international",
   "metadata": {
    "ExecuteTime": {
     "end_time": "2021-04-06T20:05:39.067345Z",
     "start_time": "2021-04-06T20:05:32.053412Z"
    }
   },
   "outputs": [],
   "source": [
    "profile = df.profile_report(title=\"carprice\")\n",
    "profile.to_file(output_file=\"carprice.html\")"
   ]
  },
  {
   "cell_type": "code",
   "execution_count": null,
   "id": "still-sunrise",
   "metadata": {},
   "outputs": [],
   "source": [
    "# To see the report in the notebook \n",
    "profile.to_notebook_iframe()"
   ]
  },
  {
   "cell_type": "code",
   "execution_count": 228,
   "id": "bottom-southwest",
   "metadata": {
    "ExecuteTime": {
     "end_time": "2021-04-06T20:50:59.903572Z",
     "start_time": "2021-04-06T20:50:59.884466Z"
    },
    "collapsed": true
   },
   "outputs": [
    {
     "data": {
      "text/plain": [
       "['Path',\n",
       " 'ProfileReport',\n",
       " '__builtins__',\n",
       " '__cached__',\n",
       " '__doc__',\n",
       " '__file__',\n",
       " '__init__',\n",
       " '__loader__',\n",
       " '__name__',\n",
       " '__package__',\n",
       " '__path__',\n",
       " '__spec__',\n",
       " '__version__',\n",
       " 'clean_column_names',\n",
       " 'config',\n",
       " 'controller',\n",
       " 'datetime',\n",
       " 'describe_df',\n",
       " 'get_config_default',\n",
       " 'get_config_minimal',\n",
       " 'get_project_root',\n",
       " 'get_report_structure',\n",
       " 'json',\n",
       " 'model',\n",
       " 'np',\n",
       " 'pandas_decorator',\n",
       " 'pd',\n",
       " 'rename_index',\n",
       " 'report',\n",
       " 'sys',\n",
       " 'utils',\n",
       " 'version',\n",
       " 'visualisation',\n",
       " 'warnings']"
      ]
     },
     "execution_count": 228,
     "metadata": {},
     "output_type": "execute_result"
    }
   ],
   "source": [
    "dir (pandas_profiling)"
   ]
  },
  {
   "cell_type": "code",
   "execution_count": 202,
   "id": "superb-attack",
   "metadata": {
    "ExecuteTime": {
     "end_time": "2021-04-06T20:23:56.742926Z",
     "start_time": "2021-04-06T20:23:56.313901Z"
    }
   },
   "outputs": [
    {
     "data": {
      "text/plain": [
       "array([[<AxesSubplot:xlabel='Mileage', ylabel='Mileage'>,\n",
       "        <AxesSubplot:xlabel='Sell Price($)', ylabel='Mileage'>,\n",
       "        <AxesSubplot:xlabel='Age(yrs)', ylabel='Mileage'>],\n",
       "       [<AxesSubplot:xlabel='Mileage', ylabel='Sell Price($)'>,\n",
       "        <AxesSubplot:xlabel='Sell Price($)', ylabel='Sell Price($)'>,\n",
       "        <AxesSubplot:xlabel='Age(yrs)', ylabel='Sell Price($)'>],\n",
       "       [<AxesSubplot:xlabel='Mileage', ylabel='Age(yrs)'>,\n",
       "        <AxesSubplot:xlabel='Sell Price($)', ylabel='Age(yrs)'>,\n",
       "        <AxesSubplot:xlabel='Age(yrs)', ylabel='Age(yrs)'>]], dtype=object)"
      ]
     },
     "execution_count": 202,
     "metadata": {},
     "output_type": "execute_result"
    },
    {
     "data": {
      "image/png": "[encoded data removed]",
      "text/plain": [
       "<Figure size 504x504 with 9 Axes>"
      ]
     },
     "metadata": {
      "needs_background": "light"
     },
     "output_type": "display_data"
    }
   ],
   "source": [
    "pd.plotting.scatter_matrix(df, figsize=(7,7),alpha=0.2)"
   ]
  },
  {
   "cell_type": "code",
   "execution_count": 203,
   "id": "improved-allah",
   "metadata": {
    "ExecuteTime": {
     "end_time": "2021-04-06T20:24:49.463846Z",
     "start_time": "2021-04-06T20:24:43.862702Z"
    },
    "collapsed": true
   },
   "outputs": [
    {
     "name": "stdout",
     "output_type": "stream",
     "text": [
      "Collecting sweetviz\n",
      "  Downloading sweetviz-2.1.0-py3-none-any.whl (15.1 MB)\n",
      "Requirement already satisfied: scipy>=1.3.2 in c:\\users\\hnour\\anaconda3\\lib\\site-packages (from sweetviz) (1.6.0)\n",
      "Requirement already satisfied: matplotlib>=3.1.3 in c:\\users\\hnour\\anaconda3\\lib\\site-packages (from sweetviz) (3.3.4)\n",
      "Requirement already satisfied: jinja2>=2.11.1 in c:\\users\\hnour\\anaconda3\\lib\\site-packages (from sweetviz) (2.11.3)\n",
      "Requirement already satisfied: tqdm>=4.43.0 in c:\\users\\hnour\\anaconda3\\lib\\site-packages (from sweetviz) (4.56.0)\n",
      "Requirement already satisfied: numpy>=1.16.0 in c:\\users\\hnour\\anaconda3\\lib\\site-packages (from sweetviz) (1.19.2)\n",
      "Requirement already satisfied: pandas!=1.0.0,!=1.0.1,!=1.0.2,>=0.25.3 in c:\\users\\hnour\\anaconda3\\lib\\site-packages (from sweetviz) (1.2.3)\n",
      "Collecting importlib-resources>=1.2.0\n",
      "  Downloading importlib_resources-5.1.2-py3-none-any.whl (25 kB)\n",
      "Requirement already satisfied: zipp>=0.4 in c:\\users\\hnour\\anaconda3\\lib\\site-packages (from importlib-resources>=1.2.0->sweetviz) (3.4.0)\n",
      "Requirement already satisfied: MarkupSafe>=0.23 in c:\\users\\hnour\\anaconda3\\lib\\site-packages (from jinja2>=2.11.1->sweetviz) (1.1.1)\n",
      "Requirement already satisfied: cycler>=0.10 in c:\\users\\hnour\\anaconda3\\lib\\site-packages (from matplotlib>=3.1.3->sweetviz) (0.10.0)\n",
      "Requirement already satisfied: pillow>=6.2.0 in c:\\users\\hnour\\anaconda3\\lib\\site-packages (from matplotlib>=3.1.3->sweetviz) (8.1.0)\n",
      "Requirement already satisfied: pyparsing!=2.0.4,!=2.1.2,!=2.1.6,>=2.0.3 in c:\\users\\hnour\\anaconda3\\lib\\site-packages (from matplotlib>=3.1.3->sweetviz) (2.4.7)\n",
      "Requirement already satisfied: kiwisolver>=1.0.1 in c:\\users\\hnour\\anaconda3\\lib\\site-packages (from matplotlib>=3.1.3->sweetviz) (1.3.1)\n",
      "Requirement already satisfied: python-dateutil>=2.1 in c:\\users\\hnour\\anaconda3\\lib\\site-packages (from matplotlib>=3.1.3->sweetviz) (2.8.1)\n",
      "Requirement already satisfied: six in c:\\users\\hnour\\anaconda3\\lib\\site-packages (from cycler>=0.10->matplotlib>=3.1.3->sweetviz) (1.15.0)\n",
      "Requirement already satisfied: pytz>=2017.3 in c:\\users\\hnour\\anaconda3\\lib\\site-packages (from pandas!=1.0.0,!=1.0.1,!=1.0.2,>=0.25.3->sweetviz) (2021.1)\n",
      "Installing collected packages: importlib-resources, sweetviz\n",
      "Successfully installed importlib-resources-5.1.2 sweetviz-2.1.0\n"
     ]
    }
   ],
   "source": [
    "! pip install sweetviz"
   ]
  },
  {
   "cell_type": "code",
   "execution_count": 224,
   "id": "palestinian-jamaica",
   "metadata": {
    "ExecuteTime": {
     "end_time": "2021-04-06T20:47:28.590974Z",
     "start_time": "2021-04-06T20:47:28.531288Z"
    }
   },
   "outputs": [],
   "source": [
    "import sweetviz as sv "
   ]
  },
  {
   "cell_type": "code",
   "execution_count": 225,
   "id": "professional-zimbabwe",
   "metadata": {
    "ExecuteTime": {
     "end_time": "2021-04-06T20:48:15.413739Z",
     "start_time": "2021-04-06T20:48:14.040835Z"
    }
   },
   "outputs": [
    {
     "data": {
      "application/vnd.jupyter.widget-view+json": {
       "model_id": "0f5bca3e7df54be28e822ce8f01c195d",
       "version_major": 2,
       "version_minor": 0
      },
      "text/plain": [
       "                                             |                                             | [  0%]   00:00 ->…"
      ]
     },
     "metadata": {},
     "output_type": "display_data"
    }
   ],
   "source": [
    "# Generate and Analyse \n",
    "report = sv.analyze(df)"
   ]
  },
  {
   "cell_type": "code",
   "execution_count": 226,
   "id": "proprietary-technique",
   "metadata": {
    "ExecuteTime": {
     "end_time": "2021-04-06T20:48:36.637895Z",
     "start_time": "2021-04-06T20:48:36.103881Z"
    }
   },
   "outputs": [
    {
     "name": "stdout",
     "output_type": "stream",
     "text": [
      "Report SWEETVIZ_REPORT.html was generated! NOTEBOOK/COLAB USERS: the web browser MAY not pop up, regardless, the report IS saved in your notebook/colab files.\n"
     ]
    }
   ],
   "source": [
    "# View and Save \n",
    "report.show_html()"
   ]
  },
  {
   "cell_type": "code",
   "execution_count": 227,
   "id": "annoying-kitchen",
   "metadata": {
    "ExecuteTime": {
     "end_time": "2021-04-06T20:49:34.475839Z",
     "start_time": "2021-04-06T20:49:34.467860Z"
    },
    "collapsed": true
   },
   "outputs": [
    {
     "data": {
      "text/plain": [
       "['DataframeReport',\n",
       " 'FeatureConfig',\n",
       " '__author__',\n",
       " '__builtins__',\n",
       " '__cached__',\n",
       " '__doc__',\n",
       " '__file__',\n",
       " '__license__',\n",
       " '__loader__',\n",
       " '__name__',\n",
       " '__package__',\n",
       " '__path__',\n",
       " '__spec__',\n",
       " '__title__',\n",
       " '__version__',\n",
       " 'analyze',\n",
       " 'comet_ml_logger',\n",
       " 'compare',\n",
       " 'compare_intra',\n",
       " 'config',\n",
       " 'config_parser',\n",
       " 'dataframe_report',\n",
       " 'feature_config',\n",
       " 'from_dython',\n",
       " 'from_profiling_pandas',\n",
       " 'graph',\n",
       " 'graph_associations',\n",
       " 'graph_cat',\n",
       " 'graph_legend',\n",
       " 'graph_numeric',\n",
       " 'series_analyzer',\n",
       " 'series_analyzer_cat',\n",
       " 'series_analyzer_numeric',\n",
       " 'series_analyzer_text',\n",
       " 'sv_html',\n",
       " 'sv_html_formatters',\n",
       " 'sv_math',\n",
       " 'sv_public',\n",
       " 'sv_types',\n",
       " 'type_detection',\n",
       " 'utils']"
      ]
     },
     "execution_count": 227,
     "metadata": {},
     "output_type": "execute_result"
    }
   ],
   "source": [
    "dir(sv)"
   ]
  },
  {
   "cell_type": "code",
   "execution_count": 204,
   "id": "federal-ordinance",
   "metadata": {
    "ExecuteTime": {
     "end_time": "2021-04-06T20:25:24.564060Z",
     "start_time": "2021-04-06T20:25:02.990798Z"
    },
    "collapsed": true
   },
   "outputs": [
    {
     "name": "stdout",
     "output_type": "stream",
     "text": [
      "Collecting dtale\n",
      "  Downloading dtale-1.41.1-py2.py3-none-any.whl (14.2 MB)\n",
      "Requirement already satisfied: plotly>=4.9.0 in c:\\users\\hnour\\anaconda3\\lib\\site-packages (from dtale) (4.12.0)\n",
      "Requirement already satisfied: scipy in c:\\users\\hnour\\anaconda3\\lib\\site-packages (from dtale) (1.6.0)\n",
      "Requirement already satisfied: Flask>=1.0 in c:\\users\\hnour\\anaconda3\\lib\\site-packages (from dtale) (1.1.2)\n",
      "Requirement already satisfied: six in c:\\users\\hnour\\anaconda3\\lib\\site-packages (from dtale) (1.15.0)\n",
      "Requirement already satisfied: itsdangerous in c:\\users\\hnour\\anaconda3\\lib\\site-packages (from dtale) (1.1.0)\n",
      "Requirement already satisfied: future>=0.14.0 in c:\\users\\hnour\\anaconda3\\lib\\site-packages (from dtale) (0.18.2)\n",
      "Requirement already satisfied: scikit-learn in c:\\users\\hnour\\anaconda3\\lib\\site-packages (from dtale) (0.23.2)\n",
      "Requirement already satisfied: xarray in c:\\users\\hnour\\anaconda3\\lib\\site-packages (from dtale) (0.17.0)\n",
      "Requirement already satisfied: xlrd in c:\\users\\hnour\\anaconda3\\lib\\site-packages (from dtale) (2.0.1)\n",
      "Requirement already satisfied: Flask-Compress in c:\\users\\hnour\\anaconda3\\lib\\site-packages (from dtale) (1.4.0)\n",
      "Requirement already satisfied: dash>=1.5.0 in c:\\users\\hnour\\anaconda3\\lib\\site-packages (from dtale) (1.17.0)\n",
      "Requirement already satisfied: openpyxl in c:\\users\\hnour\\anaconda3\\lib\\site-packages (from dtale) (3.0.6)\n",
      "Requirement already satisfied: dash-daq in c:\\users\\hnour\\anaconda3\\lib\\site-packages (from dtale) (0.2.1)\n",
      "Requirement already satisfied: requests in c:\\users\\hnour\\anaconda3\\lib\\site-packages (from dtale) (2.25.1)\n",
      "Requirement already satisfied: pandas in c:\\users\\hnour\\anaconda3\\lib\\site-packages (from dtale) (1.2.3)\n",
      "Requirement already satisfied: networkx in c:\\users\\hnour\\anaconda3\\lib\\site-packages (from dtale) (2.5)\n",
      "Requirement already satisfied: statsmodels in c:\\users\\hnour\\anaconda3\\lib\\site-packages (from dtale) (0.12.1)\n",
      "Requirement already satisfied: dash-table==4.11.0 in c:\\users\\hnour\\anaconda3\\lib\\site-packages (from dash>=1.5.0->dtale) (4.11.0)\n",
      "Requirement already satisfied: dash-core-components==1.13.0 in c:\\users\\hnour\\anaconda3\\lib\\site-packages (from dash>=1.5.0->dtale) (1.13.0)\n",
      "Requirement already satisfied: dash-html-components==1.1.1 in c:\\users\\hnour\\anaconda3\\lib\\site-packages (from dash>=1.5.0->dtale) (1.1.1)\n",
      "Requirement already satisfied: dash-renderer==1.8.3 in c:\\users\\hnour\\anaconda3\\lib\\site-packages (from dash>=1.5.0->dtale) (1.8.3)\n",
      "Requirement already satisfied: Jinja2>=2.10.1 in c:\\users\\hnour\\anaconda3\\lib\\site-packages (from Flask>=1.0->dtale) (2.11.3)\n",
      "Requirement already satisfied: click>=5.1 in c:\\users\\hnour\\anaconda3\\lib\\site-packages (from Flask>=1.0->dtale) (7.1.2)\n",
      "Requirement already satisfied: Werkzeug>=0.15 in c:\\users\\hnour\\anaconda3\\lib\\site-packages (from Flask>=1.0->dtale) (1.0.1)\n",
      "Requirement already satisfied: MarkupSafe>=0.23 in c:\\users\\hnour\\anaconda3\\lib\\site-packages (from Jinja2>=2.10.1->Flask>=1.0->dtale) (1.1.1)\n",
      "Requirement already satisfied: retrying>=1.3.3 in c:\\users\\hnour\\anaconda3\\lib\\site-packages (from plotly>=4.9.0->dtale) (1.3.3)\n",
      "Collecting dash-bootstrap-components\n",
      "  Downloading dash_bootstrap_components-0.12.0-py3-none-any.whl (191 kB)\n",
      "Collecting dash-colorscales\n",
      "  Downloading dash_colorscales-0.0.4.tar.gz (62 kB)\n",
      "Collecting flask-ngrok\n",
      "  Downloading flask_ngrok-0.0.25-py3-none-any.whl (3.1 kB)\n",
      "Collecting kaleido\n",
      "  Downloading kaleido-0.2.1-py2.py3-none-win_amd64.whl (65.9 MB)\n",
      "Collecting lz4\n",
      "  Downloading lz4-3.1.3-cp37-cp37m-win_amd64.whl (192 kB)\n",
      "Requirement already satisfied: decorator>=4.3.0 in c:\\users\\hnour\\anaconda3\\lib\\site-packages (from networkx->dtale) (4.4.2)\n",
      "Requirement already satisfied: et-xmlfile in c:\\users\\hnour\\anaconda3\\lib\\site-packages (from openpyxl->dtale) (1.0.1)\n",
      "Requirement already satisfied: jdcal in c:\\users\\hnour\\anaconda3\\lib\\site-packages (from openpyxl->dtale) (1.4.1)\n",
      "Requirement already satisfied: python-dateutil>=2.7.3 in c:\\users\\hnour\\anaconda3\\lib\\site-packages (from pandas->dtale) (2.8.1)\n",
      "Requirement already satisfied: pytz>=2017.3 in c:\\users\\hnour\\anaconda3\\lib\\site-packages (from pandas->dtale) (2021.1)\n",
      "Requirement already satisfied: numpy>=1.16.5 in c:\\users\\hnour\\anaconda3\\lib\\site-packages (from pandas->dtale) (1.19.2)\n",
      "Collecting ppscore\n",
      "  Downloading ppscore-1.2.0.tar.gz (47 kB)\n",
      "Requirement already satisfied: threadpoolctl>=2.0.0 in c:\\users\\hnour\\anaconda3\\lib\\site-packages (from scikit-learn->dtale) (2.1.0)\n",
      "Requirement already satisfied: joblib>=0.11 in c:\\users\\hnour\\anaconda3\\lib\\site-packages (from scikit-learn->dtale) (1.0.1)\n",
      "Requirement already satisfied: urllib3<1.27,>=1.21.1 in c:\\users\\hnour\\anaconda3\\lib\\site-packages (from requests->dtale) (1.26.3)\n",
      "Requirement already satisfied: certifi>=2017.4.17 in c:\\users\\hnour\\anaconda3\\lib\\site-packages (from requests->dtale) (2020.12.5)\n",
      "Requirement already satisfied: idna<3,>=2.5 in c:\\users\\hnour\\anaconda3\\lib\\site-packages (from requests->dtale) (2.10)\n",
      "Requirement already satisfied: chardet<5,>=3.0.2 in c:\\users\\hnour\\anaconda3\\lib\\site-packages (from requests->dtale) (4.0.0)\n",
      "Collecting squarify\n",
      "  Downloading squarify-0.4.3-py3-none-any.whl (4.3 kB)\n",
      "Requirement already satisfied: patsy>=0.5 in c:\\users\\hnour\\anaconda3\\lib\\site-packages (from statsmodels->dtale) (0.5.1)\n",
      "Collecting strsimpy\n",
      "  Downloading strsimpy-0.2.0-py3-none-any.whl (45 kB)\n",
      "Requirement already satisfied: setuptools>=40.4 in c:\\users\\hnour\\anaconda3\\lib\\site-packages (from xarray->dtale) (52.0.0.post20210125)\n",
      "Building wheels for collected packages: dash-colorscales, ppscore\n",
      "  Building wheel for dash-colorscales (setup.py): started\n",
      "  Building wheel for dash-colorscales (setup.py): finished with status 'done'\n",
      "  Created wheel for dash-colorscales: filename=dash_colorscales-0.0.4-py3-none-any.whl size=62598 sha256=b4d36e5acd9e2e9c65db9725337ec642ec767bbaaf508e8db9809ede6ceb98ff\n",
      "  Stored in directory: c:\\users\\hnour\\appdata\\local\\pip\\cache\\wheels\\2f\\22\\7e\\183ba2af565e3eb955021fbb4fe8fe4a6b1ed8ae3e5c03236a\n",
      "  Building wheel for ppscore (setup.py): started\n",
      "  Building wheel for ppscore (setup.py): finished with status 'done'\n",
      "  Created wheel for ppscore: filename=ppscore-1.2.0-py2.py3-none-any.whl size=13050 sha256=1e5aeaa8d259c5a4ccde8f330144349688e918aac91c63f856696094d55b33f0\n",
      "  Stored in directory: c:\\users\\hnour\\appdata\\local\\pip\\cache\\wheels\\d2\\3c\\58\\2ff786414b21713edc6f4fdb54fdee89ac37bca5edd1f60634\n",
      "Successfully built dash-colorscales ppscore\n",
      "Installing collected packages: strsimpy, squarify, ppscore, lz4, kaleido, flask-ngrok, dash-colorscales, dash-bootstrap-components, dtale\n",
      "Successfully installed dash-bootstrap-components-0.12.0 dash-colorscales-0.0.4 dtale-1.41.1 flask-ngrok-0.0.25 kaleido-0.2.1 lz4-3.1.3 ppscore-1.2.0 squarify-0.4.3 strsimpy-0.2.0\n"
     ]
    }
   ],
   "source": [
    "! pip install dtale"
   ]
  },
  {
   "cell_type": "code",
   "execution_count": 230,
   "id": "invalid-ozone",
   "metadata": {
    "ExecuteTime": {
     "end_time": "2021-04-06T20:53:26.636105Z",
     "start_time": "2021-04-06T20:53:24.655150Z"
    }
   },
   "outputs": [],
   "source": [
    "import dtale "
   ]
  },
  {
   "cell_type": "code",
   "execution_count": 231,
   "id": "bibliographic-colonial",
   "metadata": {
    "ExecuteTime": {
     "end_time": "2021-04-06T20:54:15.658278Z",
     "start_time": "2021-04-06T20:53:57.187511Z"
    }
   },
   "outputs": [],
   "source": [
    "d = dtale.show(df)"
   ]
  },
  {
   "cell_type": "code",
   "execution_count": 232,
   "id": "related-korean",
   "metadata": {
    "ExecuteTime": {
     "end_time": "2021-04-06T20:54:40.479318Z",
     "start_time": "2021-04-06T20:54:34.296661Z"
    },
    "collapsed": true
   },
   "outputs": [
    {
     "data": {
      "text/html": [
       "\n",
       "        <iframe\n",
       "            width=\"100%\"\n",
       "            height=\"475\"\n",
       "            src=\"http://LAPTOP-70Q9J4FV:40000/dtale/iframe/1\"\n",
       "            frameborder=\"0\"\n",
       "            allowfullscreen\n",
       "        ></iframe>\n",
       "        "
      ],
      "text/plain": [
       "<IPython.lib.display.IFrame at 0x24c1c0693c8>"
      ]
     },
     "metadata": {},
     "output_type": "display_data"
    },
    {
     "data": {
      "text/plain": []
     },
     "execution_count": 232,
     "metadata": {},
     "output_type": "execute_result"
    }
   ],
   "source": [
    "d"
   ]
  },
  {
   "cell_type": "code",
   "execution_count": 233,
   "id": "enclosed-projector",
   "metadata": {
    "ExecuteTime": {
     "end_time": "2021-04-06T20:55:14.945774Z",
     "start_time": "2021-04-06T20:55:14.935494Z"
    },
    "collapsed": true
   },
   "outputs": [
    {
     "data": {
      "text/plain": [
       "['ALLOW_CELL_EDITS',\n",
       " 'Blueprint',\n",
       " 'GITHUB_FORK',\n",
       " 'HIDE_SHUTDOWN',\n",
       " 'LOADERS',\n",
       " '__builtins__',\n",
       " '__cached__',\n",
       " '__doc__',\n",
       " '__file__',\n",
       " '__loader__',\n",
       " '__name__',\n",
       " '__package__',\n",
       " '__path__',\n",
       " '__spec__',\n",
       " 'app',\n",
       " 'charts',\n",
       " 'cli',\n",
       " 'code_export',\n",
       " 'column_analysis',\n",
       " 'column_builders',\n",
       " 'column_filters',\n",
       " 'column_replacements',\n",
       " 'combine_data',\n",
       " 'config',\n",
       " 'dash_application',\n",
       " 'data_reshapers',\n",
       " 'datasets',\n",
       " 'describe',\n",
       " 'dtale',\n",
       " 'duplicate_checks',\n",
       " 'env_util',\n",
       " 'get_instance',\n",
       " 'global_state',\n",
       " 'instances',\n",
       " 'loader',\n",
       " 'loader_name',\n",
       " 'offline_chart',\n",
       " 'query',\n",
       " 'show',\n",
       " 'show_arctic',\n",
       " 'show_csv',\n",
       " 'show_excel',\n",
       " 'show_json',\n",
       " 'show_parquet',\n",
       " 'show_r',\n",
       " 'show_sqlite',\n",
       " 'translations',\n",
       " 'utils',\n",
       " 'views']"
      ]
     },
     "execution_count": 233,
     "metadata": {},
     "output_type": "execute_result"
    }
   ],
   "source": [
    "dir (dtale)"
   ]
  },
  {
   "cell_type": "code",
   "execution_count": 205,
   "id": "impaired-judgment",
   "metadata": {
    "ExecuteTime": {
     "end_time": "2021-04-06T20:26:43.937043Z",
     "start_time": "2021-04-06T20:26:43.832245Z"
    }
   },
   "outputs": [],
   "source": [
    "import klib"
   ]
  },
  {
   "cell_type": "code",
   "execution_count": 206,
   "id": "cross-halloween",
   "metadata": {
    "ExecuteTime": {
     "end_time": "2021-04-06T20:27:06.029338Z",
     "start_time": "2021-04-06T20:27:06.009854Z"
    }
   },
   "outputs": [
    {
     "name": "stdout",
     "output_type": "stream",
     "text": [
      "No missing values found in the dataset.\n"
     ]
    }
   ],
   "source": [
    "# Missing value plots using klib \n",
    "klib.missingval_plot(df)"
   ]
  },
  {
   "cell_type": "code",
   "execution_count": 207,
   "id": "herbal-dynamics",
   "metadata": {
    "ExecuteTime": {
     "end_time": "2021-04-06T20:28:51.377200Z",
     "start_time": "2021-04-06T20:28:51.324758Z"
    },
    "collapsed": true
   },
   "outputs": [
    {
     "name": "stdout",
     "output_type": "stream",
     "text": [
      "Shape of cleaned data: (13, 4)Remaining NAs: 0\n",
      "\n",
      "Changes:\n",
      "Dropped rows: 0\n",
      "     of which 0 duplicates. (Rows: [])\n",
      "Dropped columns: 0\n",
      "     of which 0 single valued.     Columns: []\n",
      "Dropped missing values: 0\n",
      "Reduced memory by at least: 0.0 MB (-nan%)\n",
      "\n"
     ]
    },
    {
     "name": "stderr",
     "output_type": "stream",
     "text": [
      "C:\\Users\\hnour\\Anaconda3\\lib\\site-packages\\klib\\clean.py:77: FutureWarning: The default value of regex will change from True to False in a future version. In addition, single character regular expressions will*not* be treated as literal strings when regex=True.\n",
      "  .str.replace(\"(\", \"_\")\n",
      "C:\\Users\\hnour\\Anaconda3\\lib\\site-packages\\klib\\clean.py:78: FutureWarning: The default value of regex will change from True to False in a future version. In addition, single character regular expressions will*not* be treated as literal strings when regex=True.\n",
      "  .str.replace(\")\", \"_\")\n",
      "C:\\Users\\hnour\\Anaconda3\\lib\\site-packages\\klib\\clean.py:81: FutureWarning: The default value of regex will change from True to False in a future version. In addition, single character regular expressions will*not* be treated as literal strings when regex=True.\n",
      "  .str.replace(\".\", \"_\")\n",
      "C:\\Users\\hnour\\Anaconda3\\lib\\site-packages\\klib\\clean.py:84: FutureWarning: The default value of regex will change from True to False in a future version. In addition, single character regular expressions will*not* be treated as literal strings when regex=True.\n",
      "  .str.replace(\"+\", \"_plus_\")\n",
      "C:\\Users\\hnour\\Anaconda3\\lib\\site-packages\\klib\\clean.py:85: FutureWarning: The default value of regex will change from True to False in a future version. In addition, single character regular expressions will*not* be treated as literal strings when regex=True.\n",
      "  .str.replace(\"*\", \"_times_\")\n",
      "C:\\Users\\hnour\\Anaconda3\\lib\\site-packages\\klib\\clean.py:94: FutureWarning: The default value of regex will change from True to False in a future version. In addition, single character regular expressions will*not* be treated as literal strings when regex=True.\n",
      "  .str.replace(\"$\", \"_dollar_\")\n",
      "C:\\Users\\hnour\\Anaconda3\\lib\\site-packages\\klib\\utils.py:148: RuntimeWarning: invalid value encountered in double_scalars\n",
      "  mem_perc = round(100 * mem_change / data_mem, 2)\n"
     ]
    }
   ],
   "source": [
    "# Data Cleaning using klib: This will drop empty and single valued columns as well as empty and duplicate rows \n",
    "df_cleaned =  klib.data_cleaning(df)"
   ]
  },
  {
   "cell_type": "code",
   "execution_count": 208,
   "id": "speaking-machine",
   "metadata": {
    "ExecuteTime": {
     "end_time": "2021-04-06T20:31:58.981387Z",
     "start_time": "2021-04-06T20:31:58.828743Z"
    },
    "collapsed": true
   },
   "outputs": [
    {
     "data": {
      "text/plain": [
       "<AxesSubplot:title={'center':'Feature-correlation (pearson)'}>"
      ]
     },
     "execution_count": 208,
     "metadata": {},
     "output_type": "execute_result"
    },
    {
     "data": {
      "image/png": "[encoded data removed]",
      "text/plain": [
       "<Figure size 864x720 with 2 Axes>"
      ]
     },
     "metadata": {
      "needs_background": "light"
     },
     "output_type": "display_data"
    }
   ],
   "source": [
    "# Correlation plot: This will show the intercorrelation among the features \n",
    "# Display all correlations data \n",
    "klib.corr_plot (df, annot=False)"
   ]
  },
  {
   "cell_type": "code",
   "execution_count": 211,
   "id": "automotive-overall",
   "metadata": {
    "ExecuteTime": {
     "end_time": "2021-04-06T20:35:44.880144Z",
     "start_time": "2021-04-06T20:35:44.739628Z"
    },
    "collapsed": true
   },
   "outputs": [
    {
     "name": "stdout",
     "output_type": "stream",
     "text": [
      "Displaying positive correlations. Specify a positive \"threshold\" to limit the results further.\n"
     ]
    },
    {
     "data": {
      "text/plain": [
       "\"\\nklib.corr_plot(df, split='neg', annot=False)\\n\""
      ]
     },
     "execution_count": 211,
     "metadata": {},
     "output_type": "execute_result"
    },
    {
     "data": {
      "image/png": "[encoded data removed]",
      "text/plain": [
       "<Figure size 864x720 with 2 Axes>"
      ]
     },
     "metadata": {
      "needs_background": "light"
     },
     "output_type": "display_data"
    }
   ],
   "source": [
    "# Display only postive correlations data \n",
    "klib.corr_plot(df, split='pos', annot=False)"
   ]
  },
  {
   "cell_type": "code",
   "execution_count": 212,
   "id": "alleged-uncertainty",
   "metadata": {
    "ExecuteTime": {
     "end_time": "2021-04-06T20:36:10.536862Z",
     "start_time": "2021-04-06T20:36:10.363325Z"
    },
    "collapsed": true
   },
   "outputs": [
    {
     "name": "stdout",
     "output_type": "stream",
     "text": [
      "Displaying negative correlations. Specify a negative \"threshold\" to limit the results further.\n"
     ]
    },
    {
     "data": {
      "text/plain": [
       "<AxesSubplot:title={'center':'Feature-correlation (pearson)'}>"
      ]
     },
     "execution_count": 212,
     "metadata": {},
     "output_type": "execute_result"
    },
    {
     "data": {
      "image/png": "[encoded data removed]",
      "text/plain": [
       "<Figure size 864x720 with 2 Axes>"
      ]
     },
     "metadata": {
      "needs_background": "light"
     },
     "output_type": "display_data"
    }
   ],
   "source": [
    "# Display only negative correlations data\n",
    "klib.corr_plot(df, split='neg', annot=False)\n"
   ]
  },
  {
   "cell_type": "code",
   "execution_count": 214,
   "id": "fifteen-engineering",
   "metadata": {
    "ExecuteTime": {
     "end_time": "2021-04-06T20:37:42.634015Z",
     "start_time": "2021-04-06T20:37:42.489765Z"
    },
    "collapsed": true
   },
   "outputs": [
    {
     "data": {
      "text/plain": [
       "<AxesSubplot:title={'center':'Feature-correlation (pearson)'}>"
      ]
     },
     "execution_count": 214,
     "metadata": {},
     "output_type": "execute_result"
    },
    {
     "data": {
      "image/png": "[encoded data removed]",
      "text/plain": [
       "<Figure size 864x720 with 2 Axes>"
      ]
     },
     "metadata": {
      "needs_background": "light"
     },
     "output_type": "display_data"
    }
   ],
   "source": [
    "# Display correlation with a specific target variable of interest \n",
    "klib.corr_plot(df, target = 'Mileage')"
   ]
  },
  {
   "cell_type": "code",
   "execution_count": 215,
   "id": "pending-declaration",
   "metadata": {
    "ExecuteTime": {
     "end_time": "2021-04-06T20:38:35.213704Z",
     "start_time": "2021-04-06T20:38:35.193645Z"
    }
   },
   "outputs": [
    {
     "data": {
      "text/html": [
       "<style  type=\"text/css\" >\n",
       "#T_37393_row0_col0,#T_37393_row0_col2,#T_37393_row1_col1,#T_37393_row2_col0,#T_37393_row2_col2{\n",
       "            color:  None;\n",
       "        }#T_37393_row0_col1,#T_37393_row1_col0,#T_37393_row1_col2,#T_37393_row2_col1{\n",
       "            color:  #FF3344;\n",
       "        }</style><table id=\"T_37393_\" ><thead>    <tr>        <th class=\"blank level0\" ></th>        <th class=\"col_heading level0 col0\" >Mileage</th>        <th class=\"col_heading level0 col1\" >Sell Price($)</th>        <th class=\"col_heading level0 col2\" >Age(yrs)</th>    </tr></thead><tbody>\n",
       "                <tr>\n",
       "                        <th id=\"T_37393_level0_row0\" class=\"row_heading level0 row0\" >Mileage</th>\n",
       "                        <td id=\"T_37393_row0_col0\" class=\"data row0 col0\" >1.00</td>\n",
       "                        <td id=\"T_37393_row0_col1\" class=\"data row0 col1\" >-0.93</td>\n",
       "                        <td id=\"T_37393_row0_col2\" class=\"data row0 col2\" >0.99</td>\n",
       "            </tr>\n",
       "            <tr>\n",
       "                        <th id=\"T_37393_level0_row1\" class=\"row_heading level0 row1\" >Sell Price($)</th>\n",
       "                        <td id=\"T_37393_row1_col0\" class=\"data row1 col0\" >-0.93</td>\n",
       "                        <td id=\"T_37393_row1_col1\" class=\"data row1 col1\" >1.00</td>\n",
       "                        <td id=\"T_37393_row1_col2\" class=\"data row1 col2\" >-0.92</td>\n",
       "            </tr>\n",
       "            <tr>\n",
       "                        <th id=\"T_37393_level0_row2\" class=\"row_heading level0 row2\" >Age(yrs)</th>\n",
       "                        <td id=\"T_37393_row2_col0\" class=\"data row2 col0\" >0.99</td>\n",
       "                        <td id=\"T_37393_row2_col1\" class=\"data row2 col1\" >-0.92</td>\n",
       "                        <td id=\"T_37393_row2_col2\" class=\"data row2 col2\" >1.00</td>\n",
       "            </tr>\n",
       "    </tbody></table>"
      ],
      "text/plain": [
       "<pandas.io.formats.style.Styler at 0x24c15b5c248>"
      ]
     },
     "execution_count": 215,
     "metadata": {},
     "output_type": "execute_result"
    }
   ],
   "source": [
    "# Correlation data matrix \n",
    "klib.corr_mat (df)"
   ]
  },
  {
   "cell_type": "code",
   "execution_count": 216,
   "id": "handmade-dominican",
   "metadata": {
    "ExecuteTime": {
     "end_time": "2021-04-06T20:39:16.465788Z",
     "start_time": "2021-04-06T20:39:16.260535Z"
    }
   },
   "outputs": [
    {
     "data": {
      "text/plain": [
       "<AxesSubplot:xlabel='Mileage', ylabel='Density'>"
      ]
     },
     "execution_count": 216,
     "metadata": {},
     "output_type": "execute_result"
    },
    {
     "data": {
      "image/png": "[encoded data removed]",
      "text/plain": [
       "<Figure size 900x180 with 1 Axes>"
      ]
     },
     "metadata": {
      "needs_background": "light"
     },
     "output_type": "display_data"
    }
   ],
   "source": [
    "# Distribution plot \n",
    "klib.dist_plot(df['Mileage'])"
   ]
  },
  {
   "cell_type": "code",
   "execution_count": 223,
   "id": "undefined-sherman",
   "metadata": {
    "ExecuteTime": {
     "end_time": "2021-04-06T20:41:21.944203Z",
     "start_time": "2021-04-06T20:41:21.745212Z"
    },
    "collapsed": true
   },
   "outputs": [
    {
     "data": {
      "text/plain": [
       "GridSpec(6, 1)"
      ]
     },
     "execution_count": 223,
     "metadata": {},
     "output_type": "execute_result"
    },
    {
     "data": {
      "image/png": "[encoded data removed]",
      "text/plain": [
       "<Figure size 1440x720 with 3 Axes>"
      ]
     },
     "metadata": {
      "needs_background": "light"
     },
     "output_type": "display_data"
    }
   ],
   "source": [
    "# Categorical plot \n",
    "klib.cat_plot (df, figsize=(20,10))"
   ]
  },
  {
   "cell_type": "code",
   "execution_count": null,
   "id": "boolean-anchor",
   "metadata": {},
   "outputs": [],
   "source": [
    "# save plot \n",
    "\n",
    "plot = klib.corr_plot (df, annot=False, figsize=(12,10))\n",
    "\n",
    "plot.figure.savefig('figure.pdf')"
   ]
  },
  {
   "cell_type": "code",
   "execution_count": null,
   "id": "induced-course",
   "metadata": {},
   "outputs": [],
   "source": []
  },
  {
   "cell_type": "code",
   "execution_count": 235,
   "id": "knowing-fetish",
   "metadata": {
    "ExecuteTime": {
     "end_time": "2021-04-06T21:00:04.210696Z",
     "start_time": "2021-04-06T21:00:04.204711Z"
    }
   },
   "outputs": [],
   "source": [
    "le = LabelEncoder()"
   ]
  },
  {
   "cell_type": "code",
   "execution_count": 247,
   "id": "christian-adjustment",
   "metadata": {
    "ExecuteTime": {
     "end_time": "2021-04-06T21:13:00.912154Z",
     "start_time": "2021-04-06T21:13:00.902216Z"
    }
   },
   "outputs": [
    {
     "data": {
      "text/html": [
       "<div>\n",
       "<style scoped>\n",
       "    .dataframe tbody tr th:only-of-type {\n",
       "        vertical-align: middle;\n",
       "    }\n",
       "\n",
       "    .dataframe tbody tr th {\n",
       "        vertical-align: top;\n",
       "    }\n",
       "\n",
       "    .dataframe thead th {\n",
       "        text-align: right;\n",
       "    }\n",
       "</style>\n",
       "<table border=\"1\" class=\"dataframe\">\n",
       "  <thead>\n",
       "    <tr style=\"text-align: right;\">\n",
       "      <th></th>\n",
       "      <th>Car Model</th>\n",
       "      <th>Mileage</th>\n",
       "      <th>Sell Price($)</th>\n",
       "      <th>Age(yrs)</th>\n",
       "    </tr>\n",
       "  </thead>\n",
       "  <tbody>\n",
       "    <tr>\n",
       "      <th>0</th>\n",
       "      <td>1</td>\n",
       "      <td>69000</td>\n",
       "      <td>18000</td>\n",
       "      <td>6</td>\n",
       "    </tr>\n",
       "    <tr>\n",
       "      <th>1</th>\n",
       "      <td>1</td>\n",
       "      <td>35000</td>\n",
       "      <td>34000</td>\n",
       "      <td>3</td>\n",
       "    </tr>\n",
       "    <tr>\n",
       "      <th>2</th>\n",
       "      <td>1</td>\n",
       "      <td>57000</td>\n",
       "      <td>26100</td>\n",
       "      <td>5</td>\n",
       "    </tr>\n",
       "    <tr>\n",
       "      <th>3</th>\n",
       "      <td>1</td>\n",
       "      <td>22500</td>\n",
       "      <td>40000</td>\n",
       "      <td>2</td>\n",
       "    </tr>\n",
       "    <tr>\n",
       "      <th>4</th>\n",
       "      <td>1</td>\n",
       "      <td>46000</td>\n",
       "      <td>31500</td>\n",
       "      <td>4</td>\n",
       "    </tr>\n",
       "    <tr>\n",
       "      <th>5</th>\n",
       "      <td>0</td>\n",
       "      <td>59000</td>\n",
       "      <td>29400</td>\n",
       "      <td>5</td>\n",
       "    </tr>\n",
       "    <tr>\n",
       "      <th>6</th>\n",
       "      <td>0</td>\n",
       "      <td>52000</td>\n",
       "      <td>32000</td>\n",
       "      <td>5</td>\n",
       "    </tr>\n",
       "    <tr>\n",
       "      <th>7</th>\n",
       "      <td>0</td>\n",
       "      <td>72000</td>\n",
       "      <td>19300</td>\n",
       "      <td>6</td>\n",
       "    </tr>\n",
       "    <tr>\n",
       "      <th>8</th>\n",
       "      <td>0</td>\n",
       "      <td>91000</td>\n",
       "      <td>12000</td>\n",
       "      <td>8</td>\n",
       "    </tr>\n",
       "    <tr>\n",
       "      <th>9</th>\n",
       "      <td>2</td>\n",
       "      <td>67000</td>\n",
       "      <td>22000</td>\n",
       "      <td>6</td>\n",
       "    </tr>\n",
       "    <tr>\n",
       "      <th>10</th>\n",
       "      <td>2</td>\n",
       "      <td>83000</td>\n",
       "      <td>20000</td>\n",
       "      <td>7</td>\n",
       "    </tr>\n",
       "    <tr>\n",
       "      <th>11</th>\n",
       "      <td>2</td>\n",
       "      <td>79000</td>\n",
       "      <td>21000</td>\n",
       "      <td>7</td>\n",
       "    </tr>\n",
       "    <tr>\n",
       "      <th>12</th>\n",
       "      <td>2</td>\n",
       "      <td>59000</td>\n",
       "      <td>33000</td>\n",
       "      <td>5</td>\n",
       "    </tr>\n",
       "  </tbody>\n",
       "</table>\n",
       "</div>"
      ],
      "text/plain": [
       "    Car Model  Mileage  Sell Price($)  Age(yrs)\n",
       "0           1    69000          18000         6\n",
       "1           1    35000          34000         3\n",
       "2           1    57000          26100         5\n",
       "3           1    22500          40000         2\n",
       "4           1    46000          31500         4\n",
       "5           0    59000          29400         5\n",
       "6           0    52000          32000         5\n",
       "7           0    72000          19300         6\n",
       "8           0    91000          12000         8\n",
       "9           2    67000          22000         6\n",
       "10          2    83000          20000         7\n",
       "11          2    79000          21000         7\n",
       "12          2    59000          33000         5"
      ]
     },
     "execution_count": 247,
     "metadata": {},
     "output_type": "execute_result"
    }
   ],
   "source": [
    "dfle = df\n",
    "dfle['Car Model'] = le.fit_transform(dfle['Car Model'])\n",
    "dfle"
   ]
  },
  {
   "cell_type": "code",
   "execution_count": 267,
   "id": "pointed-liberty",
   "metadata": {
    "ExecuteTime": {
     "end_time": "2021-04-06T21:32:23.268319Z",
     "start_time": "2021-04-06T21:32:23.255143Z"
    }
   },
   "outputs": [
    {
     "data": {
      "text/plain": [
       "array([18000, 34000, 26100, 40000, 31500, 29400, 32000, 19300, 12000,\n",
       "       22000, 20000, 21000, 33000], dtype=int64)"
      ]
     },
     "execution_count": 267,
     "metadata": {},
     "output_type": "execute_result"
    }
   ],
   "source": [
    "y = dfle['Sell Price($)'].values\n",
    "y"
   ]
  },
  {
   "cell_type": "code",
   "execution_count": 269,
   "id": "sudden-wallpaper",
   "metadata": {
    "ExecuteTime": {
     "end_time": "2021-04-06T21:33:02.645391Z",
     "start_time": "2021-04-06T21:33:02.631223Z"
    }
   },
   "outputs": [
    {
     "data": {
      "text/plain": [
       "Index(['Car Model', 'Mileage', 'Sell Price($)', 'Age(yrs)'], dtype='object')"
      ]
     },
     "execution_count": 269,
     "metadata": {},
     "output_type": "execute_result"
    }
   ],
   "source": [
    "dfle.columns"
   ]
  },
  {
   "cell_type": "code",
   "execution_count": 271,
   "id": "pleasant-tower",
   "metadata": {
    "ExecuteTime": {
     "end_time": "2021-04-06T21:34:28.898513Z",
     "start_time": "2021-04-06T21:34:28.879077Z"
    }
   },
   "outputs": [],
   "source": [
    "X = dfle[['Car Model','Mileage','Age(yrs)']].values"
   ]
  },
  {
   "cell_type": "code",
   "execution_count": 272,
   "id": "healthy-clothing",
   "metadata": {
    "ExecuteTime": {
     "end_time": "2021-04-06T21:34:47.517026Z",
     "start_time": "2021-04-06T21:34:47.502113Z"
    }
   },
   "outputs": [],
   "source": [
    "ct = ColumnTransformer([('Car Model', OneHotEncoder(), [0])], remainder = 'passthrough')"
   ]
  },
  {
   "cell_type": "code",
   "execution_count": 273,
   "id": "communist-particular",
   "metadata": {
    "ExecuteTime": {
     "end_time": "2021-04-06T21:35:06.045100Z",
     "start_time": "2021-04-06T21:35:06.030124Z"
    }
   },
   "outputs": [
    {
     "data": {
      "text/plain": [
       "array([[0.00e+00, 1.00e+00, 0.00e+00, 6.90e+04, 6.00e+00],\n",
       "       [0.00e+00, 1.00e+00, 0.00e+00, 3.50e+04, 3.00e+00],\n",
       "       [0.00e+00, 1.00e+00, 0.00e+00, 5.70e+04, 5.00e+00],\n",
       "       [0.00e+00, 1.00e+00, 0.00e+00, 2.25e+04, 2.00e+00],\n",
       "       [0.00e+00, 1.00e+00, 0.00e+00, 4.60e+04, 4.00e+00],\n",
       "       [1.00e+00, 0.00e+00, 0.00e+00, 5.90e+04, 5.00e+00],\n",
       "       [1.00e+00, 0.00e+00, 0.00e+00, 5.20e+04, 5.00e+00],\n",
       "       [1.00e+00, 0.00e+00, 0.00e+00, 7.20e+04, 6.00e+00],\n",
       "       [1.00e+00, 0.00e+00, 0.00e+00, 9.10e+04, 8.00e+00],\n",
       "       [0.00e+00, 0.00e+00, 1.00e+00, 6.70e+04, 6.00e+00],\n",
       "       [0.00e+00, 0.00e+00, 1.00e+00, 8.30e+04, 7.00e+00],\n",
       "       [0.00e+00, 0.00e+00, 1.00e+00, 7.90e+04, 7.00e+00],\n",
       "       [0.00e+00, 0.00e+00, 1.00e+00, 5.90e+04, 5.00e+00]])"
      ]
     },
     "execution_count": 273,
     "metadata": {},
     "output_type": "execute_result"
    }
   ],
   "source": [
    "X = ct.fit_transform(X)\n",
    "X"
   ]
  },
  {
   "cell_type": "code",
   "execution_count": 274,
   "id": "prospective-claim",
   "metadata": {
    "ExecuteTime": {
     "end_time": "2021-04-06T21:36:30.824197Z",
     "start_time": "2021-04-06T21:36:30.814226Z"
    }
   },
   "outputs": [
    {
     "data": {
      "text/plain": [
       "array([[1.00e+00, 0.00e+00, 6.90e+04, 6.00e+00],\n",
       "       [1.00e+00, 0.00e+00, 3.50e+04, 3.00e+00],\n",
       "       [1.00e+00, 0.00e+00, 5.70e+04, 5.00e+00],\n",
       "       [1.00e+00, 0.00e+00, 2.25e+04, 2.00e+00],\n",
       "       [1.00e+00, 0.00e+00, 4.60e+04, 4.00e+00],\n",
       "       [0.00e+00, 0.00e+00, 5.90e+04, 5.00e+00],\n",
       "       [0.00e+00, 0.00e+00, 5.20e+04, 5.00e+00],\n",
       "       [0.00e+00, 0.00e+00, 7.20e+04, 6.00e+00],\n",
       "       [0.00e+00, 0.00e+00, 9.10e+04, 8.00e+00],\n",
       "       [0.00e+00, 1.00e+00, 6.70e+04, 6.00e+00],\n",
       "       [0.00e+00, 1.00e+00, 8.30e+04, 7.00e+00],\n",
       "       [0.00e+00, 1.00e+00, 7.90e+04, 7.00e+00],\n",
       "       [0.00e+00, 1.00e+00, 5.90e+04, 5.00e+00]])"
      ]
     },
     "execution_count": 274,
     "metadata": {},
     "output_type": "execute_result"
    }
   ],
   "source": [
    "X =np.delete(X, 0, 1)\n",
    "X"
   ]
  },
  {
   "cell_type": "code",
   "execution_count": 275,
   "id": "subject-threshold",
   "metadata": {
    "ExecuteTime": {
     "end_time": "2021-04-06T21:36:49.383954Z",
     "start_time": "2021-04-06T21:36:49.369849Z"
    }
   },
   "outputs": [
    {
     "data": {
      "text/plain": [
       "LinearRegression()"
      ]
     },
     "execution_count": 275,
     "metadata": {},
     "output_type": "execute_result"
    }
   ],
   "source": [
    "model = LinearRegression()\n",
    "model.fit (X,y)"
   ]
  },
  {
   "cell_type": "code",
   "execution_count": 276,
   "id": "divine-failure",
   "metadata": {
    "ExecuteTime": {
     "end_time": "2021-04-06T21:37:08.021586Z",
     "start_time": "2021-04-06T21:37:08.007606Z"
    }
   },
   "outputs": [
    {
     "data": {
      "text/plain": [
       "array([18705.2723644 , 35286.78445645, 24479.19112468, 41245.76426391,\n",
       "       29882.98779056, 28023.6135243 , 30614.46818502, 21879.57266964,\n",
       "       12182.34562104, 26183.72387885, 18929.31674102, 20409.80511857,\n",
       "       30477.15426157])"
      ]
     },
     "execution_count": 276,
     "metadata": {},
     "output_type": "execute_result"
    }
   ],
   "source": [
    "model.predict(X)"
   ]
  },
  {
   "cell_type": "code",
   "execution_count": 277,
   "id": "ranking-tackle",
   "metadata": {
    "ExecuteTime": {
     "end_time": "2021-04-06T21:37:26.604054Z",
     "start_time": "2021-04-06T21:37:26.590365Z"
    }
   },
   "outputs": [
    {
     "data": {
      "text/plain": [
       "array([-4.28466659e+03,  2.45354074e+03, -3.70122094e-01, -1.33245363e+03])"
      ]
     },
     "execution_count": 277,
     "metadata": {},
     "output_type": "execute_result"
    }
   ],
   "source": [
    "model.coef_"
   ]
  },
  {
   "cell_type": "code",
   "execution_count": 278,
   "id": "nonprofit-centre",
   "metadata": {
    "ExecuteTime": {
     "end_time": "2021-04-06T21:37:45.177359Z",
     "start_time": "2021-04-06T21:37:45.164777Z"
    }
   },
   "outputs": [
    {
     "data": {
      "text/plain": [
       "56523.08523128357"
      ]
     },
     "execution_count": 278,
     "metadata": {},
     "output_type": "execute_result"
    }
   ],
   "source": [
    "model.intercept_"
   ]
  },
  {
   "cell_type": "code",
   "execution_count": 279,
   "id": "graduate-waters",
   "metadata": {
    "ExecuteTime": {
     "end_time": "2021-04-06T21:38:03.754893Z",
     "start_time": "2021-04-06T21:38:03.739896Z"
    }
   },
   "outputs": [
    {
     "data": {
      "text/plain": [
       "0.9417050937281083"
      ]
     },
     "execution_count": 279,
     "metadata": {},
     "output_type": "execute_result"
    }
   ],
   "source": [
    "model.score(X,y)"
   ]
  },
  {
   "cell_type": "code",
   "execution_count": 260,
   "id": "compliant-going",
   "metadata": {
    "ExecuteTime": {
     "end_time": "2021-04-06T21:23:06.552731Z",
     "start_time": "2021-04-06T21:23:06.534926Z"
    }
   },
   "outputs": [],
   "source": [
    "from collections import Counter"
   ]
  },
  {
   "cell_type": "code",
   "execution_count": 261,
   "id": "fallen-morrison",
   "metadata": {
    "ExecuteTime": {
     "end_time": "2021-04-06T21:23:25.189908Z",
     "start_time": "2021-04-06T21:23:25.174845Z"
    }
   },
   "outputs": [],
   "source": [
    "df_carprice= pd.read_csv ('D:/GitHub/py/ML/5_one_hot_encoding/Exercise/carprices.csv')"
   ]
  },
  {
   "cell_type": "code",
   "execution_count": 262,
   "id": "other-preliminary",
   "metadata": {
    "ExecuteTime": {
     "end_time": "2021-04-06T21:23:43.770546Z",
     "start_time": "2021-04-06T21:23:43.755433Z"
    }
   },
   "outputs": [
    {
     "name": "stdout",
     "output_type": "stream",
     "text": [
      "Counter({'BMW X5': 5, 'Audi A5': 4, 'Mercedez Benz C class': 4})\n"
     ]
    }
   ],
   "source": [
    "print (Counter (df_carprice['Car Model']))"
   ]
  },
  {
   "cell_type": "code",
   "execution_count": 285,
   "id": "theoretical-humanity",
   "metadata": {
    "ExecuteTime": {
     "end_time": "2021-04-06T21:43:28.225500Z",
     "start_time": "2021-04-06T21:43:28.217031Z"
    }
   },
   "outputs": [
    {
     "data": {
      "text/plain": [
       "array([34537.77647335])"
      ]
     },
     "execution_count": 285,
     "metadata": {},
     "output_type": "execute_result"
    }
   ],
   "source": [
    "# Price of mercedez benz that is 4 yr old with mileage 45000\n",
    "model.predict([[0,0, 45000, 4]])"
   ]
  },
  {
   "cell_type": "code",
   "execution_count": 287,
   "id": "spanish-doctrine",
   "metadata": {
    "ExecuteTime": {
     "end_time": "2021-04-06T21:44:20.115920Z",
     "start_time": "2021-04-06T21:44:20.110932Z"
    }
   },
   "outputs": [
    {
     "data": {
      "text/plain": [
       "array([30253.10988495])"
      ]
     },
     "execution_count": 287,
     "metadata": {},
     "output_type": "execute_result"
    }
   ],
   "source": [
    "model.predict([[1,0, 45000, 4]])"
   ]
  },
  {
   "cell_type": "code",
   "execution_count": 288,
   "id": "powered-involvement",
   "metadata": {
    "ExecuteTime": {
     "end_time": "2021-04-06T21:44:38.745604Z",
     "start_time": "2021-04-06T21:44:38.730440Z"
    }
   },
   "outputs": [
    {
     "data": {
      "text/plain": [
       "array([36991.31721062])"
      ]
     },
     "execution_count": 288,
     "metadata": {},
     "output_type": "execute_result"
    }
   ],
   "source": [
    "model.predict([[0,1, 45000, 4]])"
   ]
  },
  {
   "cell_type": "code",
   "execution_count": 286,
   "id": "fossil-there",
   "metadata": {
    "ExecuteTime": {
     "end_time": "2021-04-06T21:43:46.869987Z",
     "start_time": "2021-04-06T21:43:46.855792Z"
    }
   },
   "outputs": [
    {
     "data": {
      "text/plain": [
       "array([17818.95045785])"
      ]
     },
     "execution_count": 286,
     "metadata": {},
     "output_type": "execute_result"
    }
   ],
   "source": [
    "# Price of BMW X5 that is 7 yr old with mileage 86000\n",
    "model.predict([[0,1, 86000,7]])"
   ]
  },
  {
   "cell_type": "code",
   "execution_count": 289,
   "id": "regional-price",
   "metadata": {
    "ExecuteTime": {
     "end_time": "2021-04-06T21:45:07.193895Z",
     "start_time": "2021-04-06T21:45:07.184319Z"
    }
   },
   "outputs": [
    {
     "data": {
      "text/plain": [
       "array([15365.40972059])"
      ]
     },
     "execution_count": 289,
     "metadata": {},
     "output_type": "execute_result"
    }
   ],
   "source": [
    "model.predict([[0,0, 86000,7]])"
   ]
  },
  {
   "cell_type": "code",
   "execution_count": 290,
   "id": "owned-chrome",
   "metadata": {
    "ExecuteTime": {
     "end_time": "2021-04-06T21:45:25.817784Z",
     "start_time": "2021-04-06T21:45:25.803312Z"
    }
   },
   "outputs": [
    {
     "data": {
      "text/plain": [
       "array([11080.74313219])"
      ]
     },
     "execution_count": 290,
     "metadata": {},
     "output_type": "execute_result"
    }
   ],
   "source": [
    "model.predict([[1,0, 86000,7]])"
   ]
  },
  {
   "cell_type": "code",
   "execution_count": null,
   "id": "written-state",
   "metadata": {},
   "outputs": [],
   "source": []
  }
 ],
 "metadata": {
  "kernelspec": {
   "display_name": "Python 3",
   "language": "python",
   "name": "python3"
  },
  "language_info": {
   "codemirror_mode": {
    "name": "ipython",
    "version": 3
   },
   "file_extension": ".py",
   "mimetype": "text/x-python",
   "name": "python",
   "nbconvert_exporter": "python",
   "pygments_lexer": "ipython3",
   "version": "3.7.7"
  },
  "toc": {
   "base_numbering": 1,
   "nav_menu": {},
   "number_sections": true,
   "sideBar": true,
   "skip_h1_title": false,
   "title_cell": "Table of Contents",
   "title_sidebar": "Contents",
   "toc_cell": false,
   "toc_position": {
    "height": "calc(100% - 180px)",
    "left": "10px",
    "top": "150px",
    "width": "252.2px"
   },
   "toc_section_display": true,
   "toc_window_display": true
  },
  "varInspector": {
   "cols": {
    "lenName": 16,
    "lenType": 16,
    "lenVar": 40
   },
   "kernels_config": {
    "python": {
     "delete_cmd_postfix": "",
     "delete_cmd_prefix": "del ",
     "library": "var_list.py",
     "varRefreshCmd": "print(var_dic_list())"
    },
    "r": {
     "delete_cmd_postfix": ") ",
     "delete_cmd_prefix": "rm(",
     "library": "var_list.r",
     "varRefreshCmd": "cat(var_dic_list()) "
    }
   },
   "types_to_exclude": [
    "module",
    "function",
    "builtin_function_or_method",
    "instance",
    "_Feature"
   ],
   "window_display": false
  }
 },
 "nbformat": 4,
 "nbformat_minor": 5
}
